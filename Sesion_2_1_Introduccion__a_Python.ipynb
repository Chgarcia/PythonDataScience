{
  "cells": [
    {
      "cell_type": "markdown",
      "metadata": {
        "id": "view-in-github",
        "colab_type": "text"
      },
      "source": [
        "<a href=\"https://colab.research.google.com/github/Chgarcia/PythonDataScience/blob/main/Sesion_2_1_Introduccion__a_Python.ipynb\" target=\"_parent\"><img src=\"https://colab.research.google.com/assets/colab-badge.svg\" alt=\"Open In Colab\"/></a>"
      ]
    },
    {
      "cell_type": "markdown",
      "metadata": {
        "id": "9-pPSSUQWeqq"
      },
      "source": [
        "\n",
        "# <center>Bienvenidos a la INTRODUCCIÓN a PYTHON - G32 - 2024</center>\n",
        "\n"
      ]
    },
    {
      "cell_type": "markdown",
      "source": [
        "## 1. ¿Qué es Python?\n",
        "Python es un lenguaje de programación de alto nivel multiparadigma que permite:\n",
        "\n",
        "* Programación imperativa\n",
        "* Programación funcional\n",
        "* Programación orientada a objetos (Clase, Objeto, Metodo)"
      ],
      "metadata": {
        "id": "2-7j01PxMXJK"
      }
    },
    {
      "cell_type": "markdown",
      "metadata": {
        "id": "uX4OpLUPWd_E"
      },
      "source": [
        "## 2. Principales ventajas de Python\n",
        "\n",
        "* Es de código abierto (certificado por la OSI).\n",
        "* Es interpretable y compilable.\n",
        "* Es fácil de aprender gracias a que su sintaxis es bastante legible para los humanos.\n",
        "* Es un lenguaje maduro (29 años).\n",
        "* Es fácilmente extensible e integrable en otros lenguajes (C, java).\n",
        "* Esta mantenido por una gran comunidad de desarrolladores y hay multitud de recursos para su aprendizaje.\n"
      ]
    },
    {
      "cell_type": "markdown",
      "metadata": {
        "id": "vsbKPlanX0Mq"
      },
      "source": [
        "\n",
        "# <center> TIPOS DE DATOS </center>\n",
        "\n",
        "## 1. Tipos de datos primitivos simples\n",
        "\n",
        "### **Números enteros - Integer (int)**: Secuencia de dígitos (pueden incluir el - para negativos) que representan números enteros. **La coma (,) NO es un separador de miles.**\n",
        "```\n",
        "  Ejemplo. 0, -1, 2, 5, 7, 9\n",
        " ```\n",
        "### **Números décimales - Floating-point numbers (float)**: Secuencia de dígitos (pueden incluir el - para negativos y el . para decimales) que representan números décimales.\n",
        "```\n",
        "  Ejemplo. 3.1415, -2.3, 1.66, 2.3\n",
        " ```\n",
        "### **Cadenas (strings) (str)**: Secuencia de caracteres alfanuméricos que representan texto. Se escriben entre comillas simples o dobles.\n",
        "```\n",
        " Ejemplo. ‘Hola’, “Adiós”,'que tal 2'.\n",
        "```\n",
        "### **Booleanos (boolean) (bool)**: Contiene únicamente dos elementos True y False que representan los valores lógicos verdadero y falso respectivamente.\n",
        "```\n",
        " Ejemplo. True, False.\n",
        "```"
      ]
    },
    {
      "cell_type": "code",
      "execution_count": null,
      "metadata": {
        "id": "WDe5ZMmmYSGO",
        "colab": {
          "base_uri": "https://localhost:8080/"
        },
        "outputId": "db175112-f88b-4956-9174-f792b0866606"
      },
      "outputs": [
        {
          "output_type": "execute_result",
          "data": {
            "text/plain": [
              "int"
            ]
          },
          "metadata": {},
          "execution_count": 1
        }
      ],
      "source": [
        "# type() = Me devuelve como resultado el TIPO de dato que se consulta, dato que se encuentra dentro de los paretesis.\n",
        "# palabra resvarda = es una palabra que python ha tomado/reservado para realizar un accion.\n",
        "# Tambien indicar que las palabras reservadas se escriben en minuscula.\n",
        "# Case Sensetive = Respete las mayusculas y las minusculas\n",
        "\n",
        "#Números enteros\n",
        "# Conocer el valor y/o tipo de dato que se consulta.\n",
        "type(10)"
      ]
    },
    {
      "cell_type": "code",
      "execution_count": null,
      "metadata": {
        "id": "96rh3GnmJIPp",
        "colab": {
          "base_uri": "https://localhost:8080/"
        },
        "outputId": "9636cdbf-9585-47b2-c900-6666fe682fd6"
      },
      "outputs": [
        {
          "output_type": "execute_result",
          "data": {
            "text/plain": [
              "float"
            ]
          },
          "metadata": {},
          "execution_count": 2
        }
      ],
      "source": [
        "#Números decimales\n",
        "type(3.5)"
      ]
    },
    {
      "cell_type": "code",
      "execution_count": null,
      "metadata": {
        "id": "hlBEUULeYWnv",
        "colab": {
          "base_uri": "https://localhost:8080/"
        },
        "outputId": "5a4c02ed-5a31-4f17-ed7e-5f55530b2dc2"
      },
      "outputs": [
        {
          "output_type": "execute_result",
          "data": {
            "text/plain": [
              "str"
            ]
          },
          "metadata": {},
          "execution_count": 3
        }
      ],
      "source": [
        "#Cadena de texto\n",
        "type('El Hombre Araña')"
      ]
    },
    {
      "cell_type": "code",
      "source": [
        "#Cadena de texto\n",
        "type(\"El Hombre Araña\")"
      ],
      "metadata": {
        "id": "3AZ3ah_R2bUC",
        "colab": {
          "base_uri": "https://localhost:8080/"
        },
        "outputId": "9566dac8-cff0-43c5-8f13-7531bae57567"
      },
      "execution_count": null,
      "outputs": [
        {
          "output_type": "execute_result",
          "data": {
            "text/plain": [
              "str"
            ]
          },
          "metadata": {},
          "execution_count": 5
        }
      ]
    },
    {
      "cell_type": "code",
      "source": [
        "#Cadena de texto\n",
        "type('''El Hombre Araña''')"
      ],
      "metadata": {
        "colab": {
          "base_uri": "https://localhost:8080/"
        },
        "id": "onBlq1IELpn3",
        "outputId": "46b41b39-9cef-40db-f86d-845dbf3d68cd"
      },
      "execution_count": null,
      "outputs": [
        {
          "output_type": "execute_result",
          "data": {
            "text/plain": [
              "str"
            ]
          },
          "metadata": {},
          "execution_count": 6
        }
      ]
    },
    {
      "cell_type": "code",
      "execution_count": null,
      "metadata": {
        "id": "mZsLhbWCJIPq",
        "colab": {
          "base_uri": "https://localhost:8080/"
        },
        "outputId": "462b2a33-8436-4254-b67f-ced45719395f"
      },
      "outputs": [
        {
          "output_type": "execute_result",
          "data": {
            "text/plain": [
              "bool"
            ]
          },
          "metadata": {},
          "execution_count": 4
        }
      ],
      "source": [
        "# Booleanos (False/True)\n",
        "type(False)"
      ]
    },
    {
      "cell_type": "markdown",
      "metadata": {
        "id": "6pjsZvEYJIPq"
      },
      "source": [
        "## 2. Variables\n",
        "* **Definición técnica:** Una variable es el nombre asignado a una zona (casilla) de la **MEMORIA RAM de manera temporal** durante la ejecución de un programa con la finalidad de almacenar un dato/s o valor/es.\n",
        "\n",
        "* **Analogía:**  las variables son como cajas o contenedores en las que puedes poner diferentes cosas. Cada caja tiene un nombre para identificarla. En el caso de la programación, las variables son como cajas que guardan información, como números, palabras o cualquier otro dato."
      ]
    },
    {
      "cell_type": "code",
      "source": [
        "# palabra = 10, 10.5, 'dany' , True, [lista], (tupla), {diccionario}"
      ],
      "metadata": {
        "id": "1b6pxDv-z0ET"
      },
      "execution_count": null,
      "outputs": []
    },
    {
      "cell_type": "code",
      "source": [
        "palabra"
      ],
      "metadata": {
        "id": "UdjWqwGe0EuT"
      },
      "execution_count": null,
      "outputs": []
    },
    {
      "cell_type": "code",
      "execution_count": null,
      "metadata": {
        "id": "vwLiDYF0JIPr"
      },
      "outputs": [],
      "source": [
        "# Variables que actúan como \"cajas\" para almacenar información\n",
        "# '=' es un simbolo de asignacion\n",
        "\n",
        "dato = \"Juan Perez\"\n",
        "edad = 29\n",
        "pi = 3.1426\n",
        "respuesta = True\n",
        "apellido = 'Dany Churapa'"
      ]
    },
    {
      "cell_type": "code",
      "source": [
        "type(dato)\n",
        "type(edad)\n",
        "type(pi)\n",
        "type(respuesta)"
      ],
      "metadata": {
        "id": "xWxFtvBAvXzR",
        "colab": {
          "base_uri": "https://localhost:8080/"
        },
        "outputId": "b4574d6d-90fe-4fa3-eb81-9f9c15473cc1"
      },
      "execution_count": null,
      "outputs": [
        {
          "output_type": "execute_result",
          "data": {
            "text/plain": [
              "float"
            ]
          },
          "metadata": {},
          "execution_count": 13
        }
      ]
    },
    {
      "cell_type": "code",
      "execution_count": null,
      "metadata": {
        "id": "5WvWwDgyJIPs",
        "colab": {
          "base_uri": "https://localhost:8080/"
        },
        "outputId": "c71b5a6d-33f4-4b1e-ac19-75f528858e7c"
      },
      "outputs": [
        {
          "output_type": "stream",
          "name": "stdout",
          "text": [
            "<class 'str'>\n",
            "<class 'int'>\n",
            "<class 'float'>\n",
            "<class 'bool'>\n"
          ]
        }
      ],
      "source": [
        "# print = una funcion que imprime la informacion/dato de la varable\n",
        "print(type(dato))\n",
        "print(type(edad))\n",
        "print(type(pi))\n",
        "print(type(respuesta))"
      ]
    },
    {
      "cell_type": "code",
      "source": [
        "mario = 'Hola clase G32'"
      ],
      "metadata": {
        "id": "8gkl25w0Sjhh"
      },
      "execution_count": null,
      "outputs": []
    },
    {
      "cell_type": "code",
      "source": [
        "mario"
      ],
      "metadata": {
        "id": "N5SyuXUxxOId",
        "colab": {
          "base_uri": "https://localhost:8080/",
          "height": 35
        },
        "outputId": "7a732baa-aa74-4b4e-bdb4-cabbf729a92b"
      },
      "execution_count": null,
      "outputs": [
        {
          "output_type": "execute_result",
          "data": {
            "text/plain": [
              "'Hola clase G32'"
            ],
            "application/vnd.google.colaboratory.intrinsic+json": {
              "type": "string"
            }
          },
          "metadata": {},
          "execution_count": 17
        }
      ]
    },
    {
      "cell_type": "code",
      "source": [
        "# Como asignarla una valirable un valor numerico (edad) y que este dato se almacene como TEXTO\n",
        "edad = '30'\n",
        "'Hola acabas de cumplir' + edad"
      ],
      "metadata": {
        "id": "bW5k9kiDw9hH",
        "colab": {
          "base_uri": "https://localhost:8080/",
          "height": 35
        },
        "outputId": "546a6b60-7948-4215-82e2-ae0040a6bab1"
      },
      "execution_count": null,
      "outputs": [
        {
          "output_type": "execute_result",
          "data": {
            "text/plain": [
              "'Hola acabas de cumplir30'"
            ],
            "application/vnd.google.colaboratory.intrinsic+json": {
              "type": "string"
            }
          },
          "metadata": {},
          "execution_count": 22
        }
      ]
    },
    {
      "cell_type": "code",
      "source": [
        "edad = int(edad)"
      ],
      "metadata": {
        "id": "HZbJES4X6CCo"
      },
      "execution_count": null,
      "outputs": []
    },
    {
      "cell_type": "code",
      "source": [
        "type(edad)"
      ],
      "metadata": {
        "id": "tBgSaWTeUER9",
        "colab": {
          "base_uri": "https://localhost:8080/"
        },
        "outputId": "70c8388d-d91f-4320-833d-72992e77c51e"
      },
      "execution_count": null,
      "outputs": [
        {
          "output_type": "execute_result",
          "data": {
            "text/plain": [
              "int"
            ]
          },
          "metadata": {},
          "execution_count": 25
        }
      ]
    },
    {
      "cell_type": "code",
      "source": [
        "dany = 'Dia de hoy'"
      ],
      "metadata": {
        "id": "PTqzQY5a6xZI"
      },
      "execution_count": null,
      "outputs": []
    },
    {
      "cell_type": "markdown",
      "metadata": {
        "id": "tOzUJ7u8JIPs"
      },
      "source": [
        "> Reglas para crear variables:\n",
        "1. Nombres válidos: Los nombres de las variables deben ser válidos y seguir algunas reglas específicas:\n",
        "* El nombre debe comenzar con una letra (a-z, A-Z) o un guión bajo (_).\n",
        "* Luego del primer carácter, el nombre puede contener letras, números y guiones bajos.\n",
        "* Los nombres de las variables son sensibles a mayúsculas y minúsculas (por ejemplo, \"nombre\" y \"Nombre\" son diferentes variables).\n",
        "2. No utilizar palabras clave: No puedes usar palabras clave de Python como nombres de variables. Estas son palabras reservadas que Python utiliza para su propia sintaxis y funciones especiales. Algunas palabras clave comunes son: if, else, while, for, def, import, etc.\n",
        "N3. o utilizar caracteres especiales: Evita el uso de caracteres especiales como espacios, símbolos de puntuación o signos como parte del nombre de la variable. Solo se permiten letras, números y guiones bajos.\n",
        "4. No empezar con números: Los nombres de variables no pueden comenzar con un número, deben comenzar con una letra o un guión bajo."
      ]
    },
    {
      "cell_type": "markdown",
      "metadata": {
        "id": "i_3qTHg_Yg10"
      },
      "source": [
        "\n",
        "## 3. Entrada y Salida por Terminal\n",
        "\n",
        "### 3.1. Entrada por terminal (input())\n",
        "Para asignar a una variable un valor introducido por el usuario en la consola, se utiliza la instrucción"
      ]
    },
    {
      "cell_type": "code",
      "execution_count": null,
      "metadata": {
        "id": "8vQ6ugkvJIPt",
        "colab": {
          "base_uri": "https://localhost:8080/",
          "height": 53
        },
        "outputId": "8831b4cf-1e61-4384-eb4a-d767c2271862"
      },
      "outputs": [
        {
          "name": "stdout",
          "output_type": "stream",
          "text": [
            "10.3\n"
          ]
        },
        {
          "output_type": "execute_result",
          "data": {
            "text/plain": [
              "'10.3'"
            ],
            "application/vnd.google.colaboratory.intrinsic+json": {
              "type": "string"
            }
          },
          "metadata": {},
          "execution_count": 41
        }
      ],
      "source": [
        "# Paso 1: Función input permite ingresar una respuesta como un formulario\n",
        "# El valor que yo ingrese dentro del input(), es valor de tipo CADENA (str)\n",
        "input()"
      ]
    },
    {
      "cell_type": "code",
      "execution_count": null,
      "metadata": {
        "id": "df738ym0JIPt",
        "colab": {
          "base_uri": "https://localhost:8080/",
          "height": 53
        },
        "outputId": "05cd9748-de1a-4350-891d-0f8357f71c3b"
      },
      "outputs": [
        {
          "name": "stdout",
          "output_type": "stream",
          "text": [
            "¿Cuál es tu edad? 30\n"
          ]
        },
        {
          "output_type": "execute_result",
          "data": {
            "text/plain": [
              "'30'"
            ],
            "application/vnd.google.colaboratory.intrinsic+json": {
              "type": "string"
            }
          },
          "metadata": {},
          "execution_count": 42
        }
      ],
      "source": [
        "# Paso 2: Puedes incluir un mensaje en el input para facilitar al usuario del input\n",
        "input('¿Cuál es tu edad? ')"
      ]
    },
    {
      "cell_type": "code",
      "execution_count": null,
      "metadata": {
        "id": "sFYhMccKJIPt",
        "colab": {
          "base_uri": "https://localhost:8080/"
        },
        "outputId": "388d84cd-e52f-494e-b36d-b2b5009f62f3"
      },
      "outputs": [
        {
          "name": "stdout",
          "output_type": "stream",
          "text": [
            "¿Cuál es tu edad? 30\n"
          ]
        }
      ],
      "source": [
        "# Paso 3: Podemos guardar la respuesta ingresado en una variable\n",
        "\n",
        "edad = input('¿Cuál es tu edad? ') # edad = 30"
      ]
    },
    {
      "cell_type": "code",
      "source": [
        "edad"
      ],
      "metadata": {
        "id": "9hVKbMoN4hG7",
        "colab": {
          "base_uri": "https://localhost:8080/",
          "height": 35
        },
        "outputId": "e277c0aa-70a2-4919-8f51-41ed978a1795"
      },
      "execution_count": null,
      "outputs": [
        {
          "output_type": "execute_result",
          "data": {
            "text/plain": [
              "'30'"
            ],
            "application/vnd.google.colaboratory.intrinsic+json": {
              "type": "string"
            }
          },
          "metadata": {},
          "execution_count": 44
        }
      ]
    },
    {
      "cell_type": "code",
      "source": [
        "type(edad)"
      ],
      "metadata": {
        "id": "Gh_215LM0SSZ",
        "colab": {
          "base_uri": "https://localhost:8080/"
        },
        "outputId": "1b355e6a-94ad-4d17-f81d-8e2490c4085c"
      },
      "execution_count": null,
      "outputs": [
        {
          "output_type": "execute_result",
          "data": {
            "text/plain": [
              "str"
            ]
          },
          "metadata": {},
          "execution_count": 47
        }
      ]
    },
    {
      "cell_type": "code",
      "execution_count": null,
      "metadata": {
        "id": "QYo1Q7y0JIPu",
        "colab": {
          "base_uri": "https://localhost:8080/"
        },
        "outputId": "18fd5a99-fca0-40c5-eab5-cd502c1c1333"
      },
      "outputs": [
        {
          "output_type": "stream",
          "name": "stdout",
          "text": [
            "30\n"
          ]
        }
      ],
      "source": [
        "# Paso 4: Podemos utilizar la respuesta\n",
        "print(edad)"
      ]
    },
    {
      "cell_type": "code",
      "execution_count": null,
      "metadata": {
        "id": "roGackE5Y6L0"
      },
      "outputs": [],
      "source": [
        "# IMPORTANTE: La respuesta de INPUT siempre es de tipo STR\n",
        "type(edad)"
      ]
    },
    {
      "cell_type": "code",
      "source": [
        "#Forma 1 de almacenar informacion en enteros\n",
        "edad = input('¿Cuál es tu edad? ')\n",
        "# print('hola sabemos que vas a cumplir', edad, 'bla bla bla bla')\n",
        "\n",
        "edad = int(edad)\n",
        "fec_nac = 2024 - edad\n",
        "\n",
        "fec_nac"
      ],
      "metadata": {
        "id": "FWUQqIRP9H1R",
        "colab": {
          "base_uri": "https://localhost:8080/"
        },
        "outputId": "eceb8c29-db53-4733-e35c-774dc2eab499"
      },
      "execution_count": null,
      "outputs": [
        {
          "name": "stdout",
          "output_type": "stream",
          "text": [
            "¿Cuál es tu edad? 30\n"
          ]
        },
        {
          "output_type": "execute_result",
          "data": {
            "text/plain": [
              "1994"
            ]
          },
          "metadata": {},
          "execution_count": 51
        }
      ]
    },
    {
      "cell_type": "code",
      "source": [
        "#Forma 2 de almacenar informacion en enteros\n",
        "edad = int(input('¿Cuál es tu edad? '))\n",
        "fec_nac = 2024 - edad\n",
        "\n",
        "fec_nac"
      ],
      "metadata": {
        "id": "v9vWb8Ht5sZP",
        "colab": {
          "base_uri": "https://localhost:8080/"
        },
        "outputId": "38c2fb12-acb8-4126-c7fc-de85579c3cdd"
      },
      "execution_count": null,
      "outputs": [
        {
          "name": "stdout",
          "output_type": "stream",
          "text": [
            "¿Cuál es tu edad? 30\n"
          ]
        },
        {
          "output_type": "execute_result",
          "data": {
            "text/plain": [
              "1994"
            ]
          },
          "metadata": {},
          "execution_count": 52
        }
      ]
    },
    {
      "cell_type": "code",
      "source": [
        "#Forma 1 para florante/decimales\n",
        "pi = input('Ingrese el valor de pi? ')\n",
        "pi = float(pi)\n",
        "pi"
      ],
      "metadata": {
        "id": "DS6NsLSo9cUg",
        "colab": {
          "base_uri": "https://localhost:8080/"
        },
        "outputId": "bcf143e3-dba4-4440-f12d-9bbe4c766f6d"
      },
      "execution_count": null,
      "outputs": [
        {
          "name": "stdout",
          "output_type": "stream",
          "text": [
            "Ingrese el valor de pi? 3.1415\n"
          ]
        },
        {
          "output_type": "execute_result",
          "data": {
            "text/plain": [
              "3.1415"
            ]
          },
          "metadata": {},
          "execution_count": 53
        }
      ]
    },
    {
      "cell_type": "code",
      "source": [
        "#Forma 2 para florante/decimales\n",
        "pi = float(input('Ingrese el valor de pi? '))\n",
        "pi"
      ],
      "metadata": {
        "id": "ASTTTSfv6GSj",
        "colab": {
          "base_uri": "https://localhost:8080/"
        },
        "outputId": "0d21e2ba-cc34-45f9-a7e5-c8cf18d81f21"
      },
      "execution_count": null,
      "outputs": [
        {
          "name": "stdout",
          "output_type": "stream",
          "text": [
            "Ingrese el valor de pi? 3.141516\n"
          ]
        },
        {
          "output_type": "execute_result",
          "data": {
            "text/plain": [
              "3.141516"
            ]
          },
          "metadata": {},
          "execution_count": 54
        }
      ]
    },
    {
      "cell_type": "code",
      "source": [
        "type(pi)"
      ],
      "metadata": {
        "id": "p78Oao9o9qaJ",
        "colab": {
          "base_uri": "https://localhost:8080/"
        },
        "outputId": "a3484e69-7cf3-441c-fcf3-46aa0bd543f8"
      },
      "execution_count": null,
      "outputs": [
        {
          "output_type": "execute_result",
          "data": {
            "text/plain": [
              "float"
            ]
          },
          "metadata": {},
          "execution_count": 55
        }
      ]
    },
    {
      "cell_type": "code",
      "execution_count": null,
      "metadata": {
        "id": "dh-7V-BVJIPu"
      },
      "outputs": [],
      "source": [
        "# Adicional: Si deseas CONVERTIR un texto en número seguir los siguientes pasos:\n",
        "edad = int(input('¿Cuál es tu edad? '))"
      ]
    },
    {
      "cell_type": "code",
      "source": [
        "edad = input('¿Cuál es tu edad?')"
      ],
      "metadata": {
        "id": "2kyqIjvC1Kc9"
      },
      "execution_count": null,
      "outputs": []
    },
    {
      "cell_type": "code",
      "source": [
        "edad = int(edad)"
      ],
      "metadata": {
        "id": "sUe9ssZX1Un1"
      },
      "execution_count": null,
      "outputs": []
    },
    {
      "cell_type": "code",
      "source": [
        "type(edad)"
      ],
      "metadata": {
        "id": "lmmbQGw71jY1"
      },
      "execution_count": null,
      "outputs": []
    },
    {
      "cell_type": "markdown",
      "metadata": {
        "id": "Lw_tu5qcZJpt"
      },
      "source": [
        "\n",
        "### 3.2. Salida por terminal (print())\n",
        "Para mostrar un dato por la terminal se utiliza la instrucción\n",
        "\n",
        "```\n",
        "print(dato1, ..., sep=' ', end='\\n', file=sys.stdout)\n",
        "```\n",
        "\n",
        "donde\n",
        "\n",
        "* dato1, ... son los datos a imprimir y pueden indicarse tantos como se quieran separados **por comas.**\n",
        "* sep establece el separador entre los datos, que por defecto es un espacio en blanco ' '.\n",
        "* end indica la cadena final de la impresión, que por defecto es un cambio de línea \\n.\n",
        "* file indica la dirección del flujo de salida, que por defecto es la salida estándar sys.stdout.\n",
        "\n",
        "Por defecto el **separador** es un espacio en blanco,\n",
        "Por defecto al **terminar un print**, hace un salto de linea (enter)"
      ]
    },
    {
      "cell_type": "code",
      "source": [
        "print('Hola World')"
      ],
      "metadata": {
        "id": "CEfm-VrqA00X",
        "colab": {
          "base_uri": "https://localhost:8080/"
        },
        "outputId": "52d9fddf-4115-40af-894e-94842415fabd"
      },
      "execution_count": 1,
      "outputs": [
        {
          "output_type": "stream",
          "name": "stdout",
          "text": [
            "Hola World\n"
          ]
        }
      ]
    },
    {
      "cell_type": "code",
      "source": [
        "print('Hola World','hoy es lunes','que divertido el curso')"
      ],
      "metadata": {
        "id": "o_xhYUMnA1d3",
        "colab": {
          "base_uri": "https://localhost:8080/"
        },
        "outputId": "ecb748dd-81fe-4939-e2b3-d3acfb1c28f4"
      },
      "execution_count": 2,
      "outputs": [
        {
          "output_type": "stream",
          "name": "stdout",
          "text": [
            "Hola World hoy es lunes que divertido el curso\n"
          ]
        }
      ]
    },
    {
      "cell_type": "code",
      "source": [
        "dia = 'hoy es lunes'\n",
        "como_vamos = 'que divertido el curso'\n",
        "print('Hola World',dia,como_vamos, sep = '|')"
      ],
      "metadata": {
        "id": "dm6vosgCBuA8",
        "colab": {
          "base_uri": "https://localhost:8080/"
        },
        "outputId": "cbe97092-4237-4b88-adaf-b944db50c6f1"
      },
      "execution_count": 3,
      "outputs": [
        {
          "output_type": "stream",
          "name": "stdout",
          "text": [
            "Hola World|hoy es lunes|que divertido el curso\n"
          ]
        }
      ]
    },
    {
      "cell_type": "code",
      "source": [
        "dia = 'hoy es jueves'\n",
        "como_vamos = 'que divertido el curso'\n",
        "print('Hola World',  dia, como_vamos, sep = '&')"
      ],
      "metadata": {
        "id": "pdQmue2bA17m",
        "colab": {
          "base_uri": "https://localhost:8080/"
        },
        "outputId": "7d0d2aeb-8950-472c-b1f5-1eb666f47247"
      },
      "execution_count": 4,
      "outputs": [
        {
          "output_type": "stream",
          "name": "stdout",
          "text": [
            "Hola World&hoy es jueves&que divertido el curso\n"
          ]
        }
      ]
    },
    {
      "cell_type": "code",
      "source": [
        "dia = 'hoy es lunes'\n",
        "como_vamos = 'que divertido el curso'\n",
        "print('Hola World',  dia, como_vamos, '!,', sep = '|', end = ' ')\n",
        "print('Ya quiero','resolver ejercicios')"
      ],
      "metadata": {
        "id": "l6Y6IAv7CA0Q",
        "colab": {
          "base_uri": "https://localhost:8080/"
        },
        "outputId": "7487caa9-39be-4f45-ca9a-ff1be27093b5"
      },
      "execution_count": 5,
      "outputs": [
        {
          "output_type": "stream",
          "name": "stdout",
          "text": [
            "Hola World|hoy es lunes|que divertido el curso|!, Ya quiero resolver ejercicios\n"
          ]
        }
      ]
    },
    {
      "cell_type": "code",
      "source": [
        "dia = 'hoy es jueves'\n",
        "como_vamos = 'que divertido el curso'\n",
        "print('Hola World',  dia, como_vamos, sep = '&', end = '!, ')\n",
        "print('Ya quiero resolver ejercicios')"
      ],
      "metadata": {
        "id": "3ecwtjRfCFeK",
        "colab": {
          "base_uri": "https://localhost:8080/"
        },
        "outputId": "2536891a-74cf-4815-9f8c-bbc4d29b9fb4"
      },
      "execution_count": null,
      "outputs": [
        {
          "output_type": "stream",
          "name": "stdout",
          "text": [
            "Hola World&hoy es jueves&que divertido el curso!, Ya quiero resolver ejercicios\n"
          ]
        }
      ]
    },
    {
      "cell_type": "code",
      "source": [
        "nombre = 'Dany Churapa'\n",
        "legal = 'que divertido el curso'\n",
        "fecha = '04/11/2024'\n",
        "print('Hola estiamdo cliente',nombre, 'le envio su cronograma a la fecha',fecha,  sep = '|', end = ' *!, ')\n",
        "print(legal, 'Ya quiero resolver ejercicios')"
      ],
      "metadata": {
        "id": "Qije4q-h-FYi",
        "colab": {
          "base_uri": "https://localhost:8080/"
        },
        "outputId": "8938e6a1-b720-4a47-dff8-34e376238fdd"
      },
      "execution_count": null,
      "outputs": [
        {
          "output_type": "stream",
          "name": "stdout",
          "text": [
            "Hola estiamdo cliente|Dany Churapa|le envio su cronograma a la fecha|04/11/2024 *!, que divertido el curso Ya quiero resolver ejercicios\n"
          ]
        }
      ]
    },
    {
      "cell_type": "code",
      "source": [
        "dia = 'hoy es jueves'\n",
        "como_vamos = 'que divertido el curso'\n",
        "print('Hola World',  dia, como_vamos, sep = '&', end = '!, ')\n",
        "print('Ya quiero resolver ejercicios', end = ' ')\n",
        "print('Salimos al break en 5 minutos')"
      ],
      "metadata": {
        "id": "9LAG0onnCFwL",
        "colab": {
          "base_uri": "https://localhost:8080/"
        },
        "outputId": "f126d282-ac2a-409d-83e3-d84650a3a9cc"
      },
      "execution_count": null,
      "outputs": [
        {
          "output_type": "stream",
          "name": "stdout",
          "text": [
            "Hola World&hoy es jueves&que divertido el curso!, Ya quiero resolver ejercicios Salimos al break en 5 minutos\n"
          ]
        }
      ]
    },
    {
      "cell_type": "code",
      "source": [
        "print(\"Me apetece cenar en McDonal's\")"
      ],
      "metadata": {
        "id": "0j0W8Z0DCF91",
        "colab": {
          "base_uri": "https://localhost:8080/"
        },
        "outputId": "6673fc62-b2d3-40e4-f5c2-77d2be27bc3b"
      },
      "execution_count": null,
      "outputs": [
        {
          "output_type": "stream",
          "name": "stdout",
          "text": [
            "Me apetece cenar en McDonal's\n"
          ]
        }
      ]
    },
    {
      "cell_type": "code",
      "execution_count": null,
      "metadata": {
        "id": "Hf_QguyWZgIJ"
      },
      "outputs": [],
      "source": [
        "print(\"Hola\")"
      ]
    },
    {
      "cell_type": "code",
      "execution_count": null,
      "metadata": {
        "id": "cocYVevYZm-k",
        "colab": {
          "base_uri": "https://localhost:8080/"
        },
        "outputId": "e40f08a3-61a4-44fe-eef6-d8d80419c6a9"
      },
      "outputs": [
        {
          "output_type": "stream",
          "name": "stdout",
          "text": [
            "El valor de pi es 3.1415 True\n"
          ]
        }
      ],
      "source": [
        "#print, me permite concatenar valores de distintos tipos.\n",
        "print('El valor de pi es',3.1415, True)"
      ]
    },
    {
      "cell_type": "code",
      "execution_count": null,
      "metadata": {
        "id": "3ZYGVDFpZqJE",
        "colab": {
          "base_uri": "https://localhost:8080/"
        },
        "outputId": "3997189a-e06a-47f0-e215-df93583b7436"
      },
      "outputs": [
        {
          "output_type": "stream",
          "name": "stdout",
          "text": [
            "Hola Luis\n"
          ]
        }
      ],
      "source": [
        "nombre = 'Luis'\n",
        "print('Hola',nombre)"
      ]
    },
    {
      "cell_type": "code",
      "execution_count": null,
      "metadata": {
        "id": "u_YYvR3hZ3Cx",
        "colab": {
          "base_uri": "https://localhost:8080/"
        },
        "outputId": "69660d42-697c-4d03-c0f5-dde8115e1ec9"
      },
      "outputs": [
        {
          "output_type": "stream",
          "name": "stdout",
          "text": [
            "Hola Luis Chavez este es un ejemplo\n"
          ]
        }
      ],
      "source": [
        "nombre = 'Luis Chavez'\n",
        "print('Hola', nombre, 'este es un ejemplo')"
      ]
    },
    {
      "cell_type": "code",
      "source": [
        "nombre = 'Luis Chavez'\n",
        "print('Hola', nombre, 'este es un ejemplo', sep =';')"
      ],
      "metadata": {
        "id": "dL1fc46t37DZ",
        "colab": {
          "base_uri": "https://localhost:8080/"
        },
        "outputId": "c8049256-ab4f-4186-c0ae-c3773e39e3e4"
      },
      "execution_count": null,
      "outputs": [
        {
          "output_type": "stream",
          "name": "stdout",
          "text": [
            "Hola;Luis Chavez;este es un ejemplo\n"
          ]
        }
      ]
    },
    {
      "cell_type": "code",
      "source": [
        "# Simbolo de salto de linea \\n\n",
        "nombre = 'Luis Chavez'\n",
        "print('Hola', nombre, 'este es un ejemplo,','Bienvenidos al curso de data science and IA con python')\n",
        "print('Bienvenidos al curso de data science and IA con python')"
      ],
      "metadata": {
        "id": "-k__sYHn4j2b",
        "colab": {
          "base_uri": "https://localhost:8080/"
        },
        "outputId": "89ade3cc-7d0f-4216-b1a9-4cc2c50520d2"
      },
      "execution_count": null,
      "outputs": [
        {
          "output_type": "stream",
          "name": "stdout",
          "text": [
            "Hola Luis Chavez este es un ejemplo, Bienvenidos al curso de data science and IA con python\n",
            "Bienvenidos al curso de data science and IA con python\n"
          ]
        }
      ]
    },
    {
      "cell_type": "code",
      "source": [
        "# Simbolo de salto de linea \\n\n",
        "nombre = 'Luis Chavez'\n",
        "print('Hola', nombre, 'queremos desearte un feliz navidad', sep = '|', end='!, ')\n",
        "print('Por lo tanto te daremos un super descuento en zapatilas', end=';')\n",
        "print('Te animas a vivir la experiencia en nuestras tiendas? ')"
      ],
      "metadata": {
        "id": "ND6xbyZh44yJ",
        "outputId": "93eb0f54-4b6a-491f-9e50-210f6c6c18b7",
        "colab": {
          "base_uri": "https://localhost:8080/"
        }
      },
      "execution_count": 6,
      "outputs": [
        {
          "output_type": "stream",
          "name": "stdout",
          "text": [
            "Hola|Luis Chavez|queremos desearte un feliz navidad!, Por lo tanto te daremos un super descuento en zapatilas;Te animas a vivir la experiencia en nuestras tiendas? \n"
          ]
        }
      ]
    },
    {
      "cell_type": "code",
      "source": [
        "# Simbolo de salto de linea \\n\n",
        "nombre = 'Luis Chavez'\n",
        "print('Hola', nombre, 'queremos desearte un feliz dia de la madre','!, ','Por lo tanto te daremos un super descuento en zapatilas')"
      ],
      "metadata": {
        "id": "gk-DUh7s5hZS",
        "outputId": "17cece00-f890-4a2f-f846-c8ff8dfe4784",
        "colab": {
          "base_uri": "https://localhost:8080/"
        }
      },
      "execution_count": 7,
      "outputs": [
        {
          "output_type": "stream",
          "name": "stdout",
          "text": [
            "Hola Luis Chavez queremos desearte un feliz dia de la madre !,  Por lo tanto te daremos un super descuento en zapatilas\n"
          ]
        }
      ]
    },
    {
      "cell_type": "code",
      "execution_count": null,
      "metadata": {
        "id": "ahQpNqp3ZwJ9",
        "colab": {
          "base_uri": "https://localhost:8080/"
        },
        "outputId": "153a3e7d-bdfd-4585-b165-3921f61c9893"
      },
      "outputs": [
        {
          "output_type": "stream",
          "name": "stdout",
          "text": [
            "Hola|Alf! Continuación, Dany Aca terminar el texto\n",
            "Hola|Alf! Continuación, Hola|Alf! Continuación, "
          ]
        }
      ],
      "source": [
        "# @title Texto de título predeterminado\n",
        "# Simbolo de salto de linea \\n\n",
        "nombre1 ='Alf'\n",
        "nombre2 = 'Dany'\n",
        "print('Hola', nombre1, end='! ', sep='|')\n",
        "print('Continuación', end=', ')\n",
        "print(nombre2,'Aca terminar el texto')\n",
        "print('Hola', nombre1, end='! ', sep='|')\n",
        "print('Continuación', end=', ')\n",
        "print('Hola', nombre1, end='! ', sep='|')\n",
        "print('Continuación', end=', ')"
      ]
    },
    {
      "cell_type": "code",
      "source": [],
      "metadata": {
        "id": "HvOoUgvgEKJZ"
      },
      "execution_count": null,
      "outputs": []
    },
    {
      "cell_type": "markdown",
      "metadata": {
        "id": "jF3Lg_9Wa710"
      },
      "source": [
        "# <center>  OPERADORES ARITMÉTICOS </center>\n",
        "## 1. Operadores aritméticos:\n",
        "* Suma +\n",
        "* Resta -\n",
        "* Producto *\n",
        "* Cociente /\n",
        "* Cociente división entera //\n",
        "* Resto división entera %\n",
        "* Potencia **"
      ]
    },
    {
      "cell_type": "markdown",
      "metadata": {
        "id": "pPolSKwsbbhn"
      },
      "source": [
        "**NOTA:** Orden de prioridad de evaluación:\n",
        "\n",
        "1. Funciones predefinidas (sum, minus, avg, mean, median, mod).\n",
        "2.\tPotencias\n",
        "3.\tProductos y cocientes\n",
        "4.  Cociente division entera y resto division entera\n",
        "5.\tSumas y restas\n",
        "\n",
        "Se puede saltar el orden de evaluación utilizando paréntesis ( )."
      ]
    },
    {
      "cell_type": "code",
      "execution_count": null,
      "metadata": {
        "id": "78miZjFTbr3t",
        "colab": {
          "base_uri": "https://localhost:8080/"
        },
        "outputId": "7aee53fb-4663-46bb-9d63-85f9a3f0fe1e"
      },
      "outputs": [
        {
          "output_type": "execute_result",
          "data": {
            "text/plain": [
              "5"
            ]
          },
          "metadata": {},
          "execution_count": 92
        }
      ],
      "source": [
        "sum_2_numeros = 2+3\n",
        "sum_2_numeros"
      ]
    },
    {
      "cell_type": "code",
      "execution_count": null,
      "metadata": {
        "id": "NV9V-G5pbtmw",
        "colab": {
          "base_uri": "https://localhost:8080/"
        },
        "outputId": "1f242e9e-4114-4b49-d20f-20f75e6fb7ca"
      },
      "outputs": [
        {
          "output_type": "execute_result",
          "data": {
            "text/plain": [
              "-10"
            ]
          },
          "metadata": {},
          "execution_count": 93
        }
      ],
      "source": [
        "5*-2"
      ]
    },
    {
      "cell_type": "code",
      "execution_count": null,
      "metadata": {
        "id": "3-C0aGCZbvOm",
        "colab": {
          "base_uri": "https://localhost:8080/"
        },
        "outputId": "d090db2b-ea5d-4bb2-d0a0-544198a76dbe"
      },
      "outputs": [
        {
          "output_type": "execute_result",
          "data": {
            "text/plain": [
              "2.5"
            ]
          },
          "metadata": {},
          "execution_count": 94
        }
      ],
      "source": [
        "5/2"
      ]
    },
    {
      "cell_type": "code",
      "execution_count": null,
      "metadata": {
        "id": "lyFHtjGPbxK3",
        "colab": {
          "base_uri": "https://localhost:8080/"
        },
        "outputId": "bc8a7f8d-0007-4a02-e890-876771c9b579"
      },
      "outputs": [
        {
          "output_type": "execute_result",
          "data": {
            "text/plain": [
              "2"
            ]
          },
          "metadata": {},
          "execution_count": 95
        }
      ],
      "source": [
        "# Cociente de division entera\n",
        "5//2"
      ]
    },
    {
      "cell_type": "code",
      "source": [
        "#Resto de diviion entera\n",
        "5%2"
      ],
      "metadata": {
        "id": "l8g46NtEgYLx",
        "colab": {
          "base_uri": "https://localhost:8080/"
        },
        "outputId": "8e88bfe9-fc16-466d-e481-9df702a2a451"
      },
      "execution_count": null,
      "outputs": [
        {
          "output_type": "execute_result",
          "data": {
            "text/plain": [
              "1"
            ]
          },
          "metadata": {},
          "execution_count": 96
        }
      ]
    },
    {
      "cell_type": "code",
      "source": [
        "# 8, -6, -7\n",
        "18//-3"
      ],
      "metadata": {
        "id": "trwqJ3W_KCoj",
        "colab": {
          "base_uri": "https://localhost:8080/"
        },
        "outputId": "c01f031e-51e7-453f-c150-2b8562abb530"
      },
      "execution_count": null,
      "outputs": [
        {
          "output_type": "execute_result",
          "data": {
            "text/plain": [
              "-6"
            ]
          },
          "metadata": {},
          "execution_count": 97
        }
      ]
    },
    {
      "cell_type": "code",
      "execution_count": null,
      "metadata": {
        "id": "AGGwZNznbzDS",
        "colab": {
          "base_uri": "https://localhost:8080/"
        },
        "outputId": "d6e7b6e0-91b1-4f48-cf58-ab72c9b09de5"
      },
      "outputs": [
        {
          "output_type": "execute_result",
          "data": {
            "text/plain": [
              "25"
            ]
          },
          "metadata": {},
          "execution_count": 99
        }
      ],
      "source": [
        "#Primero se desarrollan los parentesis\n",
        "(2+3)**2"
      ]
    },
    {
      "cell_type": "markdown",
      "source": [
        "**NOTA:** Orden de prioridad de evaluación:\n",
        "\n",
        "1. Funciones predefinidas (sum, minus, avg, mean, median, mod).\n",
        "2.\tPotencias\n",
        "3.\tProductos y cocientes\n",
        "4.  Cociente division entera y resto division entera\n",
        "5.\tSumas y restas\n",
        "\n",
        "Se puede saltar el orden de evaluación utilizando paréntesis ( )."
      ],
      "metadata": {
        "id": "CYirV24dLpsD"
      }
    },
    {
      "cell_type": "markdown",
      "source": [
        "Material de apoyo, sobre la doble negatividad al volverse positivo.\n",
        "\n",
        "compañeros les comparto un material que había hecho sobre por que doble negativo se vuelve positivo https://www.canva.com/design/DAGXzm74r-I/rWe7fH48TTLuIyiDCRNshg/view?utm_content=DAGXzm74r-I&utm_campaign=designshare&utm_medium=link&utm_source=edito"
      ],
      "metadata": {
        "id": "w4WMOVpzevzL"
      }
    },
    {
      "cell_type": "code",
      "source": [
        "# Cociente división entera (30, -4, 6, 4, -6)\n",
        "# '**' = potencia\n",
        "# '//' = cociente de division entera\n",
        "\n",
        "(2+3)*-2+5**2//4\n",
        "#5*-2+5**2//4\n",
        "#5*-2+25//4\n",
        "#5*-2+25//4\n",
        "#-10+25//4\n",
        "#-10+6\n",
        "#-4"
      ],
      "metadata": {
        "id": "xsmzwuSghSFx",
        "colab": {
          "base_uri": "https://localhost:8080/"
        },
        "outputId": "48f9637c-9793-4edb-d046-bf5494a27f17"
      },
      "execution_count": null,
      "outputs": [
        {
          "output_type": "execute_result",
          "data": {
            "text/plain": [
              "-4"
            ]
          },
          "metadata": {},
          "execution_count": 103
        }
      ]
    },
    {
      "cell_type": "code",
      "source": [
        "5**2//4*(2-3)*-2+5%2\n",
        "#5**2//4*-1*-2+5%2\n",
        "#25//4*-1*-2+5%2\n",
        "#6*-1*-2+5%2\n",
        "#6*-1*-2+1\n",
        "#6*-1*-2+1\n",
        "#-6*-2+1\n",
        "#12+1\n",
        "#13"
      ],
      "metadata": {
        "id": "WUq7nrMdi4SL",
        "colab": {
          "base_uri": "https://localhost:8080/"
        },
        "outputId": "2e6685b5-603b-4f39-9694-62d972d9d6df"
      },
      "execution_count": null,
      "outputs": [
        {
          "output_type": "execute_result",
          "data": {
            "text/plain": [
              "13"
            ]
          },
          "metadata": {},
          "execution_count": 101
        }
      ]
    },
    {
      "cell_type": "code",
      "source": [
        "5*(2**3)+4*(19//-3)*-2+5%-2"
      ],
      "metadata": {
        "id": "ziIkdCKlCljY"
      },
      "execution_count": null,
      "outputs": []
    },
    {
      "cell_type": "code",
      "source": [
        "10%-3"
      ],
      "metadata": {
        "id": "x1OxHmTJR5o9"
      },
      "execution_count": null,
      "outputs": []
    },
    {
      "cell_type": "code",
      "source": [
        "4*(3**2)+4*(38//-3)*-2+48%-3"
      ],
      "metadata": {
        "id": "naDD-ixEFOia"
      },
      "execution_count": null,
      "outputs": []
    },
    {
      "cell_type": "code",
      "source": [
        "37//-3"
      ],
      "metadata": {
        "id": "Su4TVK0NHpKQ"
      },
      "execution_count": null,
      "outputs": []
    },
    {
      "cell_type": "code",
      "source": [
        "(2+3**2)*-2*-25/5**2//(5-3)\n",
        "#(2+3**2)*-2*-25/5**2//(5-3)\n",
        "#11*-2*-25/5**2//2\n",
        "#11*-2*-25/25//2\n",
        "#-22*-1//2\n",
        "#22//2\n",
        "#11"
      ],
      "metadata": {
        "id": "DGkpO34gGyKL",
        "colab": {
          "base_uri": "https://localhost:8080/"
        },
        "outputId": "a0342884-e449-4d3a-f6f9-c782a52bd48e"
      },
      "execution_count": null,
      "outputs": [
        {
          "output_type": "execute_result",
          "data": {
            "text/plain": [
              "11.0"
            ]
          },
          "metadata": {},
          "execution_count": 102
        }
      ]
    },
    {
      "cell_type": "markdown",
      "metadata": {
        "id": "m2KvYomfb3e6"
      },
      "source": [
        "## 2. Operadores lógicos con números\n",
        "Devuelven un valor lógico o booleano.\n",
        "\n",
        "* Operadores lógicos:\n",
        " * (igual que) ==\n",
        " * (mayor que) >\n",
        " * (menor que) <\n",
        " * (mayor o igual que) >=\n",
        " * (menor o igual que) <=\n",
        " * (distinto de) !="
      ]
    },
    {
      "cell_type": "code",
      "execution_count": null,
      "metadata": {
        "id": "uKIKV0FjcQmr",
        "colab": {
          "base_uri": "https://localhost:8080/"
        },
        "outputId": "b0fdd28b-08b6-4d8e-f5a2-592121a781e6"
      },
      "outputs": [
        {
          "output_type": "execute_result",
          "data": {
            "text/plain": [
              "True"
            ]
          },
          "metadata": {},
          "execution_count": 104
        }
      ],
      "source": [
        "3==3"
      ]
    },
    {
      "cell_type": "code",
      "execution_count": null,
      "metadata": {
        "id": "PCeqmVDGcSJR",
        "colab": {
          "base_uri": "https://localhost:8080/"
        },
        "outputId": "9b6c2b8e-0b37-4710-9f7d-8ab7110cf44c"
      },
      "outputs": [
        {
          "output_type": "execute_result",
          "data": {
            "text/plain": [
              "False"
            ]
          },
          "metadata": {},
          "execution_count": 105
        }
      ],
      "source": [
        "3.1<=3"
      ]
    },
    {
      "cell_type": "code",
      "execution_count": null,
      "metadata": {
        "id": "F_jjp4m6cTqp",
        "colab": {
          "base_uri": "https://localhost:8080/"
        },
        "outputId": "3b93c07f-8069-4d96-813c-f3b28f8745d8"
      },
      "outputs": [
        {
          "output_type": "execute_result",
          "data": {
            "text/plain": [
              "True"
            ]
          },
          "metadata": {},
          "execution_count": 106
        }
      ],
      "source": [
        "-1 != 1"
      ]
    },
    {
      "cell_type": "markdown",
      "metadata": {
        "id": "w1hT4kIWcWWS"
      },
      "source": [
        "## Ejercicio 1\n",
        "Diseñe un programa que determine la Superficie (S) y el Perímetro (P) de un círculo del que se conoce  su radio (r) . Considere las siguientes fórmulas: S= 𝜋𝑟^2 y P= 2𝜋𝑟"
      ]
    },
    {
      "cell_type": "code",
      "execution_count": null,
      "metadata": {
        "id": "JE8UnpGgcgQe",
        "colab": {
          "base_uri": "https://localhost:8080/"
        },
        "outputId": "b6123434-fefb-4793-9bd6-adf2227f3d7b"
      },
      "outputs": [
        {
          "output_type": "stream",
          "name": "stdout",
          "text": [
            "Ingrese el radio: 5\n",
            "Ingrese el valor de pi: 3.1415\n",
            "El valor de la superficies es: 79, El valor de el perimetro es: 31\n"
          ]
        }
      ],
      "source": [
        "#obejtivo: crear un programa que te permita calcular la superficie y el periemtro\n",
        "#paso1: Solicitamos al usuario que ingrese el valor del radio y el valor de pi\n",
        "radio = float(input('Ingrese el radio: '))\n",
        "pi = float(input('Ingrese el valor de pi: '))\n",
        "\n",
        "#paso2: Realizamos los calculos de la superficie y el perimetro\n",
        "superficie = pi * radio ** 2\n",
        "perimetro = 2 * pi * radio\n",
        "\n",
        "#paso3: Mostramos los resultados.\n",
        "print('El valor de la superficies es:',round(superficie), end = ', ')\n",
        "print('El valor de el perimetro es:',round(perimetro))"
      ]
    },
    {
      "cell_type": "code",
      "execution_count": null,
      "metadata": {
        "id": "h2hMgbABchLE"
      },
      "outputs": [],
      "source": []
    },
    {
      "cell_type": "markdown",
      "metadata": {
        "id": "naurrxwJchnm"
      },
      "source": [
        "## Ejercicio 2\n",
        "\n",
        "Escribir un PROGRAMA EN PYTHON de un programa que permita leer el peso de una persona, calcule el IMC y posteriormente imprimirla.\n",
        "* Fórmula: IMC = Peso/(Estatura x Estatura)"
      ]
    },
    {
      "cell_type": "code",
      "execution_count": 11,
      "metadata": {
        "id": "VBVFzQhccx57",
        "outputId": "136f8349-6767-4cd4-be8f-093b68f712b0",
        "colab": {
          "base_uri": "https://localhost:8080/"
        }
      },
      "outputs": [
        {
          "output_type": "stream",
          "name": "stdout",
          "text": [
            "Dame tu peso: 80\n",
            "Dame tu estatura: 178\n",
            "tu IMC es:  0.002524933720489837\n"
          ]
        }
      ],
      "source": [
        "peso= float(input(\"Dame tu peso: \"))\n",
        "estatura = float(input(\"Dame tu estatura: \"))\n",
        "imc = peso/(estatura**2)\n",
        "print(\"tu IMC es: \", imc)\n"
      ]
    },
    {
      "cell_type": "code",
      "execution_count": null,
      "metadata": {
        "id": "wpfNtg6IcyEs"
      },
      "outputs": [],
      "source": []
    },
    {
      "cell_type": "markdown",
      "metadata": {
        "id": "IihX6cKfcn_m"
      },
      "source": [
        "## Ejercicio 3\n",
        "Determinar la frecuencia cardiaca. El usuario debe proporcionarte su edad y su peso.\n",
        "* Formula: freq = 210 - 0.5 x edad - (0.01 x peso + 4)\n"
      ]
    },
    {
      "cell_type": "code",
      "execution_count": 12,
      "metadata": {
        "id": "FfaWReLgcyoG",
        "outputId": "4b43a183-1b20-4d47-f13c-be506cf2294d",
        "colab": {
          "base_uri": "https://localhost:8080/"
        }
      },
      "outputs": [
        {
          "output_type": "stream",
          "name": "stdout",
          "text": [
            "Dame tu edad: 44\n",
            "Dame tu peso: 80\n",
            "tu frecuencia cardiaca es:  183.2\n"
          ]
        }
      ],
      "source": [
        "edad= int(input(\"Dame tu edad: \"))\n",
        "peso = float(input(\"Dame tu peso: \"))\n",
        "freq = 210 - 0.5 * edad - (0.01 * peso + 4)\n",
        "print(\"tu frecuencia cardiaca es: \", freq)"
      ]
    },
    {
      "cell_type": "code",
      "execution_count": null,
      "metadata": {
        "id": "swyiXg3Qcyv6"
      },
      "outputs": [],
      "source": []
    },
    {
      "cell_type": "markdown",
      "metadata": {
        "id": "lXqc7f7GekPw"
      },
      "source": [
        "## Ejercicio 4\n",
        "\n",
        "Hacer un formulario para registrar sus nombres, apellidos, fecha de nacimiento, su nota parcial y nota final. Una vez registrado sus datos mostrar en pantalla que se ha registrado con éxitos sus datos y la edad del participante y su promedio de notas.\n"
      ]
    },
    {
      "cell_type": "code",
      "execution_count": 17,
      "metadata": {
        "id": "iAboduWnfD6z",
        "outputId": "505e90b4-c91b-49dd-c324-cf2a64975f9b",
        "colab": {
          "base_uri": "https://localhost:8080/"
        }
      },
      "outputs": [
        {
          "output_type": "stream",
          "name": "stdout",
          "text": [
            "Dame tu(s) nombre(s): Christian Alberto\n",
            "Dame tu(s) apellido(s): Garcia Arizmendi\n",
            "Dame tu fecha de nacimiento: 01/01/1980\n",
            "Dame tu nota parcial: 9.5\n",
            "Dame tu nota final: 10\n",
            "Datos registrados exitosamente!!!\n"
          ]
        }
      ],
      "source": [
        "nombre = input(\"Dame tu(s) nombre(s): \")\n",
        "apellido = input(\"Dame tu(s) apellido(s): \")\n",
        "fecha_nacimiento = input(\"Dame tu fecha de nacimiento: \")\n",
        "nota_parcial = float(input(\"Dame tu nota parcial: \"))\n",
        "nota_final = float(input(\"Dame tu nota final: \"))\n",
        "\n",
        "print(\"Datos registrados exitosamente!!!\")"
      ]
    },
    {
      "cell_type": "code",
      "execution_count": 18,
      "metadata": {
        "id": "VCtvDIG9fEIm",
        "outputId": "df7d0284-4f24-4118-a736-aa1f4f8f811b",
        "colab": {
          "base_uri": "https://localhost:8080/"
        }
      },
      "outputs": [
        {
          "output_type": "stream",
          "name": "stdout",
          "text": [
            "hola  Christian Alberto Garcia Arizmendi  tu promedio es: 9.75\n",
            "Felicidades aprobaste\n"
          ]
        }
      ],
      "source": [
        "promedio = (nota_parcial + nota_final)/2\n",
        "print(\"hola \", nombre, apellido, \" tu promedio es:\", promedio)\n",
        "if(promedio>8):\n",
        "  print(\"Felicidades aprobaste\")\n",
        "else:\n",
        "  print(\"Lo siento, No aprobaste\")\n",
        ""
      ]
    }
  ],
  "metadata": {
    "colab": {
      "provenance": [],
      "include_colab_link": true
    },
    "kernelspec": {
      "display_name": "Python 3",
      "name": "python3"
    },
    "language_info": {
      "name": "python"
    }
  },
  "nbformat": 4,
  "nbformat_minor": 0
}