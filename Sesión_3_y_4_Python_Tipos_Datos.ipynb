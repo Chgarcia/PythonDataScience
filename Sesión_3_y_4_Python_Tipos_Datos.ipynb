{
  "cells": [
    {
      "cell_type": "markdown",
      "metadata": {
        "id": "view-in-github",
        "colab_type": "text"
      },
      "source": [
        "<a href=\"https://colab.research.google.com/github/Chgarcia/PythonDataScience/blob/main/Sesio%CC%81n_3_y_4_Python_Tipos_Datos.ipynb\" target=\"_parent\"><img src=\"https://colab.research.google.com/assets/colab-badge.svg\" alt=\"Open In Colab\"/></a>"
      ]
    },
    {
      "cell_type": "markdown",
      "metadata": {
        "id": "VmkqkWb9tr72"
      },
      "source": [
        "# <center> PYTHON - Sesión 3 </center>\n",
        "\n",
        "## 1. Cadenas (clase str)\n",
        "Secuencia de caracteres alfanuméricos que representan texto. Se escriben entre comillas sencillas ’, dobles “ y tiples '''."
      ]
    },
    {
      "cell_type": "code",
      "source": [
        "print('McDonals, es el mejor restaurante de hambuerguesas')"
      ],
      "metadata": {
        "id": "rqUjgK43YTEv",
        "colab": {
          "base_uri": "https://localhost:8080/"
        },
        "outputId": "ed192e8f-8079-4879-93ec-6e50f6572e82"
      },
      "execution_count": 1,
      "outputs": [
        {
          "output_type": "stream",
          "name": "stdout",
          "text": [
            "McDonals, es el mejor restaurante de hambuerguesas\n"
          ]
        }
      ]
    },
    {
      "cell_type": "code",
      "source": [
        "print(\"McDonal's, es el mejor restaurante de hambuerguesas\")"
      ],
      "metadata": {
        "id": "Mqa4YznViUaY"
      },
      "execution_count": null,
      "outputs": []
    },
    {
      "cell_type": "code",
      "execution_count": 1,
      "metadata": {
        "id": "vqi6kXHzt_pJ",
        "colab": {
          "base_uri": "https://localhost:8080/"
        },
        "outputId": "1bf9f932-d833-49ba-ea07-b679cc1beea6"
      },
      "outputs": [
        {
          "output_type": "stream",
          "name": "stdout",
          "text": [
            "dany churapa\n"
          ]
        }
      ],
      "source": [
        "my_string = \"dany churapa\"\n",
        "print(my_string)"
      ]
    },
    {
      "cell_type": "code",
      "source": [
        "another_string = 'It may seem difficult first, but youcan do it!'"
      ],
      "metadata": {
        "id": "aLmy8NrNYfC2"
      },
      "execution_count": 2,
      "outputs": []
    },
    {
      "cell_type": "code",
      "source": [
        "a_long_string = '''McDonal's, es el\n",
        "mejor\n",
        "restaurante de\n",
        "hambuerguesas'''"
      ],
      "metadata": {
        "id": "VzMBejAtYpl2"
      },
      "execution_count": 3,
      "outputs": []
    },
    {
      "cell_type": "code",
      "source": [
        "print(a_long_string)"
      ],
      "metadata": {
        "id": "X8f3Xu4rZJh3",
        "colab": {
          "base_uri": "https://localhost:8080/"
        },
        "outputId": "88b26c35-ff07-4f4e-e906-f59a687cb98f"
      },
      "execution_count": 4,
      "outputs": [
        {
          "output_type": "stream",
          "name": "stdout",
          "text": [
            "McDonal's, es el\n",
            "mejor\n",
            "restaurante de\n",
            "hambuerguesas\n"
          ]
        }
      ]
    },
    {
      "cell_type": "code",
      "source": [
        "another_string = 'Python es el mejor lenguaje delmundo y al dia de hoy estamos estudiandolo porque es el mas demandado del mercado y mejor remunerado'"
      ],
      "metadata": {
        "id": "BYm5SjKljbOj"
      },
      "execution_count": 6,
      "outputs": []
    },
    {
      "cell_type": "markdown",
      "metadata": {
        "id": "wZSV3RSeuBa4"
      },
      "source": [
        "## Acceso a los elementos de una cadena\n",
        "Cada carácter tiene asociado un índice que permite acceder a él.\n",
        "\n",
        "### Cadena-:\tP\t| y |\tt | h |\to |\tn\n",
        "### Índice(+)\t0\t| 1 |\t2 |\t3 |\t4 |\t5\n",
        "### Índice(-) -6 |\t-5|\t-4|\t-3|\t-2|\t-1\n"
      ]
    },
    {
      "cell_type": "markdown",
      "metadata": {
        "id": "8tMZBDh1u8-t"
      },
      "source": [
        "* c[i]/c[ii:if] devuelve el carácter de la cadena c con el índice i.\n",
        "\n",
        " ### El índice del primer carácter de la cadena es 0.\n",
        "\n",
        "También se pueden utilizar índices negativos para recorrer la cadena del final al principio.\n",
        "\n",
        " El índice del último carácter de la cadena es -1."
      ]
    },
    {
      "cell_type": "code",
      "execution_count": 7,
      "metadata": {
        "id": "-h_yHyAXvSc-"
      },
      "outputs": [],
      "source": [
        "palabra = 'Spiderman en el multiverso'"
      ]
    },
    {
      "cell_type": "code",
      "source": [
        "print(palabra)"
      ],
      "metadata": {
        "id": "bGABKqb3HcXS",
        "colab": {
          "base_uri": "https://localhost:8080/"
        },
        "outputId": "bf3f6b64-11cd-4421-d975-94f3cab07e8b"
      },
      "execution_count": 8,
      "outputs": [
        {
          "output_type": "stream",
          "name": "stdout",
          "text": [
            "Spiderman en el multiverso\n"
          ]
        }
      ]
    },
    {
      "cell_type": "code",
      "execution_count": 9,
      "metadata": {
        "id": "eaZN7XwnvH_A",
        "colab": {
          "base_uri": "https://localhost:8080/",
          "height": 35
        },
        "outputId": "4132904f-db25-41f4-d2c2-88fba5fa4539"
      },
      "outputs": [
        {
          "output_type": "execute_result",
          "data": {
            "text/plain": [
              "'t'"
            ],
            "application/vnd.google.colaboratory.intrinsic+json": {
              "type": "string"
            }
          },
          "metadata": {},
          "execution_count": 9
        }
      ],
      "source": [
        "palabra[-7]"
      ]
    },
    {
      "cell_type": "code",
      "source": [
        "palabra[7]"
      ],
      "metadata": {
        "id": "EaiPkcSuHt4E",
        "colab": {
          "base_uri": "https://localhost:8080/",
          "height": 35
        },
        "outputId": "7720dd9a-64fa-4160-e366-4543e89e3321"
      },
      "execution_count": 10,
      "outputs": [
        {
          "output_type": "execute_result",
          "data": {
            "text/plain": [
              "'a'"
            ],
            "application/vnd.google.colaboratory.intrinsic+json": {
              "type": "string"
            }
          },
          "metadata": {},
          "execution_count": 10
        }
      ]
    },
    {
      "cell_type": "code",
      "source": [
        "# palabra = 'Spiderman en el multiverso'\n",
        "palabra[-7]"
      ],
      "metadata": {
        "id": "hhHggQ1PHqSk",
        "colab": {
          "base_uri": "https://localhost:8080/",
          "height": 35
        },
        "outputId": "d732e9ec-b7f3-4283-a949-aded02cb7c87"
      },
      "execution_count": 11,
      "outputs": [
        {
          "output_type": "execute_result",
          "data": {
            "text/plain": [
              "'t'"
            ],
            "application/vnd.google.colaboratory.intrinsic+json": {
              "type": "string"
            }
          },
          "metadata": {},
          "execution_count": 11
        }
      ]
    },
    {
      "cell_type": "code",
      "source": [
        "#Acceder a un conjunto de elemntos en una cadena.\n",
        "# Cuando se requiera acceder a un rango de indices, sobre el ultimo se le suma una unidad +1\n",
        "palabra[0:8+1]"
      ],
      "metadata": {
        "id": "h-ZQJ8CKa0QA",
        "colab": {
          "base_uri": "https://localhost:8080/",
          "height": 35
        },
        "outputId": "b28f2342-5d6a-49c9-e247-31b64d6f4ce5"
      },
      "execution_count": 12,
      "outputs": [
        {
          "output_type": "execute_result",
          "data": {
            "text/plain": [
              "'Spiderman'"
            ],
            "application/vnd.google.colaboratory.intrinsic+json": {
              "type": "string"
            }
          },
          "metadata": {},
          "execution_count": 12
        }
      ]
    },
    {
      "cell_type": "code",
      "source": [
        "# palabra = 'Spiderman en el multiverso'\n",
        "palabra[16:25+1]"
      ],
      "metadata": {
        "id": "hbeoYCfcDdQk",
        "colab": {
          "base_uri": "https://localhost:8080/",
          "height": 35
        },
        "outputId": "713ac1a1-7fe9-411c-a03b-8b3e4fafad95"
      },
      "execution_count": 13,
      "outputs": [
        {
          "output_type": "execute_result",
          "data": {
            "text/plain": [
              "'multiverso'"
            ],
            "application/vnd.google.colaboratory.intrinsic+json": {
              "type": "string"
            }
          },
          "metadata": {},
          "execution_count": 13
        }
      ]
    },
    {
      "cell_type": "code",
      "source": [
        "# palabra = 'Spiderman en el multiverso'\n",
        "palabra[-10:]"
      ],
      "metadata": {
        "id": "uHr3l1fkDw8z",
        "colab": {
          "base_uri": "https://localhost:8080/",
          "height": 35
        },
        "outputId": "12ec7bb5-3eab-4e3a-c744-a3aca8a171f5"
      },
      "execution_count": 14,
      "outputs": [
        {
          "output_type": "execute_result",
          "data": {
            "text/plain": [
              "'multiverso'"
            ],
            "application/vnd.google.colaboratory.intrinsic+json": {
              "type": "string"
            }
          },
          "metadata": {},
          "execution_count": 14
        }
      ]
    },
    {
      "cell_type": "code",
      "source": [
        "# palabra = 'Spiderman en el multiverso'\n",
        "palabra[-13:-12+1]"
      ],
      "metadata": {
        "id": "LuQwU6WlEeeL",
        "colab": {
          "base_uri": "https://localhost:8080/",
          "height": 35
        },
        "outputId": "ec365e5b-417b-42c2-cdff-e276ac794a91"
      },
      "execution_count": 15,
      "outputs": [
        {
          "output_type": "execute_result",
          "data": {
            "text/plain": [
              "'el'"
            ],
            "application/vnd.google.colaboratory.intrinsic+json": {
              "type": "string"
            }
          },
          "metadata": {},
          "execution_count": 15
        }
      ]
    },
    {
      "cell_type": "code",
      "source": [
        "# palabra = 'Spiderman en el multiverso'\n",
        "palabra[:-18+1]"
      ],
      "metadata": {
        "id": "MutVtirGE8dw",
        "colab": {
          "base_uri": "https://localhost:8080/",
          "height": 35
        },
        "outputId": "3a45f0d4-1d2d-4b97-faa4-035350f398ea"
      },
      "execution_count": 16,
      "outputs": [
        {
          "output_type": "execute_result",
          "data": {
            "text/plain": [
              "'Spiderman'"
            ],
            "application/vnd.google.colaboratory.intrinsic+json": {
              "type": "string"
            }
          },
          "metadata": {},
          "execution_count": 16
        }
      ]
    },
    {
      "cell_type": "code",
      "source": [
        "# palabra = 'Spiderman en el multiverso'\n",
        "palabra[10:11+1]"
      ],
      "metadata": {
        "id": "40kOVylkFbud",
        "colab": {
          "base_uri": "https://localhost:8080/",
          "height": 35
        },
        "outputId": "1b450f34-6785-4f61-9751-7ee5869ded7e"
      },
      "execution_count": 17,
      "outputs": [
        {
          "output_type": "execute_result",
          "data": {
            "text/plain": [
              "'en'"
            ],
            "application/vnd.google.colaboratory.intrinsic+json": {
              "type": "string"
            }
          },
          "metadata": {},
          "execution_count": 17
        }
      ]
    },
    {
      "cell_type": "code",
      "source": [
        "#Acceder a un conjunto de elemntos en una cadena.\n",
        "# palabra = 'Spiderman en el multiverso'\n",
        "palabra[:8+1]"
      ],
      "metadata": {
        "id": "OQpa2L7ooI7o",
        "colab": {
          "base_uri": "https://localhost:8080/",
          "height": 35
        },
        "outputId": "ceaed7fe-e4aa-4ec1-c59d-5291ff883af5"
      },
      "execution_count": 18,
      "outputs": [
        {
          "output_type": "execute_result",
          "data": {
            "text/plain": [
              "'Spiderman'"
            ],
            "application/vnd.google.colaboratory.intrinsic+json": {
              "type": "string"
            }
          },
          "metadata": {},
          "execution_count": 18
        }
      ]
    },
    {
      "cell_type": "code",
      "source": [
        "palabra[-26:-18+1]"
      ],
      "metadata": {
        "id": "XFIdvgSPcnkH",
        "colab": {
          "base_uri": "https://localhost:8080/",
          "height": 35
        },
        "outputId": "475167eb-db4d-4e27-952d-95b30bc15dd3"
      },
      "execution_count": 19,
      "outputs": [
        {
          "output_type": "execute_result",
          "data": {
            "text/plain": [
              "'Spiderman'"
            ],
            "application/vnd.google.colaboratory.intrinsic+json": {
              "type": "string"
            }
          },
          "metadata": {},
          "execution_count": 19
        }
      ]
    },
    {
      "cell_type": "code",
      "source": [
        "palabra[-26:8+1]"
      ],
      "metadata": {
        "id": "6NAferQhpm-e",
        "colab": {
          "base_uri": "https://localhost:8080/",
          "height": 35
        },
        "outputId": "9c9c566b-7e51-46d5-950f-a31b480b11e0"
      },
      "execution_count": 20,
      "outputs": [
        {
          "output_type": "execute_result",
          "data": {
            "text/plain": [
              "'Spiderman'"
            ],
            "application/vnd.google.colaboratory.intrinsic+json": {
              "type": "string"
            }
          },
          "metadata": {},
          "execution_count": 20
        }
      ]
    },
    {
      "cell_type": "code",
      "source": [
        "# palabra = 'Spiderman en el multiverso'\n",
        "palabra[-10:]"
      ],
      "metadata": {
        "id": "pUYcBWVZoZNq",
        "colab": {
          "base_uri": "https://localhost:8080/",
          "height": 35
        },
        "outputId": "5790e91a-7ff8-46a5-be3c-9c3f2f5f67b3"
      },
      "execution_count": 21,
      "outputs": [
        {
          "output_type": "execute_result",
          "data": {
            "text/plain": [
              "'multiverso'"
            ],
            "application/vnd.google.colaboratory.intrinsic+json": {
              "type": "string"
            }
          },
          "metadata": {},
          "execution_count": 21
        }
      ]
    },
    {
      "cell_type": "code",
      "source": [
        "palabra[:8+1]"
      ],
      "metadata": {
        "id": "Rtp3G1IvcurA",
        "colab": {
          "base_uri": "https://localhost:8080/",
          "height": 35
        },
        "outputId": "df650d2a-7685-492f-9dbf-2540c2f21410"
      },
      "execution_count": 22,
      "outputs": [
        {
          "output_type": "execute_result",
          "data": {
            "text/plain": [
              "'Spiderman'"
            ],
            "application/vnd.google.colaboratory.intrinsic+json": {
              "type": "string"
            }
          },
          "metadata": {},
          "execution_count": 22
        }
      ]
    },
    {
      "cell_type": "code",
      "source": [
        "palabra[:]"
      ],
      "metadata": {
        "id": "mowOBUCec0fM",
        "colab": {
          "base_uri": "https://localhost:8080/",
          "height": 35
        },
        "outputId": "3847860b-e11f-4316-8a72-62c46af49c6d"
      },
      "execution_count": 23,
      "outputs": [
        {
          "output_type": "execute_result",
          "data": {
            "text/plain": [
              "'Spiderman en el multiverso'"
            ],
            "application/vnd.google.colaboratory.intrinsic+json": {
              "type": "string"
            }
          },
          "metadata": {},
          "execution_count": 23
        }
      ]
    },
    {
      "cell_type": "code",
      "source": [
        "palabra = 'El HOMBRE araña'\n",
        "# HOMBRE\n",
        "palabra[-12:-7+1]"
      ],
      "metadata": {
        "id": "UfRzrGMtc4sh",
        "colab": {
          "base_uri": "https://localhost:8080/",
          "height": 35
        },
        "outputId": "a4adca1c-9ff5-41b8-dd81-bc3f302379ac"
      },
      "execution_count": 24,
      "outputs": [
        {
          "output_type": "execute_result",
          "data": {
            "text/plain": [
              "'HOMBRE'"
            ],
            "application/vnd.google.colaboratory.intrinsic+json": {
              "type": "string"
            }
          },
          "metadata": {},
          "execution_count": 24
        }
      ]
    },
    {
      "cell_type": "markdown",
      "source": [],
      "metadata": {
        "id": "vouufow6p1zT"
      }
    },
    {
      "cell_type": "code",
      "source": [
        "# araña\n",
        "palabra[-5:]"
      ],
      "metadata": {
        "id": "Ukmgx2enc5KB",
        "colab": {
          "base_uri": "https://localhost:8080/",
          "height": 35
        },
        "outputId": "ec987474-8a36-4a7d-b222-2e102d2eecbd"
      },
      "execution_count": 25,
      "outputs": [
        {
          "output_type": "execute_result",
          "data": {
            "text/plain": [
              "'araña'"
            ],
            "application/vnd.google.colaboratory.intrinsic+json": {
              "type": "string"
            }
          },
          "metadata": {},
          "execution_count": 25
        }
      ]
    },
    {
      "cell_type": "code",
      "source": [
        "# araña\n",
        "palabra[-5:]"
      ],
      "metadata": {
        "id": "-UWUMOVreO3v",
        "colab": {
          "base_uri": "https://localhost:8080/",
          "height": 35
        },
        "outputId": "98baa6c5-36ad-426a-c919-e840869751ab"
      },
      "execution_count": 26,
      "outputs": [
        {
          "output_type": "execute_result",
          "data": {
            "text/plain": [
              "'araña'"
            ],
            "application/vnd.google.colaboratory.intrinsic+json": {
              "type": "string"
            }
          },
          "metadata": {},
          "execution_count": 26
        }
      ]
    },
    {
      "cell_type": "code",
      "source": [
        "# El HOMBRE araña / HOMERO\n",
        "palabra[3:5+1]"
      ],
      "metadata": {
        "id": "J5w16tWBc5aM",
        "colab": {
          "base_uri": "https://localhost:8080/",
          "height": 35
        },
        "outputId": "95aadc08-1aca-4c13-caa9-02a343d31f9c"
      },
      "execution_count": 27,
      "outputs": [
        {
          "output_type": "execute_result",
          "data": {
            "text/plain": [
              "'HOM'"
            ],
            "application/vnd.google.colaboratory.intrinsic+json": {
              "type": "string"
            }
          },
          "metadata": {},
          "execution_count": 27
        }
      ]
    },
    {
      "cell_type": "code",
      "source": [
        "palabra[0]"
      ],
      "metadata": {
        "id": "GWxLnrUTesrw",
        "colab": {
          "base_uri": "https://localhost:8080/",
          "height": 35
        },
        "outputId": "d1ff910c-9d55-4f00-e878-ae7c21568a34"
      },
      "execution_count": 28,
      "outputs": [
        {
          "output_type": "execute_result",
          "data": {
            "text/plain": [
              "'E'"
            ],
            "application/vnd.google.colaboratory.intrinsic+json": {
              "type": "string"
            }
          },
          "metadata": {},
          "execution_count": 28
        }
      ]
    },
    {
      "cell_type": "code",
      "source": [
        "palabra[7]"
      ],
      "metadata": {
        "id": "x3ZnzRZmev-O",
        "colab": {
          "base_uri": "https://localhost:8080/",
          "height": 35
        },
        "outputId": "e46d39a1-5eeb-442b-9db7-ade18b76579a"
      },
      "execution_count": 29,
      "outputs": [
        {
          "output_type": "execute_result",
          "data": {
            "text/plain": [
              "'R'"
            ],
            "application/vnd.google.colaboratory.intrinsic+json": {
              "type": "string"
            }
          },
          "metadata": {},
          "execution_count": 29
        }
      ]
    },
    {
      "cell_type": "code",
      "source": [
        "palabra[4]"
      ],
      "metadata": {
        "id": "xt58JxWxe0Nq",
        "colab": {
          "base_uri": "https://localhost:8080/",
          "height": 35
        },
        "outputId": "cdd7706c-e04a-4969-a73c-bf3bcbbd85d9"
      },
      "execution_count": 30,
      "outputs": [
        {
          "output_type": "execute_result",
          "data": {
            "text/plain": [
              "'O'"
            ],
            "application/vnd.google.colaboratory.intrinsic+json": {
              "type": "string"
            }
          },
          "metadata": {},
          "execution_count": 30
        }
      ]
    },
    {
      "cell_type": "code",
      "source": [
        "print(palabra[3:5+1],palabra[0],palabra[7],palabra[4], sep = '')"
      ],
      "metadata": {
        "id": "_dlGCBRie6Q0",
        "colab": {
          "base_uri": "https://localhost:8080/"
        },
        "outputId": "ec96e5b8-c5f7-47fb-b4f0-122ac7c42c91"
      },
      "execution_count": 32,
      "outputs": [
        {
          "output_type": "stream",
          "name": "stdout",
          "text": [
            "HOM E R O\n"
          ]
        }
      ]
    },
    {
      "cell_type": "code",
      "source": [
        "# palabra = 'El HOMBRE araña'\n",
        "# De la posicion final a la que deseo llegar, debemos de sumar +1\n",
        "palabra[3:8+1]"
      ],
      "metadata": {
        "id": "x-fVsLzOPmhI",
        "colab": {
          "base_uri": "https://localhost:8080/",
          "height": 35
        },
        "outputId": "e8b7ef5e-90be-4b1c-a476-71f2474b39e4"
      },
      "execution_count": 33,
      "outputs": [
        {
          "output_type": "execute_result",
          "data": {
            "text/plain": [
              "'HOMBRE'"
            ],
            "application/vnd.google.colaboratory.intrinsic+json": {
              "type": "string"
            }
          },
          "metadata": {},
          "execution_count": 33
        }
      ]
    },
    {
      "cell_type": "code",
      "source": [
        "# palabra = 'El HOMBRE araña'\n",
        "# Índice(-) -6 | -5| -4| -3| -2| -1\n",
        "palabra[-12:]"
      ],
      "metadata": {
        "id": "yy75oRM4bPhx",
        "colab": {
          "base_uri": "https://localhost:8080/",
          "height": 35
        },
        "outputId": "e6e49a14-64a7-47e8-9c7a-989e9c2058f3"
      },
      "execution_count": 34,
      "outputs": [
        {
          "output_type": "execute_result",
          "data": {
            "text/plain": [
              "'HOMBRE araña'"
            ],
            "application/vnd.google.colaboratory.intrinsic+json": {
              "type": "string"
            }
          },
          "metadata": {},
          "execution_count": 34
        }
      ]
    },
    {
      "cell_type": "code",
      "source": [
        "# palabra = 'El HOMBRE araña'\n",
        "# Índice(+) 0 | 1 | 2 | 3 | 4 | 5\n",
        "# Índice(-) -6 | -5| -4| -3| -2| -1\n",
        "palabra[3:-6]"
      ],
      "metadata": {
        "id": "h_VJHK-PeRwi",
        "colab": {
          "base_uri": "https://localhost:8080/",
          "height": 35
        },
        "outputId": "e3bcb1dc-f493-4ae6-edcf-7472dc970e35"
      },
      "execution_count": 35,
      "outputs": [
        {
          "output_type": "execute_result",
          "data": {
            "text/plain": [
              "'HOMBRE'"
            ],
            "application/vnd.google.colaboratory.intrinsic+json": {
              "type": "string"
            }
          },
          "metadata": {},
          "execution_count": 35
        }
      ]
    },
    {
      "cell_type": "code",
      "source": [
        "# palabra = 'El HOMBRE araña'\n",
        "# Índice(+) 0 | 1 | 2 | 3 | 4 | 5\n",
        "# Índice(-) -6 | -5| -4| -3| -2| -1\n",
        "palabra[-12:8+1]"
      ],
      "metadata": {
        "id": "rwOnpuKPeiX-",
        "colab": {
          "base_uri": "https://localhost:8080/",
          "height": 35
        },
        "outputId": "64853f2a-64ec-4c95-c715-11ed0a18d2af"
      },
      "execution_count": 36,
      "outputs": [
        {
          "output_type": "execute_result",
          "data": {
            "text/plain": [
              "'HOMBRE'"
            ],
            "application/vnd.google.colaboratory.intrinsic+json": {
              "type": "string"
            }
          },
          "metadata": {},
          "execution_count": 36
        }
      ]
    },
    {
      "cell_type": "code",
      "source": [
        "# Regla en python ultima posicion y le resta 1 [la posicion +1]\n",
        "palabra = 'Infinity war, the marvel'\n",
        "# Mensaje: the war Infinity\n",
        "\n",
        "print(palabra[14:17],palabra[-15:12],palabra[:7+1], sep = ' ')"
      ],
      "metadata": {
        "id": "nziNgjLRa8oL",
        "colab": {
          "base_uri": "https://localhost:8080/"
        },
        "outputId": "321540df-842c-49ff-dc29-28d177f9f7c6"
      },
      "execution_count": 37,
      "outputs": [
        {
          "output_type": "stream",
          "name": "stdout",
          "text": [
            "the war Infinity\n"
          ]
        }
      ]
    },
    {
      "cell_type": "code",
      "source": [
        "# SQL, como se haria.\n",
        "palabra[14:17]+' '+palabra[-15:12]+' '+palabra[:7+1]"
      ],
      "metadata": {
        "id": "b5YnHEaDgnJr",
        "colab": {
          "base_uri": "https://localhost:8080/",
          "height": 35
        },
        "outputId": "afdc5099-6522-4019-d759-28cc76958d8a"
      },
      "execution_count": 38,
      "outputs": [
        {
          "output_type": "execute_result",
          "data": {
            "text/plain": [
              "'the war Infinity'"
            ],
            "application/vnd.google.colaboratory.intrinsic+json": {
              "type": "string"
            }
          },
          "metadata": {},
          "execution_count": 38
        }
      ]
    },
    {
      "cell_type": "code",
      "source": [
        "palabra_copia = palabra * 5"
      ],
      "metadata": {
        "id": "b7ZOBfhMg_qr"
      },
      "execution_count": 40,
      "outputs": []
    },
    {
      "cell_type": "code",
      "source": [
        "palabra"
      ],
      "metadata": {
        "id": "-lp__I0GhMZ2",
        "colab": {
          "base_uri": "https://localhost:8080/",
          "height": 35
        },
        "outputId": "957d79cd-3e40-4a56-c2ce-0e67a2fe11c1"
      },
      "execution_count": 41,
      "outputs": [
        {
          "output_type": "execute_result",
          "data": {
            "text/plain": [
              "'Infinity war, the marvel'"
            ],
            "application/vnd.google.colaboratory.intrinsic+json": {
              "type": "string"
            }
          },
          "metadata": {},
          "execution_count": 41
        }
      ]
    },
    {
      "cell_type": "code",
      "source": [
        "palabra_copia"
      ],
      "metadata": {
        "id": "pK-Yd3OckETC",
        "colab": {
          "base_uri": "https://localhost:8080/",
          "height": 53
        },
        "outputId": "d643b972-de4b-4f35-968f-1c9d72d52314"
      },
      "execution_count": 42,
      "outputs": [
        {
          "output_type": "execute_result",
          "data": {
            "text/plain": [
              "'Infinity war, the marvelInfinity war, the marvelInfinity war, the marvelInfinity war, the marvelInfinity war, the marvel'"
            ],
            "application/vnd.google.colaboratory.intrinsic+json": {
              "type": "string"
            }
          },
          "metadata": {},
          "execution_count": 42
        }
      ]
    },
    {
      "cell_type": "code",
      "source": [
        "'war' in palabra"
      ],
      "metadata": {
        "id": "Uxmhshg6kKrX",
        "colab": {
          "base_uri": "https://localhost:8080/"
        },
        "outputId": "dd7bc300-9e15-4bdd-f0fe-20497d3d7fc0"
      },
      "execution_count": 43,
      "outputs": [
        {
          "output_type": "execute_result",
          "data": {
            "text/plain": [
              "True"
            ]
          },
          "metadata": {},
          "execution_count": 43
        }
      ]
    },
    {
      "cell_type": "code",
      "source": [
        "'war' not in palabra"
      ],
      "metadata": {
        "id": "qA4-D6FHkaV-",
        "colab": {
          "base_uri": "https://localhost:8080/"
        },
        "outputId": "43792d6a-894a-4ab5-9a11-98fd75553961"
      },
      "execution_count": 44,
      "outputs": [
        {
          "output_type": "execute_result",
          "data": {
            "text/plain": [
              "False"
            ]
          },
          "metadata": {},
          "execution_count": 44
        }
      ]
    },
    {
      "cell_type": "markdown",
      "metadata": {
        "id": "l55XpJFtwUdx"
      },
      "source": [
        "## Operaciones con cadenas\n",
        "* c1 + c2 : Devuelve la cadena resultado de concatenar las cadenas c1 y c2.\n",
        "* c * n : Devuelve la cadena resultado de concatenar n copias de la cadena c.\n",
        "* c1 in c2 : Devuelve True si c1 es una cadena concenida * en c2 y False en caso contrario.\n",
        "* c1 not in c2 : Devuelve True si c1 es una cadena no concenida en c2 y False en caso contrario."
      ]
    },
    {
      "cell_type": "code",
      "execution_count": 46,
      "metadata": {
        "id": "yDByg2NDF_mN"
      },
      "outputs": [],
      "source": [
        "my_string = \"Hola\"\n",
        "nombre = 'Dany'\n",
        "another_string = 'sabemos que este mes es tu cumpleaños y tienes una super oferta'"
      ]
    },
    {
      "cell_type": "code",
      "execution_count": 47,
      "metadata": {
        "id": "vQKrJs7kMrgF"
      },
      "outputs": [],
      "source": [
        "mensaje_mkt_push_notification = my_string + nombre + another_string + 'Este ejemplo funciona'"
      ]
    },
    {
      "cell_type": "code",
      "source": [
        "mensaje_mkt_push_notification"
      ],
      "metadata": {
        "id": "XfLW_QUuKPVi",
        "colab": {
          "base_uri": "https://localhost:8080/",
          "height": 35
        },
        "outputId": "2b245f70-7424-42fa-c036-d0ffcf97e800"
      },
      "execution_count": 48,
      "outputs": [
        {
          "output_type": "execute_result",
          "data": {
            "text/plain": [
              "'HolaDanysabemos que este mes es tu cumpleaños y tienes una super ofertaEste ejemplo funciona'"
            ],
            "application/vnd.google.colaboratory.intrinsic+json": {
              "type": "string"
            }
          },
          "metadata": {},
          "execution_count": 48
        }
      ]
    },
    {
      "cell_type": "code",
      "source": [
        "DNI = 70493532\n",
        "Nombre = 'Dany'\n",
        "\n",
        "cod_cliente = str(DNI)[:3+1] + nombre\n",
        "cod_cliente"
      ],
      "metadata": {
        "id": "IQ4gb0zSKqv1",
        "colab": {
          "base_uri": "https://localhost:8080/",
          "height": 35
        },
        "outputId": "97e41e11-abdf-4f5e-d3a7-db8f8b5002f0"
      },
      "execution_count": 49,
      "outputs": [
        {
          "output_type": "execute_result",
          "data": {
            "text/plain": [
              "'7049Dany'"
            ],
            "application/vnd.google.colaboratory.intrinsic+json": {
              "type": "string"
            }
          },
          "metadata": {},
          "execution_count": 49
        }
      ]
    },
    {
      "cell_type": "code",
      "source": [
        "print(my_string, nombre, another_string, sep = ' ', end = ' ')\n",
        "#print('Este ejemplo funciona')"
      ],
      "metadata": {
        "id": "p9fCHrBf9FN1",
        "colab": {
          "base_uri": "https://localhost:8080/"
        },
        "outputId": "a0831e4d-9183-489b-a715-ea6c6ebd951b"
      },
      "execution_count": 50,
      "outputs": [
        {
          "output_type": "stream",
          "name": "stdout",
          "text": [
            "Hola Dany sabemos que este mes es tu cumpleaños y tienes una super oferta "
          ]
        }
      ]
    },
    {
      "cell_type": "code",
      "execution_count": 51,
      "metadata": {
        "id": "fCJyviVmwjfo",
        "colab": {
          "base_uri": "https://localhost:8080/"
        },
        "outputId": "651bfb93-ad16-4812-9e7f-6474eb1e9765"
      },
      "outputs": [
        {
          "output_type": "execute_result",
          "data": {
            "text/plain": [
              "True"
            ]
          },
          "metadata": {},
          "execution_count": 51
        }
      ],
      "source": [
        "my_string = \"Let’s Learn Python!\"\n",
        "\n",
        "'y' in my_string"
      ]
    },
    {
      "cell_type": "code",
      "execution_count": 52,
      "metadata": {
        "id": "QzwkdCzVNkKO",
        "colab": {
          "base_uri": "https://localhost:8080/"
        },
        "outputId": "d8b5469b-391c-43b4-8876-2b56e207712f"
      },
      "outputs": [
        {
          "output_type": "execute_result",
          "data": {
            "text/plain": [
              "False"
            ]
          },
          "metadata": {},
          "execution_count": 52
        }
      ],
      "source": [
        "'Y' in my_string"
      ]
    },
    {
      "cell_type": "code",
      "execution_count": 53,
      "metadata": {
        "id": "5LMJHm33wkpH",
        "colab": {
          "base_uri": "https://localhost:8080/"
        },
        "outputId": "10f3ceb4-c6cb-460b-dfa1-dc8c6958056f"
      },
      "outputs": [
        {
          "output_type": "execute_result",
          "data": {
            "text/plain": [
              "True"
            ]
          },
          "metadata": {},
          "execution_count": 53
        }
      ],
      "source": [
        "'tho' in my_string"
      ]
    },
    {
      "cell_type": "code",
      "execution_count": 54,
      "metadata": {
        "id": "qb1lbY_ewl3g",
        "colab": {
          "base_uri": "https://localhost:8080/"
        },
        "outputId": "c3e5b011-36e6-4d78-ae3e-a37c0ae9c200"
      },
      "outputs": [
        {
          "output_type": "execute_result",
          "data": {
            "text/plain": [
              "True"
            ]
          },
          "metadata": {},
          "execution_count": 54
        }
      ],
      "source": [
        "'Tho' not in my_string"
      ]
    },
    {
      "cell_type": "code",
      "source": [
        "# my_string = \"Let’s Learn Python!\"\n",
        "\n",
        "' ' not in my_string"
      ],
      "metadata": {
        "id": "r74q3kiCjtY6",
        "colab": {
          "base_uri": "https://localhost:8080/"
        },
        "outputId": "f899e87f-acdf-4bb7-b566-fe710744e359"
      },
      "execution_count": 55,
      "outputs": [
        {
          "output_type": "execute_result",
          "data": {
            "text/plain": [
              "False"
            ]
          },
          "metadata": {},
          "execution_count": 55
        }
      ]
    },
    {
      "cell_type": "markdown",
      "source": [
        "## Programación Orientada a Objetos:\n",
        "\n",
        "1. Clase:\n",
        "* Definición: Una clase es como un plano o una plantilla para crear objetos. Especifica los atributos y comportamientos que los objetos de esa clase tendrán.\n",
        "* Analogía: Puedes pensar en una clase como un molde para hacer galletas. El molde define la forma y el tamaño de todas las galletas que vas a hacer, pero no es en sí misma una galleta.\n",
        "2. Objeto:\n",
        "* Definición: Un objeto es una instancia de una clase. Es una entidad concreta que tiene estado (atributos) y comportamiento (métodos) definidos por su clase.\n",
        "* Analogía: Si la clase es el molde de galletas, entonces un objeto sería una galleta específica que has hecho usando ese molde. Cada galleta puede tener características individuales (como color, sabor, etc.) pero comparten la misma forma y estructura básica definida por el molde.\n",
        "3. Método:\n",
        "* Definición: Un método es una función asociada a una clase que define el comportamiento de los objetos de esa clase. Los métodos son acciones que un objeto puede realizar.\n",
        "* Analogía: Los métodos son como recetas para hacer cosas con las galletas. Por ejemplo, podrías tener un método llamado \"decorar\" que pone glaseado en las galletas. Este método define una acción que las galletas (objetos) pueden realizar.\n"
      ],
      "metadata": {
        "id": "WAwA-gmMZL9q"
      }
    },
    {
      "cell_type": "code",
      "source": [
        "# clase = String (str)\n",
        "# clase = Float (float)\n",
        "# clase = Integer (int)\n",
        "# clase = boolean (Boolean)\n",
        "# clase = DataFrame (libreria pandas)\n",
        "# clase = narray (libreria numpy[num = numero / py = python])\n",
        "\n",
        "variable_1 = 10 # es una cadena"
      ],
      "metadata": {
        "id": "YA3J7ljvZKJe"
      },
      "execution_count": 60,
      "outputs": []
    },
    {
      "cell_type": "code",
      "source": [
        "type(variable_1)"
      ],
      "metadata": {
        "id": "Mx8oH7gQoED3",
        "colab": {
          "base_uri": "https://localhost:8080/"
        },
        "outputId": "265666e3-db01-4d7f-89bd-cc12ec4f0bff"
      },
      "execution_count": 61,
      "outputs": [
        {
          "output_type": "execute_result",
          "data": {
            "text/plain": [
              "int"
            ]
          },
          "metadata": {},
          "execution_count": 61
        }
      ]
    },
    {
      "cell_type": "code",
      "source": [
        "# clase = String (STR) cadena/textos/palabras/alfanumericos\n",
        "\n",
        "variable_1"
      ],
      "metadata": {
        "id": "nGukA0bMJvjc",
        "colab": {
          "base_uri": "https://localhost:8080/"
        },
        "outputId": "4c0a7f47-835a-42bf-e414-909a7954387b"
      },
      "execution_count": 63,
      "outputs": [
        {
          "output_type": "execute_result",
          "data": {
            "text/plain": [
              "10"
            ]
          },
          "metadata": {},
          "execution_count": 63
        }
      ]
    },
    {
      "cell_type": "code",
      "source": [
        "# clase = Integer (INT)\n",
        "variable_1 = 10"
      ],
      "metadata": {
        "id": "-d2ZeWiQnpGx"
      },
      "execution_count": 64,
      "outputs": []
    },
    {
      "cell_type": "code",
      "source": [
        "#Viendo motodos de un objeto entero\n",
        "variable_1."
      ],
      "metadata": {
        "id": "JqrVhLaLowP3",
        "colab": {
          "base_uri": "https://localhost:8080/",
          "height": 108
        },
        "outputId": "c749b08a-6992-4aa4-b18e-0ba002cb91f6"
      },
      "execution_count": 65,
      "outputs": [
        {
          "output_type": "error",
          "ename": "SyntaxError",
          "evalue": "invalid syntax (<ipython-input-65-33f6e22c781d>, line 2)",
          "traceback": [
            "\u001b[0;36m  File \u001b[0;32m\"<ipython-input-65-33f6e22c781d>\"\u001b[0;36m, line \u001b[0;32m2\u001b[0m\n\u001b[0;31m    variable_1.\u001b[0m\n\u001b[0m               ^\u001b[0m\n\u001b[0;31mSyntaxError\u001b[0m\u001b[0;31m:\u001b[0m invalid syntax\n"
          ]
        }
      ]
    },
    {
      "cell_type": "code",
      "source": [
        "#clase = Float (Float)\n",
        "variable_1 = 3.1415"
      ],
      "metadata": {
        "id": "3qiADpshn19p"
      },
      "execution_count": 67,
      "outputs": []
    },
    {
      "cell_type": "code",
      "source": [
        "#Viendo motodos de un numero flotante\n",
        "variable_1."
      ],
      "metadata": {
        "id": "vIAy3nAzo30R"
      },
      "execution_count": null,
      "outputs": []
    },
    {
      "cell_type": "code",
      "source": [
        "codigo = True\n",
        "type(codigo)"
      ],
      "metadata": {
        "id": "__Vbw8w3_WDh",
        "colab": {
          "base_uri": "https://localhost:8080/"
        },
        "outputId": "49c5583d-6fbb-46f0-89e1-14b679576cd8"
      },
      "execution_count": 68,
      "outputs": [
        {
          "output_type": "execute_result",
          "data": {
            "text/plain": [
              "bool"
            ]
          },
          "metadata": {},
          "execution_count": 68
        }
      ]
    },
    {
      "cell_type": "code",
      "source": [
        "codigo."
      ],
      "metadata": {
        "id": "fMnTQAmTQMYq"
      },
      "execution_count": null,
      "outputs": []
    },
    {
      "cell_type": "code",
      "source": [
        "palabra = 'El HOMBRE araña' #Variable creada por al clase STRING"
      ],
      "metadata": {
        "id": "Nq4OhLSg_fjm"
      },
      "execution_count": 69,
      "outputs": []
    },
    {
      "cell_type": "code",
      "execution_count": 70,
      "metadata": {
        "id": "Q9G1GHYdN3FJ",
        "colab": {
          "base_uri": "https://localhost:8080/",
          "height": 35
        },
        "outputId": "dde3e7b0-8708-438b-bbeb-94c493d051ad"
      },
      "outputs": [
        {
          "output_type": "execute_result",
          "data": {
            "text/plain": [
              "'EL HOMBRE ARAÑA'"
            ],
            "application/vnd.google.colaboratory.intrinsic+json": {
              "type": "string"
            }
          },
          "metadata": {},
          "execution_count": 70
        }
      ],
      "source": [
        "#Convertir todos los valores en mayuscula\n",
        "palabra.upper()"
      ]
    },
    {
      "cell_type": "code",
      "execution_count": 71,
      "metadata": {
        "id": "cIP_fW4kO_MF",
        "colab": {
          "base_uri": "https://localhost:8080/",
          "height": 35
        },
        "outputId": "c27c76ad-b14a-4634-dca6-661f05226053"
      },
      "outputs": [
        {
          "output_type": "execute_result",
          "data": {
            "text/plain": [
              "'El hombre araña'"
            ],
            "application/vnd.google.colaboratory.intrinsic+json": {
              "type": "string"
            }
          },
          "metadata": {},
          "execution_count": 71
        }
      ],
      "source": [
        "# Ponemos la primera letra de la oracion en mayuscula\n",
        "palabra.capitalize()"
      ]
    },
    {
      "cell_type": "code",
      "execution_count": 72,
      "metadata": {
        "id": "jOLk4gBUPFZ6",
        "colab": {
          "base_uri": "https://localhost:8080/",
          "height": 35
        },
        "outputId": "1373550b-cb89-48d8-fac0-e46a32f07159"
      },
      "outputs": [
        {
          "output_type": "execute_result",
          "data": {
            "text/plain": [
              "'El Hombre Araña'"
            ],
            "application/vnd.google.colaboratory.intrinsic+json": {
              "type": "string"
            }
          },
          "metadata": {},
          "execution_count": 72
        }
      ],
      "source": [
        "# Ponemos la primera letra de cada palabra en la oracion en mayuscula\n",
        "palabra.title()"
      ]
    },
    {
      "cell_type": "code",
      "execution_count": 73,
      "metadata": {
        "id": "3C_nYffNOOty",
        "colab": {
          "base_uri": "https://localhost:8080/",
          "height": 35
        },
        "outputId": "c102fa09-a5ff-40c5-9eec-36e347111dcb"
      },
      "outputs": [
        {
          "output_type": "execute_result",
          "data": {
            "text/plain": [
              "'el hombre araña'"
            ],
            "application/vnd.google.colaboratory.intrinsic+json": {
              "type": "string"
            }
          },
          "metadata": {},
          "execution_count": 73
        }
      ],
      "source": [
        "#Convertir todos los valores en minucula\n",
        "palabra.lower()"
      ]
    },
    {
      "cell_type": "code",
      "source": [
        "hora = input('Ingrese la hora en formato (hh:mm:ss): ')\n",
        "print ('Son las '+ hora[0:2]+ 'h:'+ hora[3:5]+ 'min:'+ hora[6:], 'seg', sep = '')"
      ],
      "metadata": {
        "id": "uDAK0dYhb4Eh",
        "colab": {
          "base_uri": "https://localhost:8080/"
        },
        "outputId": "7af759d3-f336-4ba6-80b0-a03e58423298"
      },
      "execution_count": 74,
      "outputs": [
        {
          "output_type": "stream",
          "name": "stdout",
          "text": [
            "Ingrese la hora en formato (hh:mm:ss): 16:22:15\n",
            "Son las 16h:22min:15seg\n"
          ]
        }
      ]
    },
    {
      "cell_type": "code",
      "source": [],
      "metadata": {
        "id": "0JFnptIvdVbN"
      },
      "execution_count": null,
      "outputs": []
    },
    {
      "cell_type": "markdown",
      "metadata": {
        "id": "bsTrzabhpCHd"
      },
      "source": [
        "# 2. Condicionales (if)\n",
        "\n",
        "```\n",
        "if condición1:\n",
        "    bloque código\n",
        "elif condición2:\n",
        "    bloque código\n",
        " …\n",
        "else :\n",
        "    bloque código\n",
        "\n",
        " ```\n",
        "\n",
        "Evalúa la expresión lógica condición1 y ejecuta el primer bloque de código si es True; si no, evalúa la siguientes condiciones hasta llegar a la primera que es True y ejecuta el bloque de código asociado. Si ninguna condición es True ejecuta el bloque de código después de else:.\n",
        "\n",
        "## Pueden aparecer varios bloques elif pero solo uno else al final.\n",
        "\n",
        " Los bloques de código deben estar indentados por 4 espacios/tabulador\n",
        "\n",
        "La instrucción condicional permite evaluar el estado del programa y tomar decisiones sobre qué código ejecutar en función del mismo."
      ]
    },
    {
      "cell_type": "markdown",
      "metadata": {
        "id": "BKLrMrkwF_mV"
      },
      "source": [
        "* Equals: a == b\n",
        "* Not Equals: a != b\n",
        "* Less than: a < b\n",
        "* Less than or equal to a <= b\n",
        "* Greater than: a > b\n",
        "* Greater than or equal to: a >= b"
      ]
    },
    {
      "cell_type": "markdown",
      "metadata": {
        "id": "eWOFixxgF_mV"
      },
      "source": [
        "## 2.1.  Condición simple"
      ]
    },
    {
      "cell_type": "code",
      "source": [
        "if 20 == 18:\n",
        "  print('No es un menor de edad')\n",
        "elif 30 < 18:\n",
        "  print('Es un menor de edad')\n",
        "elif 30 < 18:\n",
        "  print('Es un menor de edad')\n",
        "elif 30 < 18:\n",
        "  print('Es un menor de edad')\n",
        "elif 30 < 18:\n",
        "  print('Es un menor de edad')\n",
        "else:\n",
        "  print('No se cumplio la validacion')"
      ],
      "metadata": {
        "id": "t4zewEDDXP8A"
      },
      "execution_count": null,
      "outputs": []
    },
    {
      "cell_type": "code",
      "source": [],
      "metadata": {
        "id": "VTfARFVtX3U2"
      },
      "execution_count": null,
      "outputs": []
    },
    {
      "cell_type": "code",
      "source": [
        "if 13 < 12:\n",
        "  print('Hola')\n",
        "else:\n",
        "  print('No se cumplio, ninguna condicion')"
      ],
      "metadata": {
        "id": "uISd-wH6xBDN",
        "colab": {
          "base_uri": "https://localhost:8080/"
        },
        "outputId": "4a76ba81-0b47-4cf0-b3f4-918742f551e8"
      },
      "execution_count": 75,
      "outputs": [
        {
          "output_type": "stream",
          "name": "stdout",
          "text": [
            "No se cumplio, ninguna condicion\n"
          ]
        }
      ]
    },
    {
      "cell_type": "code",
      "source": [
        "if 8 < 12:\n",
        "  print('Si cumple 1')\n",
        "  if 7 < 9:\n",
        "    print('Si cumple 2 ')\n",
        "  if 5 < 10:\n",
        "    print('Se cumplio')\n",
        "    if 6 == 9:\n",
        "      print('Si cumple 3 ')\n",
        "else:\n",
        "  print('No se cumple la condicion')"
      ],
      "metadata": {
        "id": "XsrxMAKSxKR_",
        "colab": {
          "base_uri": "https://localhost:8080/"
        },
        "outputId": "50984b45-50c3-4803-bda3-bfc17881660c"
      },
      "execution_count": 76,
      "outputs": [
        {
          "output_type": "stream",
          "name": "stdout",
          "text": [
            "Si cumple 1\n",
            "Si cumple 2 \n",
            "Se cumplio\n"
          ]
        }
      ]
    },
    {
      "cell_type": "code",
      "source": [
        "edad = 9\n",
        "\n",
        "if 8 < 12:\n",
        "  print('Si cumple 1')\n",
        "  if 7 < 5:\n",
        "    print('Si cumple 2 ')\n",
        "    if edad == 9:\n",
        "      print('Si cumple 3 ')\n",
        "else:\n",
        "  print('No se cumple la condicion')"
      ],
      "metadata": {
        "id": "liYj858OwM6A",
        "colab": {
          "base_uri": "https://localhost:8080/"
        },
        "outputId": "ca238998-b4f6-44b9-d758-0a1a8e9ebb76"
      },
      "execution_count": 77,
      "outputs": [
        {
          "output_type": "stream",
          "name": "stdout",
          "text": [
            "Si cumple 1\n"
          ]
        }
      ]
    },
    {
      "cell_type": "code",
      "source": [
        "edad = 20\n",
        "\n",
        "if edad < 18:\n",
        "  print('Es un menor de edad')\n",
        "else:\n",
        "  print('No se tiene definida un valor para su edad')\n"
      ],
      "metadata": {
        "id": "TEBjMfUu3OSD",
        "colab": {
          "base_uri": "https://localhost:8080/"
        },
        "outputId": "555ee5bb-8c44-47f5-ddf8-4d2746cbf351"
      },
      "execution_count": 78,
      "outputs": [
        {
          "output_type": "stream",
          "name": "stdout",
          "text": [
            "No se tiene definida un valor para su edad\n"
          ]
        }
      ]
    },
    {
      "cell_type": "code",
      "source": [
        "# Importante depues de cada if & else poner los dos puntos \":\"\n",
        "edad = int(input('Ingrese edad: ')) #Input, te crea una cadena\n",
        "\n",
        "if edad >= 18:\n",
        "  print('es mayor de edad!')\n",
        "else:\n",
        "  print('No es mayor de edad')"
      ],
      "metadata": {
        "id": "0lyzz9BmkO8x",
        "colab": {
          "base_uri": "https://localhost:8080/"
        },
        "outputId": "c5a5692b-7c35-4fa0-9685-5a4aed5e6359"
      },
      "execution_count": 79,
      "outputs": [
        {
          "output_type": "stream",
          "name": "stdout",
          "text": [
            "Ingrese edad: 15\n",
            "No es mayor de edad\n"
          ]
        }
      ]
    },
    {
      "cell_type": "code",
      "source": [
        "edad = 10\n",
        "\n",
        "if edad >= 18:\n",
        "  print('Es mayor de edad')\n",
        "print('Este es un mensaje fuera del if')"
      ],
      "metadata": {
        "id": "p5irBW7flAeg",
        "colab": {
          "base_uri": "https://localhost:8080/"
        },
        "outputId": "20877eef-7c7a-4764-f167-dfc63960afb1"
      },
      "execution_count": 80,
      "outputs": [
        {
          "output_type": "stream",
          "name": "stdout",
          "text": [
            "Este es un mensaje fuera del if\n"
          ]
        }
      ]
    },
    {
      "cell_type": "code",
      "source": [
        "# Condiciones anidadas\n",
        "edad = 70\n",
        "\n",
        "if edad >= 65:\n",
        "  print('Es adulto Mayor')\n",
        "elif edad >= 18 :\n",
        "  print('Es mayor de edad')\n",
        "else:\n",
        "  print('Es un menor')"
      ],
      "metadata": {
        "id": "SyR91-JRl8iV",
        "colab": {
          "base_uri": "https://localhost:8080/"
        },
        "outputId": "3aafe56e-5aa9-471b-aead-8f14060f3a37"
      },
      "execution_count": 81,
      "outputs": [
        {
          "output_type": "stream",
          "name": "stdout",
          "text": [
            "Es adulto Mayor\n"
          ]
        }
      ]
    },
    {
      "cell_type": "code",
      "source": [],
      "metadata": {
        "id": "LXmk7jNKclVN"
      },
      "execution_count": null,
      "outputs": []
    },
    {
      "cell_type": "code",
      "source": [
        "# Condiciones anidadas, cual es el mensaje que arroja?\n",
        "edad = 70\n",
        "\n",
        "if edad >= 18:\n",
        "  print('Es mayor de edad')\n",
        "  if edad >= 65:\n",
        "    print('Es adulto Mayor')\n",
        "  else:\n",
        "    print('No se cumplio la condicion')\n",
        "else:\n",
        "  print('Es un menor')"
      ],
      "metadata": {
        "id": "emkFZW40b8yR",
        "colab": {
          "base_uri": "https://localhost:8080/"
        },
        "outputId": "79225b3c-705c-4d5b-fe84-67327325b2b1"
      },
      "execution_count": 82,
      "outputs": [
        {
          "output_type": "stream",
          "name": "stdout",
          "text": [
            "Es mayor de edad\n",
            "Es adulto Mayor\n"
          ]
        }
      ]
    },
    {
      "cell_type": "code",
      "source": [
        "# Condiciones anidadas, cual es el mensaje que arroja?\n",
        "edad = 70\n",
        "\n",
        "if edad >= 18 and edad <=64:\n",
        "  print('Es mayor de edad')\n",
        "elif edad >= 65:\n",
        "  print('Es adulto Mayor')\n",
        "else:\n",
        "  print('Es un menor')"
      ],
      "metadata": {
        "id": "QUUU1l76csJh",
        "colab": {
          "base_uri": "https://localhost:8080/"
        },
        "outputId": "119cfe44-1abb-41ab-bb66-72336e3f7a73"
      },
      "execution_count": 83,
      "outputs": [
        {
          "output_type": "stream",
          "name": "stdout",
          "text": [
            "Es adulto Mayor\n"
          ]
        }
      ]
    },
    {
      "cell_type": "code",
      "source": [
        "# Condiciones anidadas, cual es el mensaje que arroja?\n",
        "edad = 10\n",
        "\n",
        "if edad >= 65:\n",
        "  print('Es adulto  mayor')\n",
        "elif edad >= 18:\n",
        "  print('Es adulto ')\n",
        "else:\n",
        "  print('Es un menor')"
      ],
      "metadata": {
        "id": "dR0HTJDQdbTL",
        "colab": {
          "base_uri": "https://localhost:8080/"
        },
        "outputId": "c2e2631f-0c1e-420f-8647-0d85ecd8d5b0"
      },
      "execution_count": 84,
      "outputs": [
        {
          "output_type": "stream",
          "name": "stdout",
          "text": [
            "Es un menor\n"
          ]
        }
      ]
    },
    {
      "cell_type": "code",
      "source": [
        "# Condiciones anidadas, cual es el mensaje que arroja?\n",
        "edad = 20\n",
        "\n",
        "if edad >= 18:\n",
        "  print('Es mayor de edad')\n",
        "  if edad >= 65 and edad <=70:\n",
        "    print('Es adulto Mayor')\n",
        "  else:\n",
        "    print('es una persona muy grande')\n",
        "else:\n",
        "  print('Es un menor')"
      ],
      "metadata": {
        "id": "gCc4clEh5U_X",
        "colab": {
          "base_uri": "https://localhost:8080/"
        },
        "outputId": "3e54f60e-d929-4610-a57f-2e3e5e8aba10"
      },
      "execution_count": 85,
      "outputs": [
        {
          "output_type": "stream",
          "name": "stdout",
          "text": [
            "Es mayor de edad\n",
            "es una persona muy grande\n"
          ]
        }
      ]
    },
    {
      "cell_type": "code",
      "source": [
        "edad = 10\n",
        "\n",
        "if edad >= 18:\n",
        "  print('Es mayor de edad')\n",
        "elif edad >= 65:\n",
        "  print('Es adulto Mayor')\n",
        "else:\n",
        "  if edad >= 12:\n",
        "    print('Es un adolecente')\n",
        "  else:\n",
        "    print('Es un niño')"
      ],
      "metadata": {
        "id": "lQhbSTt9nP8k",
        "colab": {
          "base_uri": "https://localhost:8080/"
        },
        "outputId": "172284a1-283a-440d-fe88-5fb7394ffe40"
      },
      "execution_count": 86,
      "outputs": [
        {
          "output_type": "stream",
          "name": "stdout",
          "text": [
            "Es un niño\n"
          ]
        }
      ]
    },
    {
      "cell_type": "code",
      "source": [
        "edad = 20\n",
        "\n",
        "if edad >= 18:\n",
        "  print('Es mayor de edad')\n",
        "elif edad >= 65:\n",
        "  print('Es adulto Mayor')\n",
        "elif edad >= 12:\n",
        "  print('Es un adolecente')\n",
        "else:\n",
        "  print('Es un niño')"
      ],
      "metadata": {
        "id": "bY-BdKaFnwc4",
        "colab": {
          "base_uri": "https://localhost:8080/"
        },
        "outputId": "ad57b72f-918a-402c-8d63-07ea03037ede"
      },
      "execution_count": 87,
      "outputs": [
        {
          "output_type": "stream",
          "name": "stdout",
          "text": [
            "Es mayor de edad\n"
          ]
        }
      ]
    },
    {
      "cell_type": "code",
      "source": [
        "# Operadores logicos OR o AND\n",
        "# and = Excluyente (quiero el polo rojo Y negro)\n",
        "# or = Incluyente (quiero un polo rojo O negro)\n",
        "\n",
        "edad = 0\n",
        "\n",
        "if edad >= 18 or edad <= 50:\n",
        "  print('Es habilitado para las elecciones')\n",
        "else:\n",
        "  print('No esta habilitado para las elecciones')"
      ],
      "metadata": {
        "id": "C0AdB_q0pcvN",
        "colab": {
          "base_uri": "https://localhost:8080/"
        },
        "outputId": "63687903-2e27-4783-c4b2-c7da85d4f5bc"
      },
      "execution_count": 88,
      "outputs": [
        {
          "output_type": "stream",
          "name": "stdout",
          "text": [
            "Es habilitado para las elecciones\n"
          ]
        }
      ]
    },
    {
      "cell_type": "code",
      "source": [
        "#Agregando una condicion haciendo uso de los intervalos\n",
        "\n",
        "edad = 30\n",
        "\n",
        "if 18 <= edad <= 50: # edad >= 18 and edad <= 50, hace uso de un rango, es igual al operador 'and'\n",
        "  print('Es habilitado para las elecciones')\n",
        "else:\n",
        "  print('No esta habilitado para las elecciones')"
      ],
      "metadata": {
        "id": "lO4O6DEJqICO",
        "colab": {
          "base_uri": "https://localhost:8080/"
        },
        "outputId": "0939298f-7fed-4286-9312-1f84bd7541f6"
      },
      "execution_count": 89,
      "outputs": [
        {
          "output_type": "stream",
          "name": "stdout",
          "text": [
            "Es habilitado para las elecciones\n"
          ]
        }
      ]
    },
    {
      "cell_type": "code",
      "source": [
        "#Agregando una condicion haciendo uso de los intervalos\n",
        "\n",
        "edad = 32\n",
        "\n",
        "if (18 <= edad <= 30) or (35 <= edad <= 50):\n",
        "  print('Es habilitado para las elecciones')\n",
        "else:\n",
        "  print('No esta habilitado para las elecciones')"
      ],
      "metadata": {
        "id": "g1NLfBQIq748",
        "colab": {
          "base_uri": "https://localhost:8080/"
        },
        "outputId": "833c17d0-096c-4575-800a-af660c10bbb2"
      },
      "execution_count": 90,
      "outputs": [
        {
          "output_type": "stream",
          "name": "stdout",
          "text": [
            "No esta habilitado para las elecciones\n"
          ]
        }
      ]
    },
    {
      "cell_type": "code",
      "execution_count": 91,
      "metadata": {
        "id": "xFMyExeDr03A",
        "colab": {
          "base_uri": "https://localhost:8080/"
        },
        "outputId": "2059ad3e-c563-4992-dccd-a20b9cf5ff9e"
      },
      "outputs": [
        {
          "output_type": "stream",
          "name": "stdout",
          "text": [
            "Línea 2\n"
          ]
        }
      ],
      "source": [
        "if 5 > 6:\n",
        "  print('That’s True!')\n",
        "print('Línea 2')"
      ]
    },
    {
      "cell_type": "code",
      "source": [
        "if 5 > 6:\n",
        "  print('That’s True!')\n",
        "  if 1>0:\n",
        "    print('Linea extra')\n",
        "print('Línea 2')"
      ],
      "metadata": {
        "id": "mPhZdjqufdSw",
        "colab": {
          "base_uri": "https://localhost:8080/"
        },
        "outputId": "84e90df8-b654-46de-e144-d3f4f43078e8"
      },
      "execution_count": 92,
      "outputs": [
        {
          "output_type": "stream",
          "name": "stdout",
          "text": [
            "Línea 2\n"
          ]
        }
      ]
    },
    {
      "cell_type": "code",
      "execution_count": 94,
      "metadata": {
        "id": "b1wTlnyOF_mW"
      },
      "outputs": [],
      "source": [
        "edad = 13\n",
        "if edad >= 18:\n",
        "  print('Es mayor de edad')"
      ]
    },
    {
      "cell_type": "markdown",
      "metadata": {
        "id": "TDstJ2-HF_mW"
      },
      "source": [
        "## 2.2 Condición anidada"
      ]
    },
    {
      "cell_type": "code",
      "execution_count": 95,
      "metadata": {
        "id": "v6BQSbuceCCS",
        "colab": {
          "base_uri": "https://localhost:8080/"
        },
        "outputId": "5c8d570b-db2b-40ea-8de6-e0a9ef273e39"
      },
      "outputs": [
        {
          "output_type": "stream",
          "name": "stdout",
          "text": [
            "Above twenty,\n"
          ]
        }
      ],
      "source": [
        "x = 25\n",
        "if x > 20:\n",
        "  print('Above twenty,')\n",
        "  if x > 30:\n",
        "    print('and also above 30!')"
      ]
    },
    {
      "cell_type": "code",
      "source": [
        "edad = 30\n",
        "if edad >= 18:\n",
        "  print('Es mayor de edad')\n",
        "\n",
        "print('Es menor de edad')"
      ],
      "metadata": {
        "id": "N2eHWcaBQXSl",
        "colab": {
          "base_uri": "https://localhost:8080/"
        },
        "outputId": "840d42c8-39d2-4a3b-a5c9-844feee2388d"
      },
      "execution_count": 96,
      "outputs": [
        {
          "output_type": "stream",
          "name": "stdout",
          "text": [
            "Es mayor de edad\n",
            "Es menor de edad\n"
          ]
        }
      ]
    },
    {
      "cell_type": "code",
      "execution_count": 97,
      "metadata": {
        "id": "s-4W68GLF_mX",
        "colab": {
          "base_uri": "https://localhost:8080/"
        },
        "outputId": "7a91b4da-6cba-44c4-d284-50327534f9db"
      },
      "outputs": [
        {
          "output_type": "stream",
          "name": "stdout",
          "text": [
            "Es un niño\n",
            "Es menor de edad\n"
          ]
        }
      ],
      "source": [
        "edad = 10\n",
        "if edad >= 18:\n",
        "  print('Es mayor de edad')\n",
        "else:\n",
        "  if edad < 11:\n",
        "    print('Es un niño')\n",
        "  print('Es menor de edad')"
      ]
    },
    {
      "cell_type": "code",
      "source": [
        "#Con problemas\n",
        "edad = 18\n",
        "\n",
        "if edad >= 18:\n",
        "  aNac = 2024 - edad\n",
        "elif edad >= 15:\n",
        "  print('es un adolecente')\n",
        "elif edad < 2:\n",
        "  print('Es un bebé')\n",
        "else:\n",
        "  print('Es un niño')\n",
        "\n",
        "print(aNac)"
      ],
      "metadata": {
        "id": "VSEkMQ3kRq0I",
        "colab": {
          "base_uri": "https://localhost:8080/"
        },
        "outputId": "8d0063ca-8f40-4847-855e-3594d68ba341"
      },
      "execution_count": 98,
      "outputs": [
        {
          "output_type": "stream",
          "name": "stdout",
          "text": [
            "2006\n"
          ]
        }
      ]
    },
    {
      "cell_type": "code",
      "source": [
        "# Correcto\n",
        "edad = 30\n",
        "\n",
        "if edad >= 15:\n",
        "  print('es un adolecente')\n",
        "elif edad >= 18:\n",
        "  print('Es mayor de edad')\n",
        "elif edad < 2:\n",
        "  print('Es un bebé')\n",
        "else:\n",
        "  print('Es un niño')"
      ],
      "metadata": {
        "id": "mt8eG-HzHblp",
        "colab": {
          "base_uri": "https://localhost:8080/"
        },
        "outputId": "56509899-a50f-4f9a-e688-2e68a7f52e6b"
      },
      "execution_count": 99,
      "outputs": [
        {
          "output_type": "stream",
          "name": "stdout",
          "text": [
            "es un adolecente\n"
          ]
        }
      ]
    },
    {
      "cell_type": "markdown",
      "metadata": {
        "id": "DLJHzEHcF_mX"
      },
      "source": [
        "## 2.3 ELIF - Condición"
      ]
    },
    {
      "cell_type": "code",
      "execution_count": 100,
      "metadata": {
        "id": "d-YBlmiYF_mY",
        "colab": {
          "base_uri": "https://localhost:8080/"
        },
        "outputId": "4f401b15-3a1c-4a00-d35a-258c1e7e75c2"
      },
      "outputs": [
        {
          "output_type": "stream",
          "name": "stdout",
          "text": [
            "a and b are equal\n",
            "a and b are equal\n"
          ]
        }
      ],
      "source": [
        "a = 45\n",
        "b = 45\n",
        "\n",
        "if b > a:\n",
        "  print('b is greater than a')\n",
        "\n",
        "elif a == b:\n",
        "  print('a and b are equal')\n",
        "\n",
        "\n",
        "\n",
        "if b > a:\n",
        "  print('b is greater than a')\n",
        "\n",
        "if a == b:\n",
        "  print('a and b are equal')"
      ]
    },
    {
      "cell_type": "code",
      "execution_count": null,
      "metadata": {
        "id": "890Cm0IZF_mY"
      },
      "outputs": [],
      "source": []
    },
    {
      "cell_type": "markdown",
      "metadata": {
        "id": "HzPF2MVosKn4"
      },
      "source": [
        "# 3. Bucles\n",
        "## Bucles condicionales (while)\n",
        "\n",
        "\n",
        "```\n",
        "# while condición:\n",
        "    bloque código\n",
        "```\n",
        "\n",
        "\n",
        "\n",
        "Repite la ejecución del bloque de código mientras la expresión lógica condición sea cierta.\n",
        "\n",
        "Se puede interrumpir en cualquier momento la ejecución del bloque de código con la instrucción **break**.\n",
        "\n",
        " El bloque de código debe estar **indentado por 2 espacios o un tab.**"
      ]
    },
    {
      "cell_type": "code",
      "source": [
        "# from ast import AsyncFunctionDef\n",
        "# Crear un programa que me permita almacenar y/o actualizar el dato de los alumnos que se esten matriculando.\n",
        "nombre1 = input('Ingrese nombre del alumno')\n",
        "nombre2 = input('Ingrese nombre del alumno')\n",
        "nombre3 = input('Ingrese nombre del alumno')\n",
        "nombre4 = input('Ingrese nombre del alumno')\n",
        "nombre5 = input('Ingrese nombre del alumno')\n",
        "...\n",
        "nombre100 = input('Ingrese nombre del alumno')\n",
        "\n",
        "# While = \"mientras\", mientras se cumpla la condicion va a ejecutar el codigo."
      ],
      "metadata": {
        "id": "YPHqU2MAg4Qk"
      },
      "execution_count": null,
      "outputs": []
    },
    {
      "cell_type": "code",
      "source": [
        "condicion = True\n",
        "\n",
        "while condicion:\n",
        "  nombre = input('Ingrese nombre: ')\n",
        "  if nombre == 'Dany':\n",
        "    print('Se ingreso un dato correcto')\n",
        "    condicion = False\n",
        "  else:\n",
        "    condicion = True\n",
        "\n",
        "# Break"
      ],
      "metadata": {
        "id": "cwZxAclC5OaK",
        "colab": {
          "base_uri": "https://localhost:8080/"
        },
        "outputId": "2928d053-eb0b-4f8f-b826-c395b52651d1"
      },
      "execution_count": 104,
      "outputs": [
        {
          "output_type": "stream",
          "name": "stdout",
          "text": [
            "Ingrese nombre: rad\n",
            "Ingrese nombre: jose\n",
            "Ingrese nombre: perez\n",
            "Ingrese nombre: Dany\n",
            "Se ingreso un dato correcto\n"
          ]
        }
      ]
    },
    {
      "cell_type": "code",
      "source": [
        "condicion = True\n",
        "\n",
        "while condicion:\n",
        "  nombre = input('Ingrese el nombre del almuno: ')\n",
        "  if nombre == 'Dany' :\n",
        "     condicion = False # / break\n"
      ],
      "metadata": {
        "id": "uNcYdEyMMZhe",
        "colab": {
          "base_uri": "https://localhost:8080/"
        },
        "outputId": "e48fac87-db3e-4531-e996-752bb7cbde81"
      },
      "execution_count": 105,
      "outputs": [
        {
          "name": "stdout",
          "output_type": "stream",
          "text": [
            "Ingrese el nombre del almuno: asd\n",
            "Ingrese el nombre del almuno: Dany\n"
          ]
        }
      ]
    },
    {
      "cell_type": "code",
      "source": [],
      "metadata": {
        "id": "BF-B5I4jGPpv"
      },
      "execution_count": null,
      "outputs": []
    },
    {
      "cell_type": "code",
      "source": [
        "# Bucle infinito\n",
        "while 10 > 5:\n",
        "  input('Ingrese el nombre del alumno: ')\n"
      ],
      "metadata": {
        "id": "VS9tPn_EuAO0",
        "colab": {
          "base_uri": "https://localhost:8080/",
          "height": 490
        },
        "outputId": "42338998-51c4-464d-92c1-3615c1af7922"
      },
      "execution_count": 106,
      "outputs": [
        {
          "name": "stdout",
          "output_type": "stream",
          "text": [
            "Ingrese el nombre del alumno: a\n",
            "Ingrese el nombre del alumno: b\n",
            "Ingrese el nombre del alumno: c\n",
            "Ingrese el nombre del alumno: d\n",
            "Ingrese el nombre del alumno: e\n",
            "Ingrese el nombre del alumno: f\n",
            "Ingrese el nombre del alumno: g\n",
            "Ingrese el nombre del alumno: h\n"
          ]
        },
        {
          "output_type": "error",
          "ename": "KeyboardInterrupt",
          "evalue": "Interrupted by user",
          "traceback": [
            "\u001b[0;31m---------------------------------------------------------------------------\u001b[0m",
            "\u001b[0;31mKeyboardInterrupt\u001b[0m                         Traceback (most recent call last)",
            "\u001b[0;32m<ipython-input-106-6ac1950a3313>\u001b[0m in \u001b[0;36m<cell line: 2>\u001b[0;34m()\u001b[0m\n\u001b[1;32m      1\u001b[0m \u001b[0;31m# Bucle infinito\u001b[0m\u001b[0;34m\u001b[0m\u001b[0;34m\u001b[0m\u001b[0m\n\u001b[1;32m      2\u001b[0m \u001b[0;32mwhile\u001b[0m \u001b[0;36m10\u001b[0m \u001b[0;34m>\u001b[0m \u001b[0;36m5\u001b[0m\u001b[0;34m:\u001b[0m\u001b[0;34m\u001b[0m\u001b[0;34m\u001b[0m\u001b[0m\n\u001b[0;32m----> 3\u001b[0;31m   \u001b[0minput\u001b[0m\u001b[0;34m(\u001b[0m\u001b[0;34m'Ingrese el nombre del alumno: '\u001b[0m\u001b[0;34m)\u001b[0m\u001b[0;34m\u001b[0m\u001b[0;34m\u001b[0m\u001b[0m\n\u001b[0m",
            "\u001b[0;32m/usr/local/lib/python3.10/dist-packages/ipykernel/kernelbase.py\u001b[0m in \u001b[0;36mraw_input\u001b[0;34m(self, prompt)\u001b[0m\n\u001b[1;32m    849\u001b[0m                 \u001b[0;34m\"raw_input was called, but this frontend does not support input requests.\"\u001b[0m\u001b[0;34m\u001b[0m\u001b[0;34m\u001b[0m\u001b[0m\n\u001b[1;32m    850\u001b[0m             )\n\u001b[0;32m--> 851\u001b[0;31m         return self._input_request(str(prompt),\n\u001b[0m\u001b[1;32m    852\u001b[0m             \u001b[0mself\u001b[0m\u001b[0;34m.\u001b[0m\u001b[0m_parent_ident\u001b[0m\u001b[0;34m,\u001b[0m\u001b[0;34m\u001b[0m\u001b[0;34m\u001b[0m\u001b[0m\n\u001b[1;32m    853\u001b[0m             \u001b[0mself\u001b[0m\u001b[0;34m.\u001b[0m\u001b[0m_parent_header\u001b[0m\u001b[0;34m,\u001b[0m\u001b[0;34m\u001b[0m\u001b[0;34m\u001b[0m\u001b[0m\n",
            "\u001b[0;32m/usr/local/lib/python3.10/dist-packages/ipykernel/kernelbase.py\u001b[0m in \u001b[0;36m_input_request\u001b[0;34m(self, prompt, ident, parent, password)\u001b[0m\n\u001b[1;32m    893\u001b[0m             \u001b[0;32mexcept\u001b[0m \u001b[0mKeyboardInterrupt\u001b[0m\u001b[0;34m:\u001b[0m\u001b[0;34m\u001b[0m\u001b[0;34m\u001b[0m\u001b[0m\n\u001b[1;32m    894\u001b[0m                 \u001b[0;31m# re-raise KeyboardInterrupt, to truncate traceback\u001b[0m\u001b[0;34m\u001b[0m\u001b[0;34m\u001b[0m\u001b[0m\n\u001b[0;32m--> 895\u001b[0;31m                 \u001b[0;32mraise\u001b[0m \u001b[0mKeyboardInterrupt\u001b[0m\u001b[0;34m(\u001b[0m\u001b[0;34m\"Interrupted by user\"\u001b[0m\u001b[0;34m)\u001b[0m \u001b[0;32mfrom\u001b[0m \u001b[0;32mNone\u001b[0m\u001b[0;34m\u001b[0m\u001b[0;34m\u001b[0m\u001b[0m\n\u001b[0m\u001b[1;32m    896\u001b[0m             \u001b[0;32mexcept\u001b[0m \u001b[0mException\u001b[0m \u001b[0;32mas\u001b[0m \u001b[0me\u001b[0m\u001b[0;34m:\u001b[0m\u001b[0;34m\u001b[0m\u001b[0;34m\u001b[0m\u001b[0m\n\u001b[1;32m    897\u001b[0m                 \u001b[0mself\u001b[0m\u001b[0;34m.\u001b[0m\u001b[0mlog\u001b[0m\u001b[0;34m.\u001b[0m\u001b[0mwarning\u001b[0m\u001b[0;34m(\u001b[0m\u001b[0;34m\"Invalid Message:\"\u001b[0m\u001b[0;34m,\u001b[0m \u001b[0mexc_info\u001b[0m\u001b[0;34m=\u001b[0m\u001b[0;32mTrue\u001b[0m\u001b[0;34m)\u001b[0m\u001b[0;34m\u001b[0m\u001b[0;34m\u001b[0m\u001b[0m\n",
            "\u001b[0;31mKeyboardInterrupt\u001b[0m: Interrupted by user"
          ]
        }
      ]
    },
    {
      "cell_type": "code",
      "source": [
        "# Bucle infinito\n",
        "nro_alumnos = int(input('Ingrese el numero de alumnos a registrar: '))\n",
        "\n",
        "while 10 > nro_alumnos: # 4\n",
        "  input('Ingrese el nombre del alumno: ')"
      ],
      "metadata": {
        "id": "yaLwiiWTuX1h",
        "colab": {
          "base_uri": "https://localhost:8080/"
        },
        "outputId": "9dfb5f34-335a-49e1-c814-c5c15ac4ae6a"
      },
      "execution_count": 108,
      "outputs": [
        {
          "name": "stdout",
          "output_type": "stream",
          "text": [
            "Ingrese el numero de alumnos a registrar: 20\n"
          ]
        }
      ]
    },
    {
      "cell_type": "code",
      "source": [
        "# Contador = Una variable que ira almacenando/contando la cantidad de vueltas que esta dando el while\n",
        "nro_alumnos = int(input('Ingrese el numero de alumnos a registrar: '))\n",
        "contador = 1\n",
        "\n",
        "while contador <= nro_alumnos: #3\n",
        "  input('Ingrese el nombre del alumno: ')\n",
        "  contador = contador + 1"
      ],
      "metadata": {
        "id": "oq82ileLuCfG"
      },
      "execution_count": null,
      "outputs": []
    },
    {
      "cell_type": "code",
      "source": [
        "# Contador = Una variable que ira almacenando/contando la cantidad de vueltas que esta dando el while\n",
        "nro_alumnos = int(input('Ingrese el numero de alumnos a registrar: '))\n",
        "contador = 1\n",
        "\n",
        "while contador <= nro_alumnos: #3\n",
        "  print('Alumno:', contador)\n",
        "  input('Ingrese el nombre del alumno: ')\n",
        "  contador = contador + 1"
      ],
      "metadata": {
        "id": "6ejvxiwQ7oD7"
      },
      "execution_count": null,
      "outputs": []
    },
    {
      "cell_type": "code",
      "source": [
        "# Contador = Una variable que ira almacenando/contando la cantidad de vueltas que esta dando el while\n",
        "nro_alumnos = int(input('Ingrese el numero de alumnos a registrar: '))\n",
        "contador = 1\n",
        "\n",
        "while contador <= nro_alumnos: #3\n",
        "  input('Ingrese el nombre del alumno: ')\n",
        "  print('El valor del contador actualmente es:', contador)\n",
        "  contador += 1 #contador = contador + 1"
      ],
      "metadata": {
        "id": "do8vkSOH778a",
        "colab": {
          "base_uri": "https://localhost:8080/"
        },
        "outputId": "a7868984-3da1-4dc6-fdca-c25a4c908c61"
      },
      "execution_count": 109,
      "outputs": [
        {
          "output_type": "stream",
          "name": "stdout",
          "text": [
            "Ingrese el numero de alumnos a registrar: 2\n",
            "Ingrese el nombre del alumno: pedro\n",
            "El valor del contador actualmente es: 1\n",
            "Ingrese el nombre del alumno: Perez\n",
            "El valor del contador actualmente es: 2\n"
          ]
        }
      ]
    },
    {
      "cell_type": "code",
      "source": [
        "# Contador = Una variable que ira almacenando/contando la cantidad de vueltas que esta dando el while\n",
        "# f, es conocido como la funcion de cadena\n",
        "nro_alumnos = int(input('Ingrese el numero de alumnos a registrar: '))\n",
        "contador = 1\n",
        "nombre_docente = 'Dany'\n",
        "\n",
        "while contador <= nro_alumnos: #3\n",
        "  input(f'Ingrese el nombre del alumno {contador}, de {nro_alumnos} alumnos en total: ')\n",
        "  contador += 1 #contador = contador + 1"
      ],
      "metadata": {
        "id": "m245UaKo8day",
        "colab": {
          "base_uri": "https://localhost:8080/"
        },
        "outputId": "543ad2c0-6380-4204-d7b9-814efa53b49f"
      },
      "execution_count": 110,
      "outputs": [
        {
          "name": "stdout",
          "output_type": "stream",
          "text": [
            "Ingrese el numero de alumnos a registrar: 2\n",
            "Ingrese el nombre del alumno 1, de 2 alumnos en total: Pedro\n",
            "Ingrese el nombre del alumno 2, de 2 alumnos en total: Juan\n"
          ]
        }
      ]
    },
    {
      "cell_type": "code",
      "source": [
        "# Contador = Una variable que ira almacenando/contando la cantidad de vueltas que esta dando el while\n",
        "nro_alumnos = int(input('Ingrese el numero de alumnos a registrar: '))\n",
        "contador = 1\n",
        "\n",
        "while contador <= nro_alumnos: #3\n",
        "  input(f'Ingrese el nombre del alumno {contador} : ')\n",
        "  contador += 1 #contador = contador + 1"
      ],
      "metadata": {
        "id": "8k7E3ZRm65xA"
      },
      "execution_count": null,
      "outputs": []
    },
    {
      "cell_type": "code",
      "source": [
        "# Contador = Una variable que ira almacenando/contando la cantidad de vueltas que esta dando el while\n",
        "nro_alumnos = int(input('Ingrese el numero de alumnos a registrar: '))\n",
        "contador = 1\n",
        "\n",
        "while contador <= nro_alumnos: #3\n",
        "  input(f'Ingrese el nombre del alumno {contador} de un total de {nro_alumnos} alumnos : ')\n",
        "  contador += 1 #contador = contador + 1"
      ],
      "metadata": {
        "id": "i7QJgEys9zCP"
      },
      "execution_count": null,
      "outputs": []
    },
    {
      "cell_type": "code",
      "source": [
        "# Acumulador = Sirve para acumular valores y/o ir sumando datos\n",
        "\n",
        "# Crear un programa que me permita calcular el premio de las notas de un salon de N cantidad de alumnos\n",
        "nroAlum = int(input('Ingrese la cantidad de notas de alumnos a promediar: '))\n",
        "contador = 1\n",
        "acumNota = 0 # simpre inicia en el valor de cero\n",
        "\n",
        "while contador <= nroAlum:\n",
        "  nota = float(input('Ingrese la nota del alumno: '))\n",
        "  acumNota = acumNota + nota\n",
        "  contador += 1\n",
        "\n",
        "promedio = acumNota / nroAlum\n",
        "print('El promedio de notas del salon es:',promedio)\n",
        "print('El valor de las notas aculumadas es:', acumNota)"
      ],
      "metadata": {
        "id": "p2JmTY_E-s6X"
      },
      "execution_count": null,
      "outputs": []
    },
    {
      "cell_type": "code",
      "source": [
        "# Acumulador = Sirve para acumular valores y/o ir sumando datos\n",
        "\n",
        "#Crear un programa que me permita calcular el premio de las notas de un salon de alumnos\n",
        "nroAlum = int(input('Ingrese la cantidad de notas de alumnos a promediar: '))\n",
        "contador = 1\n",
        "acumNota = 0\n",
        "\n",
        "while contador <= nroAlum:\n",
        "  nota = float(input(f'Ingrese la nota del alumno {contador}: '))\n",
        "  acumNota = acumNota + nota\n",
        "  contador += 1\n",
        "\n",
        "promedio = acumNota / nroAlum\n",
        "print('El valor de las notas aculumadas es:', acumNota,'de',nroAlum,'Alumnos')\n",
        "print('El promedio de notas del salon es:',promedio)"
      ],
      "metadata": {
        "id": "pzzeaTMX-61B"
      },
      "execution_count": null,
      "outputs": []
    },
    {
      "cell_type": "code",
      "source": [
        "# Acumulador = Sirve para acumular valores y/o ir sumando datos\n",
        "\n",
        "#Crear un programa que me permita calcular el premio de las notas de un salon de alumnos\n",
        "nroAlum = int(input('Ingrese la cantidad de notas de alumnos a promediar: '))\n",
        "contador = 1\n",
        "acumNota = 0\n",
        "\n",
        "while contador <= nroAlum:\n",
        "  nota = float(input(f'Ingrese la nota del alumno {contador}: '))\n",
        "  acumNota = acumNota + nota\n",
        "  contador += 1\n",
        "\n",
        "promedio = acumNota / nroAlum\n",
        "print('El valor de las notas aculumadas es:', acumNota,'de',nroAlum,'Alumnos')\n",
        "print('El promedio de notas del salon es:',round(promedio,2))"
      ],
      "metadata": {
        "id": "z9q6Podb-tLk"
      },
      "execution_count": null,
      "outputs": []
    },
    {
      "cell_type": "code",
      "source": [],
      "metadata": {
        "id": "XEqO31YO-taQ"
      },
      "execution_count": null,
      "outputs": []
    },
    {
      "cell_type": "code",
      "source": [
        "# Contador = Una variable que ira almacenando y contando la cantidad de vueltas que dara\n",
        "nro_alumnos = int(input('Ingrese el numero de alumnos a registrar: '))\n",
        "contador = 1\n",
        "\n",
        "while contador <= nro_alumnos:\n",
        "  input('Ingrese el nombre del alumno: ')\n",
        "  contador = contador + 1"
      ],
      "metadata": {
        "id": "V7uCB02XuCuV"
      },
      "execution_count": null,
      "outputs": []
    },
    {
      "cell_type": "code",
      "source": [
        "# Contador = Una variable que ira almacenando y contando la cantidad de vueltas que dara\n",
        "nro_alumnos = int(input('Ingrese el numero de alumnos a registrar: '))\n",
        "contador = 1\n",
        "\n",
        "while contador <= nro_alumnos:\n",
        "  input('Ingrese el nombre del alumno: ')\n",
        "  contador = contador + 1 #metodo 1\n",
        "  print('EL valor del contador es:', contador)"
      ],
      "metadata": {
        "id": "yV5qPuKWxtCr"
      },
      "execution_count": null,
      "outputs": []
    },
    {
      "cell_type": "code",
      "source": [
        "# Contador = Una variable que ira almacenando y contando la cantidad de vueltas que dara\n",
        "nro_alumnos = int(input('Ingrese el numero de alumnos a registrar: '))\n",
        "contador = 1\n",
        "\n",
        "while contador <= nro_alumnos:\n",
        "  input('Ingrese el nombre del alumno: ')\n",
        "  contador += 1 #Metodo 2, icrementa el tamaño en cada vuelta que da.\n",
        "  print('EL valor del contador es:', contador)"
      ],
      "metadata": {
        "id": "jokeufaNxjab"
      },
      "execution_count": null,
      "outputs": []
    },
    {
      "cell_type": "code",
      "source": [
        "contador = 1\n",
        "\n",
        "while contador <= 2:\n",
        "  print('El valor del contador es:',contador)\n",
        "  input('Ingrese el nombre del almuno: ')\n",
        "  contador = contador + 1\n",
        "\n",
        "print('Termino el programa.')\n",
        "print('El valor final del contador es:', contador)\n",
        "print('El contador elevado al cuadrado es: ', contador**2)\n"
      ],
      "metadata": {
        "id": "rxNuuG5ciXU8"
      },
      "execution_count": null,
      "outputs": []
    },
    {
      "cell_type": "code",
      "source": [
        "contador"
      ],
      "metadata": {
        "id": "GpobjmsgPG6x"
      },
      "execution_count": null,
      "outputs": []
    },
    {
      "cell_type": "code",
      "source": [
        "n = 3 # Requiero registrar 3 alumnos - nombres\n",
        "\n",
        "contador = 1 # Contador\n",
        "\n",
        "while contador <= n :\n",
        "  nombre = input('Ingrese nombre del alumno')\n",
        "  contador = contador + 1 # Para incrementar el valor del contador"
      ],
      "metadata": {
        "id": "HcTAiyhfMh33"
      },
      "execution_count": null,
      "outputs": []
    },
    {
      "cell_type": "code",
      "source": [
        "n = 2 #Requiero registrar 3 alumnos - nombres\n",
        "contador = 1 # Contador\n",
        "\n",
        "while contador <= n:\n",
        "  nombre = input('Ingrese nombre del alumno')\n",
        "  contador += 1 #contador = contador + 1\n",
        "\n",
        "print(contador)"
      ],
      "metadata": {
        "id": "KkvbtgeUJdF4"
      },
      "execution_count": null,
      "outputs": []
    },
    {
      "cell_type": "code",
      "source": [
        "n = 3\n",
        "contador = 1\n",
        "\n",
        "while contador <= n :\n",
        "  nombre = input('Ingrese nombre del alumno: ')\n",
        "  print('Se ha ingresado el siguiente alumno: ', nombre)\n",
        "  contador += 1\n",
        "  print('El valor del contador es:',contador)"
      ],
      "metadata": {
        "id": "koK3OXzSLIcl"
      },
      "execution_count": null,
      "outputs": []
    },
    {
      "cell_type": "code",
      "source": [
        "n = int(input('Cuantos alumnos deseas registrar:'))\n",
        "contador = 1\n",
        "\n",
        "while contador <= n :\n",
        "  print('El valor del contador es:',contador)\n",
        "  nombre = input('Ingrese nombre del alumno: ')\n",
        "  print('Se ha ingresado el siguiente alumno: ', nombre)\n",
        "  contador += 1"
      ],
      "metadata": {
        "id": "q0Ntct9bSFAy"
      },
      "execution_count": null,
      "outputs": []
    },
    {
      "cell_type": "code",
      "source": [
        "n = int(input('Cuantos alumnos deseas registrar:'))\n",
        "contador = 1\n",
        "\n",
        "while contador <= n :\n",
        "  print('El valor del contador es:',contador)\n",
        "  nombre = input('Ingrese nombre del alumno: ')\n",
        "  print('Se ha ingresado el siguiente alumno: ', nombre)\n",
        "  contador += 1\n",
        "\n",
        "print('Se termino el ciclo')"
      ],
      "metadata": {
        "id": "N2E-rWhdMaOt"
      },
      "execution_count": null,
      "outputs": []
    },
    {
      "cell_type": "code",
      "source": [
        "# Crear un programa que me permita calcular la nota promedio de una clase de estudios\n",
        "\n",
        "n = int(input('Cuantos alumnos deseas registrar:')) # Requiero registrar notas 3 alumnos - nombres\n",
        "contador = 1 # Contador\n",
        "totalNotas = 0 # acumulador\n",
        "\n",
        "while contador <= n:\n",
        "  nota = int(input('Ingrese nota del alumno: '))\n",
        "  totalNotas = totalNotas + nota # totalNotas+= nota\n",
        "  print('Valor de Total Notas',totalNotas )\n",
        "  contador += 1 # contador = contador + 1\n",
        "\n",
        "promedio = totalNotas/n\n",
        "print('El promedio es',round(promedio,2) )"
      ],
      "metadata": {
        "id": "D974Ak9pTnc7"
      },
      "execution_count": null,
      "outputs": []
    },
    {
      "cell_type": "code",
      "source": [
        "# Funcion de cande 'f', nos permite agregar una variabla dentro de una cadena.\n",
        "# Crear un programa que me permita calcular la nota promedio de una clase de estudios\n",
        "\n",
        "n = int(input('Cuantos alumnos deseas registrar:')) # Requiero registrar notas 3 alumnos - nombres\n",
        "contador = 1 # Contador\n",
        "totalNotas = 0 # acumulador\n",
        "\n",
        "while contador <= n:\n",
        "  nota = int(input(f'Ingrese nota del alumno {contador}: '))\n",
        "  totalNotas = totalNotas + nota # totalNotas+= nota\n",
        "  print('Valor de Total Notas',totalNotas )\n",
        "  contador += 1 # contador = contador + 1\n",
        "\n",
        "promedio = totalNotas/n\n",
        "print('El promedio es',round(promedio,2) )"
      ],
      "metadata": {
        "id": "7p6kug2-1i6H"
      },
      "execution_count": null,
      "outputs": []
    },
    {
      "cell_type": "code",
      "source": [
        "n = int(input('Cuantos alumnos deseas registrar:')) # Requiero registrar notas 3 alumnos - nombres\n",
        "contador = 1 # Contador\n",
        "totalNotas = 0 # acumulador\n",
        "\n",
        "while contador <= n:\n",
        "  nota = int(input('Ingrese nota del alumno: '))\n",
        "  totalNotas = totalNotas + nota ### Falta volcarlo a una sola linea.\n",
        "  promedio = totalNotas / contador\n",
        "  contador += 1 # contador = contador + 1\n",
        "\n",
        "print('El promedio es',promedio)"
      ],
      "metadata": {
        "id": "IbI0TDMiUxQP"
      },
      "execution_count": null,
      "outputs": []
    },
    {
      "cell_type": "code",
      "source": [
        "n = int(input('Cuantos alumnos deseas registrar:')) # Requiero registrar notas 3 alumnos - nombres\n",
        "contador = 1 # Contador\n",
        "totalNotas = 0 # acumulador\n",
        "promedio\n",
        "\n",
        "while contador <= n:\n",
        "  nota = int(input(f'Ingrese nota del alumno {contador} de {n} solicitados: '))\n",
        "  promedio = (promedio + (nota/contador))\n",
        "  contador += 1 # contador = contador + 1\n",
        "\n",
        "print('El promedio es',promedio)"
      ],
      "metadata": {
        "id": "Lhkx4f8BWNTC"
      },
      "execution_count": null,
      "outputs": []
    },
    {
      "cell_type": "code",
      "source": [
        "n = 1 # Requiero registrar notas 3 alumnos - nombres\n",
        "contador = 1 # Contador\n",
        "totalNotas = 0 # acumulador\n",
        "\n",
        "while contador <= n:\n",
        "  nota = int(input(f'Ingrese nota del alumno {contador}: '))\n",
        "  totalNotas = totalNotas + nota # totalNotas+= nota\n",
        "  print('Valor de Total Notas',totalNotas )\n",
        "  contador += 1 # contador = contador + 1\n",
        "\n",
        "promedio =totalNotas/n\n",
        "print('El promedio es',round(promedio,2) ) # Round, nos permite redondear numeros flotantes segun la cantidad de decimales que le asigne"
      ],
      "metadata": {
        "id": "m1C1IHQCj5CY"
      },
      "execution_count": null,
      "outputs": []
    },
    {
      "cell_type": "code",
      "source": [
        "n = 3 # Requiero registrar notas 3 alumnos - nombres\n",
        "contador = 1 # Contador\n",
        "totalNotas = 0 # acumulador\n",
        "\n",
        "while contador <= n:\n",
        "  nota = int(input(f'Ingrese nota del alumno {contador}: '))\n",
        "  if nota >= 0:\n",
        "    totalNotas = totalNotas + nota # totalNotas+= nota\n",
        "    print('Valor de Total Notas',totalNotas )\n",
        "    contador += 1 # contador = contador + 1\n",
        "  else:\n",
        "    print('Es un numero negativo')\n",
        "\n",
        "\n",
        "promedio =totalNotas/n\n",
        "print('El promedio es',round(promedio,2) )"
      ],
      "metadata": {
        "id": "7Wcwup6YaCSw"
      },
      "execution_count": null,
      "outputs": []
    },
    {
      "cell_type": "code",
      "source": [
        "promedio =totalNotas/n\n",
        "print('El promedio es',round(promedio,0) )"
      ],
      "metadata": {
        "id": "fWMvkDxGmhe8"
      },
      "execution_count": null,
      "outputs": []
    },
    {
      "cell_type": "markdown",
      "source": [
        "**10 minutos**\n",
        "\n",
        "**Ejercicio**, crea un programa que permita registrar los sueldos de N colaboradores de una empresa\n",
        "\n",
        "1.   Solicitar al usuario cuantos colaboradores son parte de la empresa.\n",
        "2.   Registrar los sueldos (acumular)\n",
        "3.   Mostrar el promedio de los sueldos."
      ],
      "metadata": {
        "id": "NdrBJJuUO1zo"
      }
    },
    {
      "cell_type": "code",
      "source": [
        "# crea un programa que permita registrar los sueldos de N colaboradores de una empresa\n",
        "# solicitar al usuario cuantos colaboradores son parte de la empresa\n",
        "employees = int(input(\"Cuantos colaboradores forman parte de la empresa:\"))\n",
        "\n",
        "#registrar los sueldos acumularlos\n",
        "i=0\n",
        "sueldo_acumulado=0\n",
        "while i<employees :\n",
        "  sueldo = float(input(f'Ingrese el sueldo del colaborador {i+1}: '))\n",
        "  sueldo_acumulado += sueldo\n",
        "  i +=1\n",
        "\n",
        "#mostrar el promedio de los sueldos\n",
        "promedio = sueldo_acumulado/employees\n",
        "print(\"El promedio de los sueldos de\", employees, \" empleados es:\", promedio)\n",
        "\n"
      ],
      "metadata": {
        "id": "0Wwk4g7oOzb2",
        "colab": {
          "base_uri": "https://localhost:8080/"
        },
        "outputId": "e970e15a-e699-4f68-8881-7f481e635726"
      },
      "execution_count": 117,
      "outputs": [
        {
          "output_type": "stream",
          "name": "stdout",
          "text": [
            "Cuantos colaboradores forman parte de la empresa:3\n",
            "Ingrese el sueldo del colaborador 1: 10000\n",
            "Ingrese el sueldo del colaborador 2: 5000\n",
            "Ingrese el sueldo del colaborador 3: 3500\n",
            "El promedio de los sueldos de 3  empleados es: 6166.666666666667\n"
          ]
        }
      ]
    },
    {
      "cell_type": "code",
      "source": [],
      "metadata": {
        "id": "URmMwrMoQ3KG"
      },
      "execution_count": null,
      "outputs": []
    },
    {
      "cell_type": "code",
      "source": [],
      "metadata": {
        "id": "D1LDhh8XsTnF"
      },
      "execution_count": null,
      "outputs": []
    },
    {
      "cell_type": "code",
      "source": [
        "# Uso del break\n",
        "# break = Cortar/interrumpir/anular un bucle de tipo WHILE, siempre y cuando se cumpla una condicion.\n",
        "\n",
        "#Objetivo: Crear un programa, que nos permita calcular el sueldo promedio de una cantidad de trabajadores de una empresa\n",
        "#paso1: Solicitar al usuario que ingrese la cantidad de colaboradores de la empresa\n",
        "cantColab = int(input('Ingrese la cantidad de colaboradores: '))\n",
        "contador = 1\n",
        "acumSueldos = 0\n",
        "\n",
        "#paso2: Recorro la cantidad de colaboradores a consultar su sueldo\n",
        "while contador <= cantColab:\n",
        "  sueldo = float(input(f'Ingrese el sueldo del colaborador N^ {contador}: '))\n",
        "  if sueldo <= 0:\n",
        "    break\n",
        "  acumSueldos = acumSueldos + sueldo\n",
        "  contador += 1\n",
        "\n",
        "#Paso3: Promedio los sueldos\n",
        "promSueldo = acumSueldos / cantColab\n",
        "#paso4: Muestro los resultados\n",
        "print(f'El sueldo promedio de {contador-1} colaboradores, es:', promSueldo)"
      ],
      "metadata": {
        "id": "Qe4WWn69tnIC"
      },
      "execution_count": null,
      "outputs": []
    },
    {
      "cell_type": "code",
      "source": [
        "#Uso del Continue\n",
        "\n",
        "#Objetivo: Crear un programa, que nos permita calcular el sueldo promedio de una cantidad de trabajadores de una empresa\n",
        "#paso1: Solicitar al usuario que ingrese la cantidad de colaboradores de la empresa\n",
        "cantColab = int(input('Ingrese la cantidad de colaboradores: '))\n",
        "contador = 1\n",
        "acumSueldos = 0\n",
        "\n",
        "#paso2: Recorro la cantidad de colaboradores a consultar su sueldo\n",
        "while contador <= cantColab:\n",
        "  sueldo = float(input(f'Ingrese el sueldo del colaborador N^ {contador}: '))\n",
        "  if sueldo <= 0:\n",
        "    continue\n",
        "  acumSueldos = acumSueldos + sueldo\n",
        "  contador += 1\n",
        "\n",
        "#Paso3: Promedio los sueldos\n",
        "promSueldo = acumSueldos / cantColab\n",
        "#paso4: Muestro los resultados\n",
        "print(f'El sueldo promedio de {contador-1} colaboradores, es:', promSueldo)"
      ],
      "metadata": {
        "id": "SXNIyiHX_pID"
      },
      "execution_count": null,
      "outputs": []
    },
    {
      "cell_type": "code",
      "execution_count": null,
      "metadata": {
        "id": "z94DTxeyktY6"
      },
      "outputs": [],
      "source": [
        "while 1==1:\n",
        "  print('Hola esto es una prueba')\n",
        "  print('---')"
      ]
    },
    {
      "cell_type": "code",
      "execution_count": null,
      "metadata": {
        "id": "Ir5-bIlRslUG"
      },
      "outputs": [],
      "source": [
        "# Pregunta al usuario por un número hasta que introduce 0.\n",
        "# != : Signfica diferente\n",
        "num = None\n",
        "\n",
        "while num != 0:\n",
        "  num = int(input('Introduce un número: '))\n",
        "  print('Ha ingresado',num)"
      ]
    },
    {
      "cell_type": "markdown",
      "metadata": {
        "id": "-iMkI2aksvVC"
      },
      "source": [
        "Alternativa"
      ]
    },
    {
      "cell_type": "code",
      "execution_count": null,
      "metadata": {
        "id": "uxG-_9NAswY5"
      },
      "outputs": [],
      "source": [
        "#num = None\n",
        "while True:\n",
        "  num = int(input('Introduce un número: '))\n",
        "  if num == 0:\n",
        "    break"
      ]
    },
    {
      "cell_type": "code",
      "execution_count": null,
      "metadata": {
        "id": "M3vwd6AYpCI4"
      },
      "outputs": [],
      "source": [
        "while False:\n",
        "  print('hola')"
      ]
    },
    {
      "cell_type": "code",
      "execution_count": null,
      "metadata": {
        "id": "Derpeif8pSLO"
      },
      "outputs": [],
      "source": [
        "i = 0 #contador\n",
        "\n",
        "while i<= 8:\n",
        "  print('orden',i)\n",
        "  i += 1 #i = i + 1"
      ]
    },
    {
      "cell_type": "code",
      "execution_count": null,
      "metadata": {
        "id": "UV2HKxrRrKsw"
      },
      "outputs": [],
      "source": []
    },
    {
      "cell_type": "markdown",
      "metadata": {
        "id": "HW8qs5Fys-5A"
      },
      "source": [
        "# 4. Bucles iterativos (for)\n",
        "* for i in secuencia:\n",
        "*    bloque código\n",
        "\n",
        "**Repite la ejecución** del bloque de código para cada elemento de la secuencia secuencia, asignado dicho elemento a i en cada repetición.\n",
        "\n",
        "## El bloque de código debe estar indentado por 2 espacios o tab.\n",
        "\n",
        "Se utiliza fundamentalmente para recorrer colecciones de objetos como cadenas, listas, tuplas o diccionarios.\n",
        "\n",
        "A menudo se usan con la instrucción range:\n",
        "\n",
        "* range(fin) : Genera una secuencia de números enteros desde 0 hasta dato asignado.\n",
        "* range(inicio, fin, salto) : Genera una secuencia de números enteros desde inicio hasta fin-1 con un incremento de salto."
      ]
    },
    {
      "cell_type": "code",
      "source": [
        "range(5)\n",
        "# 0,1,2,3,4"
      ],
      "metadata": {
        "id": "o4si-pUd4BbK",
        "colab": {
          "base_uri": "https://localhost:8080/"
        },
        "outputId": "18fb01d4-6093-48e4-9947-156a978b35ae"
      },
      "execution_count": 118,
      "outputs": [
        {
          "output_type": "execute_result",
          "data": {
            "text/plain": [
              "range(0, 5)"
            ]
          },
          "metadata": {},
          "execution_count": 118
        }
      ]
    },
    {
      "cell_type": "code",
      "source": [
        "# Para el range, el ultimo valor debe de ser restado una unidad -1\n",
        "range(2,7)\n",
        "# 2,3,4,5,6"
      ],
      "metadata": {
        "id": "Pc-eAJL-4RCB",
        "colab": {
          "base_uri": "https://localhost:8080/"
        },
        "outputId": "0f39c8e4-88db-4aee-c065-dc0c8063381d"
      },
      "execution_count": 119,
      "outputs": [
        {
          "output_type": "execute_result",
          "data": {
            "text/plain": [
              "range(2, 7)"
            ]
          },
          "metadata": {},
          "execution_count": 119
        }
      ]
    },
    {
      "cell_type": "code",
      "source": [
        "range(10,1,-2)\n",
        "# 10, 8, 6, 4, 2"
      ],
      "metadata": {
        "id": "tpRckZdjeKxL",
        "colab": {
          "base_uri": "https://localhost:8080/"
        },
        "outputId": "cd35481c-fd53-4261-8dca-45c67c5d88d3"
      },
      "execution_count": 120,
      "outputs": [
        {
          "output_type": "execute_result",
          "data": {
            "text/plain": [
              "range(10, 1, -2)"
            ]
          },
          "metadata": {},
          "execution_count": 120
        }
      ]
    },
    {
      "cell_type": "code",
      "source": [
        "for iterante in range(3): # 0,1,2,3,4,5,6,7,8,9\n",
        "  print('El valor del iterante es',iterante)"
      ],
      "metadata": {
        "id": "iwhQr0YnLneH",
        "colab": {
          "base_uri": "https://localhost:8080/"
        },
        "outputId": "fff57a29-e2dd-4aa0-ebd6-b51411fabfaa"
      },
      "execution_count": 121,
      "outputs": [
        {
          "output_type": "stream",
          "name": "stdout",
          "text": [
            "El valor del iterante es 0\n",
            "El valor del iterante es 1\n",
            "El valor del iterante es 2\n"
          ]
        }
      ]
    },
    {
      "cell_type": "code",
      "source": [
        "for iterante in range(5): # 0,1,2,3,4\n",
        "  print(iterante)"
      ],
      "metadata": {
        "id": "ujTSupp7MnqN",
        "colab": {
          "base_uri": "https://localhost:8080/"
        },
        "outputId": "b4ca25b9-c79f-4d43-e1d7-34f09bcb5afc"
      },
      "execution_count": 122,
      "outputs": [
        {
          "output_type": "stream",
          "name": "stdout",
          "text": [
            "0\n",
            "1\n",
            "2\n",
            "3\n",
            "4\n"
          ]
        }
      ]
    },
    {
      "cell_type": "code",
      "source": [
        "for iterante in range(5): # 0,1,2,3,4\n",
        "  print('ramdon')"
      ],
      "metadata": {
        "id": "dP5M7AmjM96u",
        "colab": {
          "base_uri": "https://localhost:8080/"
        },
        "outputId": "42d8b853-3563-4e28-ce5f-18a57d00a722"
      },
      "execution_count": 123,
      "outputs": [
        {
          "output_type": "stream",
          "name": "stdout",
          "text": [
            "ramdon\n",
            "ramdon\n",
            "ramdon\n",
            "ramdon\n",
            "ramdon\n"
          ]
        }
      ]
    },
    {
      "cell_type": "code",
      "source": [
        "lista = range(5)\n",
        "lista"
      ],
      "metadata": {
        "id": "UO9ZC3PnNM2C",
        "colab": {
          "base_uri": "https://localhost:8080/"
        },
        "outputId": "8a9a1f59-4386-43fe-adb5-f19d8f5c8b9a"
      },
      "execution_count": 124,
      "outputs": [
        {
          "output_type": "execute_result",
          "data": {
            "text/plain": [
              "range(0, 5)"
            ]
          },
          "metadata": {},
          "execution_count": 124
        }
      ]
    },
    {
      "cell_type": "code",
      "source": [
        "lista = range(4,-1,-1)\n",
        "\n",
        "for i in lista: # 0,1,2,3,4 / 5,4,3,2,1\n",
        "  print(i)"
      ],
      "metadata": {
        "id": "4BZqnyx5NFtT",
        "colab": {
          "base_uri": "https://localhost:8080/"
        },
        "outputId": "08a44c5a-211b-4a8a-d204-383561acebd4"
      },
      "execution_count": 125,
      "outputs": [
        {
          "output_type": "stream",
          "name": "stdout",
          "text": [
            "4\n",
            "3\n",
            "2\n",
            "1\n",
            "0\n"
          ]
        }
      ]
    },
    {
      "cell_type": "code",
      "source": [
        "for i in range(5): # 0,1,2,3,4\n",
        "  print(i**2)"
      ],
      "metadata": {
        "id": "jn0RgjT7NWrS",
        "colab": {
          "base_uri": "https://localhost:8080/"
        },
        "outputId": "99d85ddb-3224-4e06-ed47-069d0d42b1f7"
      },
      "execution_count": 126,
      "outputs": [
        {
          "output_type": "stream",
          "name": "stdout",
          "text": [
            "0\n",
            "1\n",
            "4\n",
            "9\n",
            "16\n"
          ]
        }
      ]
    },
    {
      "cell_type": "code",
      "source": [
        "contador = 1\n",
        "\n",
        "for iterante in 'Dany churapa':\n",
        "  print(contador,iterante)\n",
        "  contador = contador + 1"
      ],
      "metadata": {
        "id": "OdkP6uc5NmaG",
        "colab": {
          "base_uri": "https://localhost:8080/"
        },
        "outputId": "ff3ebf55-bd12-4a8b-a549-e4a51cad8fba"
      },
      "execution_count": 127,
      "outputs": [
        {
          "output_type": "stream",
          "name": "stdout",
          "text": [
            "1 D\n",
            "2 a\n",
            "3 n\n",
            "4 y\n",
            "5  \n",
            "6 c\n",
            "7 h\n",
            "8 u\n",
            "9 r\n",
            "10 a\n",
            "11 p\n",
            "12 a\n"
          ]
        }
      ]
    },
    {
      "cell_type": "code",
      "source": [
        "for m in ['Dany','Monica','Marcos','Miguel','Pilar','Maria']:\n",
        "  print(m)"
      ],
      "metadata": {
        "id": "N6XegIHGN8NH",
        "colab": {
          "base_uri": "https://localhost:8080/"
        },
        "outputId": "5cba0d0e-149a-493c-ccbe-472d4d4b6da4"
      },
      "execution_count": 128,
      "outputs": [
        {
          "output_type": "stream",
          "name": "stdout",
          "text": [
            "Dany\n",
            "Monica\n",
            "Marcos\n",
            "Miguel\n",
            "Pilar\n",
            "Maria\n"
          ]
        }
      ]
    },
    {
      "cell_type": "code",
      "source": [
        "for i in range(5,0,-1):\n",
        "    print(i)"
      ],
      "metadata": {
        "id": "IuCbjvQHNmsf",
        "colab": {
          "base_uri": "https://localhost:8080/"
        },
        "outputId": "58c6984d-983d-4613-97ec-f4d81573f9a8"
      },
      "execution_count": 130,
      "outputs": [
        {
          "output_type": "stream",
          "name": "stdout",
          "text": [
            "5\n",
            "4\n",
            "3\n",
            "2\n",
            "1\n"
          ]
        }
      ]
    },
    {
      "cell_type": "code",
      "source": [
        "for y in 'Dany':\n",
        "  print(y)"
      ],
      "metadata": {
        "id": "_jO4KbHRnsvB",
        "colab": {
          "base_uri": "https://localhost:8080/"
        },
        "outputId": "31452035-144d-46e2-c6e7-4a525e409e0b"
      },
      "execution_count": 129,
      "outputs": [
        {
          "output_type": "stream",
          "name": "stdout",
          "text": [
            "D\n",
            "a\n",
            "n\n",
            "y\n"
          ]
        }
      ]
    },
    {
      "cell_type": "code",
      "source": [
        "for francisco in range(10,1,-2): # 0,1,2,3,4\n",
        "  print(francisco)"
      ],
      "metadata": {
        "id": "G55W7QtuG8_k"
      },
      "execution_count": null,
      "outputs": []
    },
    {
      "cell_type": "code",
      "source": [
        "# Palabra reservada \"for\"\n",
        "# El iterador (i), va a contener la informacion de la vuelta que se de en la secuencia.\n",
        "# El valor del iterante, no siempre es la \"i\"\n",
        "for m in 'dany':\n",
        "  print('El valor del iterante es:', m) # i=A, i=B, i=C, i=D ..... i=I"
      ],
      "metadata": {
        "id": "fRdMe7iob3H4"
      },
      "execution_count": null,
      "outputs": []
    },
    {
      "cell_type": "code",
      "source": [
        "# Uso de listas\n",
        "for iterante in [13,12,16,14]:\n",
        "  print('El valor de la lista es:', iterante)"
      ],
      "metadata": {
        "id": "oAtIBsT4c2T_"
      },
      "execution_count": null,
      "outputs": []
    },
    {
      "cell_type": "code",
      "source": [
        "#range(8): 0, 1, 2, 3, 4, 5, 6, 7\n",
        "cant_notas = int(input('nota'))\n",
        "\n",
        "for q in range(cant_notas): #range(5) = 0,1,2,3,4\n",
        "  print(q)"
      ],
      "metadata": {
        "id": "SlAUiMZZ4hd3"
      },
      "execution_count": null,
      "outputs": []
    },
    {
      "cell_type": "code",
      "source": [
        "for m in range(4,12):\n",
        "  print(m)"
      ],
      "metadata": {
        "id": "3XxWx5rT6NAp"
      },
      "execution_count": null,
      "outputs": []
    },
    {
      "cell_type": "code",
      "source": [
        "# Acumulador = Sirve para acumular valores y/o ir sumando datos\n",
        "\n",
        "#Crear un programa que me permita calcular el premio de las notas de un salon de alumnos\n",
        "nroAlum = int(input('Ingrese la cantidad de notas de alumnos a promediar: '))\n",
        "contador = 1\n",
        "acumNota = 0\n",
        "\n",
        "while contador <= nroAlum:\n",
        "  nota = float(input('Ingrese la nota del alumno: '))\n",
        "  acumNota = acumNota + nota\n",
        "  contador += 1\n",
        "\n",
        "promedio = acumNota / nroAlum\n",
        "print('El promedio de notas del salon es:',promedio)\n",
        "print('El valor de las notas aculumadas es:', acumNota)"
      ],
      "metadata": {
        "id": "DQ6RR3MEQFlI"
      },
      "execution_count": null,
      "outputs": []
    },
    {
      "cell_type": "code",
      "source": [
        "# Acumulador = Sirve para acumular valores y/o ir sumando datos\n",
        "\n",
        "#Crear un programa que me permita calcular el premio de las notas de un salon de alumnos\n",
        "nroAlum = int(input('Ingrese la cantidad de notas de alumnos a promediar: '))\n",
        "acumNota = 0\n",
        "\n",
        "for iterante in range(nroAlum): # range(3) = (0,1,2)\n",
        "  nota = float(input(f'Ingrese la nota del alumno {iterante+1}: '))\n",
        "  acumNota = acumNota + nota\n",
        "\n",
        "promedio = acumNota / nroAlum\n",
        "print('El promedio de notas del salon es:',promedio)\n",
        "print('El valor de las notas aculumadas es:', acumNota)"
      ],
      "metadata": {
        "id": "me4XkoMiQG6b"
      },
      "execution_count": null,
      "outputs": []
    },
    {
      "cell_type": "code",
      "source": [],
      "metadata": {
        "id": "dqNDS3crQHPY"
      },
      "execution_count": null,
      "outputs": []
    },
    {
      "cell_type": "code",
      "source": [
        "#range(10,1,-2) = (10,8,6,4,2)\n",
        "for i in range(10,1,-2):\n",
        "  print(i)"
      ],
      "metadata": {
        "id": "KOCpsl-T6Y6A"
      },
      "execution_count": null,
      "outputs": []
    },
    {
      "cell_type": "code",
      "source": [
        "for i in range(10,101,10):\n",
        "  print(i)"
      ],
      "metadata": {
        "id": "Gk6YFpxZecZs"
      },
      "execution_count": null,
      "outputs": []
    },
    {
      "cell_type": "code",
      "execution_count": null,
      "metadata": {
        "id": "pQNb0EUTtUI6"
      },
      "outputs": [],
      "source": [
        "palabra = 'Python'\n",
        "\n",
        "for letra in palabra:\n",
        "  print(letra)"
      ]
    },
    {
      "cell_type": "code",
      "source": [
        "n = int(input('Cuantos alumnos deseas registrar:')) # Requiero registrar notas 3 alumnos - nombres\n",
        "totalNotas = 0 # acumulador\n",
        "\n",
        "for iterante in range(n): # range(3) = (0,1,2)\n",
        "  nota = int(input(f'Ingrese nota del alumno {iterante+1}: '))\n",
        "  totalNotas = totalNotas + nota ### Falta volcarlo a una sola linea.\n",
        "  promedio = totalNotas / n\n",
        "\n",
        "print('El promedio es', round(promedio,2))"
      ],
      "metadata": {
        "id": "HtDU0-Uh7dGf"
      },
      "execution_count": null,
      "outputs": []
    },
    {
      "cell_type": "code",
      "source": [
        "n = int(input('Cuantos alumnos deseas registrar:')) # Requiero registrar notas 3 alumnos - nombres\n",
        "contador = 1 # Contador\n",
        "totalNotas = 0 # acumulador\n",
        "\n",
        "while contador <= n:\n",
        "  nota = int(input('Ingrese nota del alumno: '))\n",
        "  totalNotas = totalNotas + nota ### Falta volcarlo a una sola linea.\n",
        "  promedio = totalNotas / contador\n",
        "  contador += 1 # contador = contador + 1\n",
        "\n",
        "print('El promedio es',promedio)"
      ],
      "metadata": {
        "id": "K23ZA8jEJoz-"
      },
      "execution_count": null,
      "outputs": []
    },
    {
      "cell_type": "code",
      "source": [],
      "metadata": {
        "id": "lB9ivXdpJpK4"
      },
      "execution_count": null,
      "outputs": []
    },
    {
      "cell_type": "code",
      "source": [],
      "metadata": {
        "id": "uhGvH0C-JpjR"
      },
      "execution_count": null,
      "outputs": []
    },
    {
      "cell_type": "code",
      "source": [
        "notas = int(input('Ingrese la cantidad de notas a registrar: '))\n",
        "totalNotas = 0 #acumuladora\n",
        "#contador = 1\n",
        "\n",
        "for iterante in range(notas): #range(3) = 0,1,2\n",
        "#while contador <= notas:\n",
        "  nota = int(input(f'Ingrese la nota {iterante+1}: '))\n",
        "  totalNotas = totalNotas + nota\n",
        "  #contador += 1\n",
        "\n",
        "promNota = totalNotas / notas\n",
        "print('El promedio de notas es:', round(promNota,2))\n",
        "print('El promedio de notas es:', promNota)\n",
        "print('El promedio de notas es:',round(promNota) )\n"
      ],
      "metadata": {
        "id": "0_x8dxgmqQEI"
      },
      "execution_count": null,
      "outputs": []
    },
    {
      "cell_type": "code",
      "source": [
        "notas = int(input('Ingrese la cantidad de notas a registrar: '))\n",
        "totalNotas = 0 #acumuladora\n",
        "\n",
        "for i in range(notas):\n",
        "  nota = int(input('Ingrese nota: '))\n",
        "  totalNotas = totalNotas + nota\n",
        "\n",
        "promNota = totalNotas / notas\n",
        "print('El promedio de notas es:', round(promNota,2), promNota,round(promNota) )\n"
      ],
      "metadata": {
        "id": "cHyHD7iE7jkk"
      },
      "execution_count": null,
      "outputs": []
    },
    {
      "cell_type": "markdown",
      "source": [
        "El mismo ejercicio con while y usemos **for en 10 min**\n",
        "\n",
        "**Ejercicio**, crea un programa que permita registrar los sueldos de los colaboradores de una empresa\n",
        "\n",
        "1.   Solicitar al usuario cuanto s colaboradores son parte de la empresa.\n",
        "2.   Registrar los sueldos (acumular)\n",
        "3.   Mostrar el promedio de sueldos."
      ],
      "metadata": {
        "id": "Fzg_WNv9gtCa"
      }
    },
    {
      "cell_type": "code",
      "source": [
        "valor = int(input('Ingrese numero: '))\n",
        "\n",
        "for i in range(valor): # range(10) = 0,1,2,3,4,5,6,7,8,9\n",
        "  print(i)"
      ],
      "metadata": {
        "id": "Ep9CjAL4gqZ1"
      },
      "execution_count": null,
      "outputs": []
    },
    {
      "cell_type": "code",
      "execution_count": null,
      "metadata": {
        "id": "ZpsQpr-3ta6f"
      },
      "outputs": [],
      "source": []
    },
    {
      "cell_type": "markdown",
      "metadata": {
        "id": "0A3gNJhKwx7G"
      },
      "source": [
        "## Ejercicio 1 - CADENAS\n",
        "* Dado una cadena de con el siguiente formato de hora: hhmmss (18:24:50)\n",
        "* mostrar el siguiente mensaje : “Son las 18h:24min:50seg”"
      ]
    },
    {
      "cell_type": "code",
      "execution_count": 131,
      "metadata": {
        "id": "Cf8Ww1qMw_UD",
        "colab": {
          "base_uri": "https://localhost:8080/"
        },
        "outputId": "64a63484-2376-4119-cf44-868649210e4d"
      },
      "outputs": [
        {
          "output_type": "stream",
          "name": "stdout",
          "text": [
            "Dame la hora en formato hh:mm:ss ej.18:24:50 18:24:50\n",
            "Son las 18h:24min:50seg\n"
          ]
        }
      ],
      "source": [
        "hora = input('Dame la hora en formato hh:mm:ss ej.18:24:50 ')\n",
        "\n",
        "mensaje = f'Son las {hora[0:2]}h:{hora[3:5]}min:{hora[6:8]}seg'\n",
        "print(mensaje)"
      ]
    },
    {
      "cell_type": "code",
      "execution_count": null,
      "metadata": {
        "id": "ZCMV_usMw_e2"
      },
      "outputs": [],
      "source": []
    },
    {
      "cell_type": "code",
      "source": [],
      "metadata": {
        "id": "dg-Orapwja_K"
      },
      "execution_count": null,
      "outputs": []
    },
    {
      "cell_type": "markdown",
      "metadata": {
        "id": "ibQKQ26dw_3c"
      },
      "source": [
        "## Ejercicio 2 - CADENAS\n",
        "\n",
        "Escribir un programa que pregunte el nombre completo del usuario en la consola e imprima en formato donde la primera letra es mayúscula y los demás minúscula.\n",
        "> Ejemplo:\n",
        "* nombre ingresado: jimmy farfan\n",
        "* outPut: Jimmy Farfán"
      ]
    },
    {
      "cell_type": "code",
      "execution_count": null,
      "metadata": {
        "id": "B_Ho7bntxKKx"
      },
      "outputs": [],
      "source": []
    },
    {
      "cell_type": "markdown",
      "source": [
        "##Ejercicio 2.2 - Cadenas\n",
        "\n",
        "Nombre ingresado: 20 jimmy FARFAn\n",
        "\n",
        "output:\n",
        "\n",
        "El nombre del participante es Jimmy Farfan\n",
        "y su edad es 20 años\n",
        "\n",
        "**Condicion:** siempre la edad debe de contener 2 digitos (05)"
      ],
      "metadata": {
        "id": "qL445LZsryZR"
      }
    },
    {
      "cell_type": "code",
      "execution_count": null,
      "metadata": {
        "id": "92Ojcd8GxKUd"
      },
      "outputs": [],
      "source": []
    },
    {
      "cell_type": "code",
      "source": [],
      "metadata": {
        "id": "ExCz5AT4wo0L"
      },
      "execution_count": null,
      "outputs": []
    },
    {
      "cell_type": "markdown",
      "metadata": {
        "id": "emqcZ-vCxOnp"
      },
      "source": [
        "## Ejercicio 3 - CONDICIONALES\n",
        "\n",
        "En una oficina de empleos categorizan a los postulantes en función del sexo y de la edad de acuerdo con lo siguiente:\n",
        "* Si la persona es de sexo femenino: categoría FA si tiene menos de 23 años y FB, en caso contrario.\n",
        "* Si la persona es de sexo masculino: categoría MA si tiene menos de 25 años y MB, en caso contrario. Dado el sexo y la edad de un postulante, diseñe un programa que determine su categoría."
      ]
    },
    {
      "cell_type": "code",
      "execution_count": null,
      "metadata": {
        "id": "k9J04so9xpSr"
      },
      "outputs": [],
      "source": []
    },
    {
      "cell_type": "code",
      "execution_count": null,
      "metadata": {
        "id": "2gNSJ0OUxpbX"
      },
      "outputs": [],
      "source": []
    },
    {
      "cell_type": "markdown",
      "metadata": {
        "id": "qwmd0JvrxwO4"
      },
      "source": [
        "## Ejercicio 4 - CONDICIONALES\n",
        "\n",
        "Una tienda vende un producto a precios unitarios que dependen de la cantidad de unidades adquiridas de acuerdo a la tabla adjunta:\n",
        "\n",
        "* de 1 a 25: precio 27.7\n",
        "* de 26 a 50: precio 25.5\n",
        "* de 51 a 75: precio 23.7\n",
        "* de 76 a mas : precio 21.7\n",
        "\n",
        "\n",
        "\n",
        "1.   Adicionalmente, si el cliente adquiere más de 50 unidades la tienda le descuenta el 15% del importe de la compra; en caso contrario, sólo le descuenta el 5% del importe compra.\n",
        "2.   Diseñe un programa que determine el importe de la compra, el importe del descuento y el importe a pagar por la compra de cierta cantidad de unidades del producto."
      ]
    },
    {
      "cell_type": "code",
      "execution_count": null,
      "metadata": {
        "id": "Ooo1NvVix0k4"
      },
      "outputs": [],
      "source": []
    },
    {
      "cell_type": "code",
      "source": [],
      "metadata": {
        "id": "epP-GAc8EzAj"
      },
      "execution_count": null,
      "outputs": []
    },
    {
      "cell_type": "markdown",
      "metadata": {
        "id": "hcJrlMsfx9DY"
      },
      "source": [
        "## Ejercicio 5 - Bucles\n",
        "\n",
        "Calcular el sueldo promedio:\n",
        "\n",
        "1. Ingresa la cantidad de sueldo a promediar\n",
        "2. Ingresar los sueldos\n",
        "3. Calcular el promedio de los sueldo."
      ]
    },
    {
      "cell_type": "code",
      "execution_count": null,
      "metadata": {
        "id": "zrGkNmC84q8b"
      },
      "outputs": [],
      "source": []
    },
    {
      "cell_type": "code",
      "source": [],
      "metadata": {
        "id": "DtOUuYtxAYTr"
      },
      "execution_count": null,
      "outputs": []
    },
    {
      "cell_type": "markdown",
      "metadata": {
        "id": "7WRZUNuYyGQT"
      },
      "source": [
        "## Ejercicio 6 - CADENAS\n",
        "\n",
        "Escribir un programa que pregunte el nombre completo del usuario en la consola y después muestre por pantalla el nombre completo del usuario tres veces, una con todas las letras minúsculas, otra con todas las letras mayúsculas y otra solo con la primera letra del nombre y de los apellidos en mayúscula. El usuario puede introducir su nombre combinando mayúsculas y minúsculas como quiera."
      ]
    },
    {
      "cell_type": "code",
      "execution_count": null,
      "metadata": {
        "id": "H5Bgaph971lu"
      },
      "outputs": [],
      "source": [
        "# 7:28 for\n",
        "nombreCompleto = input('Ingrese su nombre completo: ')\n",
        "\n",
        "for iterante in range(3): #range(3) = 0,1,2\n",
        "  if iterante == 0:\n",
        "    print('Nombre en minuscula es:',nombreCompleto.lower())\n",
        "  elif iterante == 1:\n",
        "    print('Nombre en maysucula es:',nombreCompleto.upper())\n",
        "  elif iterante == 2:\n",
        "    print('Nombre con primera letra en mayuscula es:',nombreCompleto.title())\n"
      ]
    },
    {
      "cell_type": "code",
      "execution_count": null,
      "metadata": {
        "id": "wvp3tYHE71uX"
      },
      "outputs": [],
      "source": []
    },
    {
      "cell_type": "markdown",
      "metadata": {
        "id": "T6ZdWpBE72Fu"
      },
      "source": [
        "## Ejercicio 7 - CONDICIONALES\n",
        "\n",
        "Escribir un programa que pida al usuario dos números y muestre por pantalla su división. Si el divisor es cero el programa debe mostrar un error."
      ]
    },
    {
      "cell_type": "code",
      "execution_count": null,
      "metadata": {
        "id": "9IR6f4ft8Equ"
      },
      "outputs": [],
      "source": [
        "# 7:33\n"
      ]
    },
    {
      "cell_type": "code",
      "execution_count": null,
      "metadata": {
        "id": "D_WByaVc8ExX"
      },
      "outputs": [],
      "source": []
    },
    {
      "cell_type": "markdown",
      "metadata": {
        "id": "EodS-se88E9o"
      },
      "source": [
        "## Ejercicio 8 - CONDICIONALES\n",
        "\n",
        "Escribir un programa que pida al usuario un número entero y muestre por pantalla si es par o impar."
      ]
    },
    {
      "cell_type": "code",
      "execution_count": null,
      "metadata": {
        "id": "XBGWlPOM8JSm"
      },
      "outputs": [],
      "source": []
    },
    {
      "cell_type": "code",
      "execution_count": null,
      "metadata": {
        "id": "1K5pvFWk8JYU"
      },
      "outputs": [],
      "source": []
    },
    {
      "cell_type": "markdown",
      "metadata": {
        "id": "F0WvIW9q8Jht"
      },
      "source": [
        "# Ejercicio 9 - CONDICIONALES\n",
        "\n",
        "Para tributar un determinado impuesto se debe ser mayor de 16 años y tener unos ingresos iguales o superiores a 1000 € mensuales. Escribir un programa que pregunte al usuario su edad y sus ingresos mensuales y muestre por pantalla si el usuario tiene que tributar o no."
      ]
    },
    {
      "cell_type": "code",
      "execution_count": null,
      "metadata": {
        "id": "Exp74ghG8Oe1"
      },
      "outputs": [],
      "source": []
    },
    {
      "cell_type": "code",
      "execution_count": null,
      "metadata": {
        "id": "82UdN---8OlY"
      },
      "outputs": [],
      "source": []
    },
    {
      "cell_type": "markdown",
      "metadata": {
        "id": "q3MApV2l8OzU"
      },
      "source": [
        "## Ejercicio 10 - CONDICIONALES\n",
        "\n",
        "Los tramos impositivos para la declaración de la renta en un determinado país son los siguientes:\n",
        "\n",
        "|         Renta          | Tipo impositivo |\n",
        "| :--------------------: | :-------------: |\n",
        "|    Menos de 10000€     |       5%        |\n",
        "| Entre 10000€ y 20000€  |       15%       |\n",
        "| Entre 20001€ y 35000€  |       20%       |\n",
        "| Entre 35001€ y 60000€  |       30%       |\n",
        "|     Más de 60000€      |       45%       |\n",
        "\n",
        "Escribir un programa que pregunte al usuario su renta anual y muestre por pantalla lo que tiene que pagar."
      ]
    },
    {
      "cell_type": "code",
      "execution_count": null,
      "metadata": {
        "id": "qHCst6sn8bWB"
      },
      "outputs": [],
      "source": []
    },
    {
      "cell_type": "code",
      "execution_count": null,
      "metadata": {
        "id": "u3Uk8ycRtm0n"
      },
      "outputs": [],
      "source": []
    },
    {
      "cell_type": "code",
      "execution_count": null,
      "metadata": {
        "id": "7QWHbVEP8bfu"
      },
      "outputs": [],
      "source": []
    },
    {
      "cell_type": "markdown",
      "metadata": {
        "id": "1CBP2ZBz8epU"
      },
      "source": [
        "## Ejercicio 11 - CONDICIONALES\n",
        "\n",
        "En una determinada empresa, sus empleados son evaluados al final de cada año. Los puntos que pueden obtener en la evaluación comienzan en 0.0 y pueden ir aumentando, traduciéndose en mejores beneficios.\n",
        "Los puntos que pueden conseguir los empleados pueden ser 0.0, 0.4. o 0.6, pero no valores intermedios entre las cifras mencionadas.\n",
        "A continuación se muestra una tabla con los niveles correspondientes a cada puntuación.\n",
        "La cantidad de dinero conseguida en cada nivel es de 2.400€ multiplicada por la puntuación del nivel.\n",
        "\n",
        "|    Nivel    | Puntuación |\n",
        "| :---------: | :--------: |\n",
        "| Inaceptable |    0.0     |\n",
        "|  Aceptable  |    0.4     |\n",
        "|  Meritorio  |    0.6     |\n",
        "\n",
        "Escribir un programa que lea la puntuación del usuario e indique su nivel de rendimiento, así como la cantidad de dinero que recibirá el usuario."
      ]
    },
    {
      "cell_type": "code",
      "execution_count": null,
      "metadata": {
        "id": "QNSaqOC28jsj"
      },
      "outputs": [],
      "source": []
    },
    {
      "cell_type": "code",
      "execution_count": null,
      "metadata": {
        "id": "Eicp0MFT8jzg"
      },
      "outputs": [],
      "source": []
    },
    {
      "cell_type": "markdown",
      "metadata": {
        "id": "i-5nDgDv8zHv"
      },
      "source": [
        "## Ejercicio 12 - CONDICIONALES\n",
        "\n",
        "\n",
        "La pizzería Bella Napoli ofrece pizzas vegetarianas y no vegetarianas a sus clientes.\n",
        "Los ingredientes para cada tipo de pizza aparecen a continuación.\n",
        "\n",
        "- Ingredientes vegetarianos: Pimiento y tofu.\n",
        "- Ingredientes no vegetarianos: Peperoni, Jamón y Salmón.\n",
        "\n",
        "Escribir un programa que pregunte al usuario si quiere una pizza vegetariana o no, y en función de su respuesta le muestre un menú con los ingredientes disponibles para que elija.\n",
        "Solo se puede eligir un ingrediente además de la mozzarella y el tomate que están en todas la pizzas.\n",
        "Al final se debe mostrar por pantalla si la pizza elegida es vegetariana o no y todos los ingredientes que lleva."
      ]
    },
    {
      "cell_type": "code",
      "execution_count": null,
      "metadata": {
        "id": "Rp_jHcoO80Ft"
      },
      "outputs": [],
      "source": []
    },
    {
      "cell_type": "code",
      "execution_count": null,
      "metadata": {
        "id": "FRcwtf8H80NT"
      },
      "outputs": [],
      "source": []
    },
    {
      "cell_type": "markdown",
      "metadata": {
        "id": "3RxIm7iW-Fb7"
      },
      "source": [
        "## Ejercicio 13 - BUCLES\n",
        "\n",
        "Escribir un programa que pida al usuario una palabra y la muestre por pantalla 10 veces."
      ]
    },
    {
      "cell_type": "code",
      "execution_count": null,
      "metadata": {
        "id": "ZIJJi9Us-KW3"
      },
      "outputs": [],
      "source": []
    },
    {
      "cell_type": "code",
      "execution_count": null,
      "metadata": {
        "id": "eQliztgv-KdM"
      },
      "outputs": [],
      "source": []
    },
    {
      "cell_type": "markdown",
      "metadata": {
        "id": "YVzbW9j3-Kwc"
      },
      "source": [
        "## Ejercicio 14 - BUCLES\n",
        "\n",
        "Escribir un programa que pregunte al usuario su edad y muestre por pantalla todos los años que ha cumplido (desde 1 hasta su edad)."
      ]
    },
    {
      "cell_type": "code",
      "execution_count": null,
      "metadata": {
        "id": "rbUPn2N0-PLX"
      },
      "outputs": [],
      "source": []
    },
    {
      "cell_type": "code",
      "execution_count": null,
      "metadata": {
        "id": "l6AgjH-c-PSK"
      },
      "outputs": [],
      "source": []
    },
    {
      "cell_type": "markdown",
      "metadata": {
        "id": "PWJGd2A6-Pbc"
      },
      "source": [
        "## Ejercicio 15 - BUCLES\n",
        "\n",
        "Escribir un programa que pida al usuario un número entero positivo y muestre por pantalla todos los números impares desde 1 hasta ese número separados por comas."
      ]
    },
    {
      "cell_type": "code",
      "execution_count": null,
      "metadata": {
        "id": "Hdew22j9-UpG"
      },
      "outputs": [],
      "source": []
    },
    {
      "cell_type": "code",
      "execution_count": null,
      "metadata": {
        "id": "O70FV_6r-Uw4"
      },
      "outputs": [],
      "source": []
    },
    {
      "cell_type": "markdown",
      "metadata": {
        "id": "qfKkLzdp-U7I"
      },
      "source": [
        "## Ejercicio 16 - BUCLES + CONDICIONALES\n",
        "\n",
        "Escribir un programa que almacene la cadena de caracteres contraseña en una variable, pregunte al usuario por la contraseña hasta que introduzca la contraseña correcta."
      ]
    },
    {
      "cell_type": "code",
      "execution_count": null,
      "metadata": {
        "id": "SkRkZFeb-aw0"
      },
      "outputs": [],
      "source": []
    },
    {
      "cell_type": "code",
      "execution_count": null,
      "metadata": {
        "id": "VglgIqZa-a5R"
      },
      "outputs": [],
      "source": []
    },
    {
      "cell_type": "markdown",
      "metadata": {
        "id": "B327ZCNE-bB9"
      },
      "source": [
        "## Ejercicio 17 - BUCLES\n",
        "\n",
        "Escribir un programa que muestre el eco = echo de todo lo que el usuario introduzca hasta que el usuario escriba “salir” que terminará."
      ]
    },
    {
      "cell_type": "code",
      "execution_count": null,
      "metadata": {
        "id": "f5DbMG9r-jyU"
      },
      "outputs": [],
      "source": []
    },
    {
      "cell_type": "code",
      "execution_count": null,
      "metadata": {
        "id": "vfzGNMct-j1M"
      },
      "outputs": [],
      "source": []
    },
    {
      "cell_type": "markdown",
      "metadata": {
        "id": "006JUaC6-tM0"
      },
      "source": [
        "## EJERCICIO FINAL\n",
        "\n",
        "Una empresa desarrolladora de Software ha puesto a la venta licencias de su programa de edición de videos \"Video Edit 2.0\" a los siguientes costos:\n",
        "\n",
        "\n",
        "|    Licencia    | Costos |\n",
        "| :---------: | :--------: |\n",
        "| Cobre |    $510     |\n",
        "|  Bronze  |    1500     |\n",
        "|  Silver  |    3100     |\n",
        "|  Gold  |    4500     |\n",
        "\n",
        "\n",
        "Diseñe un programa que permita ingresar por cada venta el tipo de licencia y la cantidad de licencias, y muestre luego cada venta:\n",
        "\n",
        "* El importe a pagar por la venta efectuada.\n",
        "* El importe total recaudado por cada tipo de licencia.\n",
        "* La cantidad de licencias vendidas por cada tipo de licencia.\n",
        "* La cantidad de ventas por cada tipo de licencia."
      ]
    },
    {
      "cell_type": "code",
      "source": [],
      "metadata": {
        "id": "Lwi7pVIjWNSE"
      },
      "execution_count": null,
      "outputs": []
    },
    {
      "cell_type": "code",
      "execution_count": null,
      "metadata": {
        "id": "lo8UJZ0q_Se9"
      },
      "outputs": [],
      "source": []
    },
    {
      "cell_type": "code",
      "source": [],
      "metadata": {
        "id": "j1vapam6MxG9"
      },
      "execution_count": null,
      "outputs": []
    },
    {
      "cell_type": "code",
      "execution_count": null,
      "metadata": {
        "id": "HwlyZ1os_Sl6"
      },
      "outputs": [],
      "source": []
    }
  ],
  "metadata": {
    "colab": {
      "provenance": [],
      "include_colab_link": true
    },
    "kernelspec": {
      "display_name": "Python 3",
      "name": "python3"
    },
    "language_info": {
      "name": "python"
    }
  },
  "nbformat": 4,
  "nbformat_minor": 0
}