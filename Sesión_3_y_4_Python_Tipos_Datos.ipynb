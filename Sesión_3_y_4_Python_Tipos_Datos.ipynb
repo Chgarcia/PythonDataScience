{
  "cells": [
    {
      "cell_type": "markdown",
      "metadata": {
        "id": "view-in-github",
        "colab_type": "text"
      },
      "source": [
        "<a href=\"https://colab.research.google.com/github/Chgarcia/PythonDataScience/blob/main/Sesio%CC%81n_3_y_4_Python_Tipos_Datos.ipynb\" target=\"_parent\"><img src=\"https://colab.research.google.com/assets/colab-badge.svg\" alt=\"Open In Colab\"/></a>"
      ]
    },
    {
      "cell_type": "markdown",
      "metadata": {
        "id": "VmkqkWb9tr72"
      },
      "source": [
        "# <center> PYTHON - Sesión 3 </center>\n",
        "\n",
        "## 1. Cadenas (clase str)\n",
        "Secuencia de caracteres alfanuméricos que representan texto. Se escriben entre comillas sencillas ’, dobles “ y tiples '''."
      ]
    },
    {
      "cell_type": "code",
      "source": [
        "print('McDonals, es el mejor restaurante de hambuerguesas')"
      ],
      "metadata": {
        "id": "rqUjgK43YTEv"
      },
      "execution_count": null,
      "outputs": []
    },
    {
      "cell_type": "code",
      "source": [
        "print(\"McDonal's, es el mejor restaurante de hambuerguesas\")"
      ],
      "metadata": {
        "id": "Mqa4YznViUaY"
      },
      "execution_count": null,
      "outputs": []
    },
    {
      "cell_type": "code",
      "execution_count": null,
      "metadata": {
        "id": "vqi6kXHzt_pJ"
      },
      "outputs": [],
      "source": [
        "my_string = \"dany churapa\"\n",
        "print(my_string)"
      ]
    },
    {
      "cell_type": "code",
      "source": [
        "another_string = 'It may seem difficult first, but youcan do it!'"
      ],
      "metadata": {
        "id": "aLmy8NrNYfC2"
      },
      "execution_count": null,
      "outputs": []
    },
    {
      "cell_type": "code",
      "source": [
        "a_long_string = '''McDonal's, es el\n",
        "mejor\n",
        "restaurante de\n",
        "hambuerguesas'''"
      ],
      "metadata": {
        "id": "VzMBejAtYpl2"
      },
      "execution_count": null,
      "outputs": []
    },
    {
      "cell_type": "code",
      "source": [
        "print(a_long_string)"
      ],
      "metadata": {
        "id": "X8f3Xu4rZJh3"
      },
      "execution_count": null,
      "outputs": []
    },
    {
      "cell_type": "code",
      "source": [
        "another_string = 'Python es el mejor lenguaje delmundo y al dia de hoy estamos estudiandolo porque es el mas demandado del mercado y mejor remunerado'"
      ],
      "metadata": {
        "id": "BYm5SjKljbOj"
      },
      "execution_count": null,
      "outputs": []
    },
    {
      "cell_type": "markdown",
      "metadata": {
        "id": "wZSV3RSeuBa4"
      },
      "source": [
        "## Acceso a los elementos de una cadena\n",
        "Cada carácter tiene asociado un índice que permite acceder a él.\n",
        "\n",
        "### Cadena-:\tP\t| y |\tt | h |\to |\tn\n",
        "### Índice(+)\t0\t| 1 |\t2 |\t3 |\t4 |\t5\n",
        "### Índice(-) -6 |\t-5|\t-4|\t-3|\t-2|\t-1\n"
      ]
    },
    {
      "cell_type": "markdown",
      "metadata": {
        "id": "8tMZBDh1u8-t"
      },
      "source": [
        "* c[i]/c[ii:if] devuelve el carácter de la cadena c con el índice i.\n",
        "\n",
        " ### El índice del primer carácter de la cadena es 0.\n",
        "\n",
        "También se pueden utilizar índices negativos para recorrer la cadena del final al principio.\n",
        "\n",
        " El índice del último carácter de la cadena es -1."
      ]
    },
    {
      "cell_type": "code",
      "execution_count": null,
      "metadata": {
        "id": "-h_yHyAXvSc-"
      },
      "outputs": [],
      "source": [
        "palabra = 'Spiderman en el multiverso'"
      ]
    },
    {
      "cell_type": "code",
      "source": [
        "print(palabra)"
      ],
      "metadata": {
        "id": "bGABKqb3HcXS"
      },
      "execution_count": null,
      "outputs": []
    },
    {
      "cell_type": "code",
      "execution_count": null,
      "metadata": {
        "id": "eaZN7XwnvH_A"
      },
      "outputs": [],
      "source": [
        "palabra[-7]"
      ]
    },
    {
      "cell_type": "code",
      "source": [
        "palabra[7]"
      ],
      "metadata": {
        "id": "EaiPkcSuHt4E"
      },
      "execution_count": null,
      "outputs": []
    },
    {
      "cell_type": "code",
      "source": [
        "# palabra = 'Spiderman en el multiverso'\n",
        "palabra[-7]"
      ],
      "metadata": {
        "id": "hhHggQ1PHqSk"
      },
      "execution_count": null,
      "outputs": []
    },
    {
      "cell_type": "code",
      "source": [
        "#Acceder a un conjunto de elemntos en una cadena.\n",
        "# Cuando se requiera acceder a un rango de indices, sobre el ultimo se le suma una unidad +1\n",
        "palabra[0:8+1]"
      ],
      "metadata": {
        "id": "h-ZQJ8CKa0QA"
      },
      "execution_count": null,
      "outputs": []
    },
    {
      "cell_type": "code",
      "source": [
        "# palabra = 'Spiderman en el multiverso'\n",
        "palabra[16:25+1]"
      ],
      "metadata": {
        "id": "hbeoYCfcDdQk"
      },
      "execution_count": null,
      "outputs": []
    },
    {
      "cell_type": "code",
      "source": [
        "# palabra = 'Spiderman en el multiverso'\n",
        "palabra[-10:]"
      ],
      "metadata": {
        "id": "uHr3l1fkDw8z"
      },
      "execution_count": null,
      "outputs": []
    },
    {
      "cell_type": "code",
      "source": [
        "# palabra = 'Spiderman en el multiverso'\n",
        "palabra[-13:-12+1]"
      ],
      "metadata": {
        "id": "LuQwU6WlEeeL"
      },
      "execution_count": null,
      "outputs": []
    },
    {
      "cell_type": "code",
      "source": [
        "# palabra = 'Spiderman en el multiverso'\n",
        "palabra[:-18+1]"
      ],
      "metadata": {
        "id": "MutVtirGE8dw"
      },
      "execution_count": null,
      "outputs": []
    },
    {
      "cell_type": "code",
      "source": [
        "# palabra = 'Spiderman en el multiverso'\n",
        "palabra[10:11+1]"
      ],
      "metadata": {
        "id": "40kOVylkFbud"
      },
      "execution_count": null,
      "outputs": []
    },
    {
      "cell_type": "code",
      "source": [
        "#Acceder a un conjunto de elemntos en una cadena.\n",
        "# palabra = 'Spiderman en el multiverso'\n",
        "palabra[:8+1]"
      ],
      "metadata": {
        "id": "OQpa2L7ooI7o"
      },
      "execution_count": null,
      "outputs": []
    },
    {
      "cell_type": "code",
      "source": [
        "palabra[-26:-18+1]"
      ],
      "metadata": {
        "id": "XFIdvgSPcnkH"
      },
      "execution_count": null,
      "outputs": []
    },
    {
      "cell_type": "code",
      "source": [
        "palabra[-26:8+1]"
      ],
      "metadata": {
        "id": "6NAferQhpm-e"
      },
      "execution_count": null,
      "outputs": []
    },
    {
      "cell_type": "code",
      "source": [
        "# palabra = 'Spiderman en el multiverso'\n",
        "palabra[-10:]"
      ],
      "metadata": {
        "id": "pUYcBWVZoZNq"
      },
      "execution_count": null,
      "outputs": []
    },
    {
      "cell_type": "code",
      "source": [
        "palabra[:8+1]"
      ],
      "metadata": {
        "id": "Rtp3G1IvcurA"
      },
      "execution_count": null,
      "outputs": []
    },
    {
      "cell_type": "code",
      "source": [
        "palabra[:]"
      ],
      "metadata": {
        "id": "mowOBUCec0fM"
      },
      "execution_count": null,
      "outputs": []
    },
    {
      "cell_type": "code",
      "source": [
        "palabra = 'El HOMBRE araña'\n",
        "# HOMBRE\n",
        "palabra[-12:-7+1]"
      ],
      "metadata": {
        "id": "UfRzrGMtc4sh"
      },
      "execution_count": null,
      "outputs": []
    },
    {
      "cell_type": "markdown",
      "source": [],
      "metadata": {
        "id": "vouufow6p1zT"
      }
    },
    {
      "cell_type": "code",
      "source": [
        "# araña\n",
        "palabra[-5:]"
      ],
      "metadata": {
        "id": "Ukmgx2enc5KB"
      },
      "execution_count": null,
      "outputs": []
    },
    {
      "cell_type": "code",
      "source": [
        "# araña\n",
        "palabra[-5:]"
      ],
      "metadata": {
        "id": "-UWUMOVreO3v"
      },
      "execution_count": null,
      "outputs": []
    },
    {
      "cell_type": "code",
      "source": [
        "# El HOMBRE araña / HOMERO\n",
        "palabra[3:5+1]"
      ],
      "metadata": {
        "id": "J5w16tWBc5aM"
      },
      "execution_count": null,
      "outputs": []
    },
    {
      "cell_type": "code",
      "source": [
        "palabra[0]"
      ],
      "metadata": {
        "id": "GWxLnrUTesrw"
      },
      "execution_count": null,
      "outputs": []
    },
    {
      "cell_type": "code",
      "source": [
        "palabra[7]"
      ],
      "metadata": {
        "id": "x3ZnzRZmev-O"
      },
      "execution_count": null,
      "outputs": []
    },
    {
      "cell_type": "code",
      "source": [
        "palabra[4]"
      ],
      "metadata": {
        "id": "xt58JxWxe0Nq"
      },
      "execution_count": null,
      "outputs": []
    },
    {
      "cell_type": "code",
      "source": [
        "print(palabra[3:5+1],palabra[0],palabra[7],palabra[4], sep = '')"
      ],
      "metadata": {
        "id": "_dlGCBRie6Q0"
      },
      "execution_count": null,
      "outputs": []
    },
    {
      "cell_type": "code",
      "source": [
        "# palabra = 'El HOMBRE araña'\n",
        "# De la posicion final a la que deseo llegar, debemos de sumar +1\n",
        "palabra[3:8+1]"
      ],
      "metadata": {
        "id": "x-fVsLzOPmhI"
      },
      "execution_count": null,
      "outputs": []
    },
    {
      "cell_type": "code",
      "source": [
        "# palabra = 'El HOMBRE araña'\n",
        "# Índice(-) -6 | -5| -4| -3| -2| -1\n",
        "palabra[-12:]"
      ],
      "metadata": {
        "id": "yy75oRM4bPhx"
      },
      "execution_count": null,
      "outputs": []
    },
    {
      "cell_type": "code",
      "source": [
        "# palabra = 'El HOMBRE araña'\n",
        "# Índice(+) 0 | 1 | 2 | 3 | 4 | 5\n",
        "# Índice(-) -6 | -5| -4| -3| -2| -1\n",
        "palabra[3:-6]"
      ],
      "metadata": {
        "id": "h_VJHK-PeRwi"
      },
      "execution_count": null,
      "outputs": []
    },
    {
      "cell_type": "code",
      "source": [
        "# palabra = 'El HOMBRE araña'\n",
        "# Índice(+) 0 | 1 | 2 | 3 | 4 | 5\n",
        "# Índice(-) -6 | -5| -4| -3| -2| -1\n",
        "palabra[-12:8+1]"
      ],
      "metadata": {
        "id": "rwOnpuKPeiX-"
      },
      "execution_count": null,
      "outputs": []
    },
    {
      "cell_type": "code",
      "source": [
        "# Regla en python ultima posicion y le resta 1 [la posicion +1]\n",
        "palabra = 'Infinity war, the marvel'\n",
        "# Mensaje: the war Infinity\n",
        "\n",
        "print(palabra[14:17],palabra[-15:12],palabra[:7+1], sep = ' ')"
      ],
      "metadata": {
        "id": "nziNgjLRa8oL"
      },
      "execution_count": null,
      "outputs": []
    },
    {
      "cell_type": "code",
      "source": [
        "# SQL, como se haria.\n",
        "palabra[14:17]+' '+palabra[-15:12]+' '+palabra[:7+1]"
      ],
      "metadata": {
        "id": "b5YnHEaDgnJr"
      },
      "execution_count": null,
      "outputs": []
    },
    {
      "cell_type": "code",
      "source": [
        "palabra_copia = palabra * 5"
      ],
      "metadata": {
        "id": "b7ZOBfhMg_qr"
      },
      "execution_count": null,
      "outputs": []
    },
    {
      "cell_type": "code",
      "source": [
        "palabra"
      ],
      "metadata": {
        "id": "-lp__I0GhMZ2"
      },
      "execution_count": null,
      "outputs": []
    },
    {
      "cell_type": "code",
      "source": [
        "palabra_copia"
      ],
      "metadata": {
        "id": "pK-Yd3OckETC"
      },
      "execution_count": null,
      "outputs": []
    },
    {
      "cell_type": "code",
      "source": [
        "'war' in palabra"
      ],
      "metadata": {
        "id": "Uxmhshg6kKrX"
      },
      "execution_count": null,
      "outputs": []
    },
    {
      "cell_type": "code",
      "source": [
        "'war' not in palabra"
      ],
      "metadata": {
        "id": "qA4-D6FHkaV-"
      },
      "execution_count": null,
      "outputs": []
    },
    {
      "cell_type": "markdown",
      "metadata": {
        "id": "l55XpJFtwUdx"
      },
      "source": [
        "## Operaciones con cadenas\n",
        "* c1 + c2 : Devuelve la cadena resultado de concatenar las cadenas c1 y c2.\n",
        "* c * n : Devuelve la cadena resultado de concatenar n copias de la cadena c.\n",
        "* c1 in c2 : Devuelve True si c1 es una cadena concenida * en c2 y False en caso contrario.\n",
        "* c1 not in c2 : Devuelve True si c1 es una cadena no concenida en c2 y False en caso contrario."
      ]
    },
    {
      "cell_type": "code",
      "execution_count": null,
      "metadata": {
        "id": "yDByg2NDF_mN"
      },
      "outputs": [],
      "source": [
        "my_string = \"Hola\"\n",
        "nombre = 'Dany'\n",
        "another_string = 'sabemos que este mes es tu cumpleaños y tienes una super oferta'"
      ]
    },
    {
      "cell_type": "code",
      "execution_count": null,
      "metadata": {
        "id": "vQKrJs7kMrgF"
      },
      "outputs": [],
      "source": [
        "mensaje_mkt_push_notification = my_string + nombre + another_string + 'Este ejemplo funciona'"
      ]
    },
    {
      "cell_type": "code",
      "source": [
        "mensaje_mkt_push_notification"
      ],
      "metadata": {
        "id": "XfLW_QUuKPVi"
      },
      "execution_count": null,
      "outputs": []
    },
    {
      "cell_type": "code",
      "source": [
        "DNI = 70493532\n",
        "Nombre = 'Dany'\n",
        "\n",
        "cod_cliente = str(DNI)[:3+1] + nombre\n",
        "cod_cliente"
      ],
      "metadata": {
        "id": "IQ4gb0zSKqv1"
      },
      "execution_count": null,
      "outputs": []
    },
    {
      "cell_type": "code",
      "source": [
        "print(my_string, nombre, another_string, sep = ' ', end = ' ')\n",
        "#print('Este ejemplo funciona')"
      ],
      "metadata": {
        "id": "p9fCHrBf9FN1"
      },
      "execution_count": null,
      "outputs": []
    },
    {
      "cell_type": "code",
      "execution_count": null,
      "metadata": {
        "id": "fCJyviVmwjfo"
      },
      "outputs": [],
      "source": [
        "my_string = \"Let’s Learn Python!\"\n",
        "\n",
        "'y' in my_string"
      ]
    },
    {
      "cell_type": "code",
      "execution_count": null,
      "metadata": {
        "id": "QzwkdCzVNkKO"
      },
      "outputs": [],
      "source": [
        "'Y' in my_string"
      ]
    },
    {
      "cell_type": "code",
      "execution_count": null,
      "metadata": {
        "id": "5LMJHm33wkpH"
      },
      "outputs": [],
      "source": [
        "'tho' in my_string"
      ]
    },
    {
      "cell_type": "code",
      "execution_count": null,
      "metadata": {
        "id": "qb1lbY_ewl3g"
      },
      "outputs": [],
      "source": [
        "'Tho' not in my_string"
      ]
    },
    {
      "cell_type": "code",
      "source": [
        "# my_string = \"Let’s Learn Python!\"\n",
        "\n",
        "' ' not in my_string"
      ],
      "metadata": {
        "id": "r74q3kiCjtY6"
      },
      "execution_count": null,
      "outputs": []
    },
    {
      "cell_type": "markdown",
      "source": [
        "## Programación Orientada a Objetos:\n",
        "\n",
        "1. Clase:\n",
        "* Definición: Una clase es como un plano o una plantilla para crear objetos. Especifica los atributos y comportamientos que los objetos de esa clase tendrán.\n",
        "* Analogía: Puedes pensar en una clase como un molde para hacer galletas. El molde define la forma y el tamaño de todas las galletas que vas a hacer, pero no es en sí misma una galleta.\n",
        "2. Objeto:\n",
        "* Definición: Un objeto es una instancia de una clase. Es una entidad concreta que tiene estado (atributos) y comportamiento (métodos) definidos por su clase.\n",
        "* Analogía: Si la clase es el molde de galletas, entonces un objeto sería una galleta específica que has hecho usando ese molde. Cada galleta puede tener características individuales (como color, sabor, etc.) pero comparten la misma forma y estructura básica definida por el molde.\n",
        "3. Método:\n",
        "* Definición: Un método es una función asociada a una clase que define el comportamiento de los objetos de esa clase. Los métodos son acciones que un objeto puede realizar.\n",
        "* Analogía: Los métodos son como recetas para hacer cosas con las galletas. Por ejemplo, podrías tener un método llamado \"decorar\" que pone glaseado en las galletas. Este método define una acción que las galletas (objetos) pueden realizar.\n"
      ],
      "metadata": {
        "id": "WAwA-gmMZL9q"
      }
    },
    {
      "cell_type": "code",
      "source": [
        "# clase = String (str)\n",
        "# clase = Float (float)\n",
        "# clase = Integer (int)\n",
        "# clase = boolean (Boolean)\n",
        "# clase = DataFrame (libreria pandas)\n",
        "# clase = narray (libreria numpy[num = numero / py = python])\n",
        "\n",
        "variable_1 = 10 # es una cadena"
      ],
      "metadata": {
        "id": "YA3J7ljvZKJe"
      },
      "execution_count": null,
      "outputs": []
    },
    {
      "cell_type": "code",
      "source": [
        "type(variable_1)"
      ],
      "metadata": {
        "id": "Mx8oH7gQoED3"
      },
      "execution_count": null,
      "outputs": []
    },
    {
      "cell_type": "code",
      "source": [
        "# clase = String (STR) cadena/textos/palabras/alfanumericos\n",
        "\n",
        "variable_1."
      ],
      "metadata": {
        "id": "nGukA0bMJvjc"
      },
      "execution_count": null,
      "outputs": []
    },
    {
      "cell_type": "code",
      "source": [
        "# clase = Integer (INT)\n",
        "variable_1 = 10"
      ],
      "metadata": {
        "id": "-d2ZeWiQnpGx"
      },
      "execution_count": null,
      "outputs": []
    },
    {
      "cell_type": "code",
      "source": [
        "#Viendo motodos de un objeto entero\n",
        "variable_1."
      ],
      "metadata": {
        "id": "JqrVhLaLowP3"
      },
      "execution_count": null,
      "outputs": []
    },
    {
      "cell_type": "code",
      "source": [
        "#clase = Float (Float)\n",
        "variable_1 = 3.1415"
      ],
      "metadata": {
        "id": "3qiADpshn19p"
      },
      "execution_count": null,
      "outputs": []
    },
    {
      "cell_type": "code",
      "source": [
        "#Viendo motodos de un numero flotante\n",
        "variable_1."
      ],
      "metadata": {
        "id": "vIAy3nAzo30R"
      },
      "execution_count": null,
      "outputs": []
    },
    {
      "cell_type": "code",
      "source": [
        "codigo = True\n",
        "type(codigo)"
      ],
      "metadata": {
        "id": "__Vbw8w3_WDh"
      },
      "execution_count": null,
      "outputs": []
    },
    {
      "cell_type": "code",
      "source": [
        "codigo."
      ],
      "metadata": {
        "id": "fMnTQAmTQMYq"
      },
      "execution_count": null,
      "outputs": []
    },
    {
      "cell_type": "code",
      "source": [
        "palabra = 'El HOMBRE araña' #Variable creada por al clase STRING"
      ],
      "metadata": {
        "id": "Nq4OhLSg_fjm"
      },
      "execution_count": null,
      "outputs": []
    },
    {
      "cell_type": "code",
      "execution_count": null,
      "metadata": {
        "id": "Q9G1GHYdN3FJ"
      },
      "outputs": [],
      "source": [
        "#Convertir todos los valores en mayuscula\n",
        "palabra.upper()"
      ]
    },
    {
      "cell_type": "code",
      "execution_count": null,
      "metadata": {
        "id": "cIP_fW4kO_MF"
      },
      "outputs": [],
      "source": [
        "# Ponemos la primera letra de la oracion en mayuscula\n",
        "palabra.capitalize()"
      ]
    },
    {
      "cell_type": "code",
      "execution_count": null,
      "metadata": {
        "id": "jOLk4gBUPFZ6"
      },
      "outputs": [],
      "source": [
        "# Ponemos la primera letra de cada palabra en la oracion en mayuscula\n",
        "palabra.title()"
      ]
    },
    {
      "cell_type": "code",
      "execution_count": null,
      "metadata": {
        "id": "3C_nYffNOOty"
      },
      "outputs": [],
      "source": [
        "#Convertir todos los valores en minucula\n",
        "palabra.lower()"
      ]
    },
    {
      "cell_type": "code",
      "source": [
        "hora = input('Ingrese la hora en formato (hh:mm:ss): ')\n",
        "print ('Son las '+ hora[0:2]+ 'h:'+ hora[3:5]+ 'min:'+ hora[6:], 'seg', sep = '')"
      ],
      "metadata": {
        "id": "uDAK0dYhb4Eh"
      },
      "execution_count": null,
      "outputs": []
    },
    {
      "cell_type": "code",
      "source": [],
      "metadata": {
        "id": "0JFnptIvdVbN"
      },
      "execution_count": null,
      "outputs": []
    },
    {
      "cell_type": "markdown",
      "metadata": {
        "id": "bsTrzabhpCHd"
      },
      "source": [
        "# 2. Condicionales (if)\n",
        "\n",
        "```\n",
        "if condición1:\n",
        "    bloque código\n",
        "elif condición2:\n",
        "    bloque código\n",
        " …\n",
        "else :\n",
        "    bloque código\n",
        "\n",
        " ```\n",
        "\n",
        "Evalúa la expresión lógica condición1 y ejecuta el primer bloque de código si es True; si no, evalúa la siguientes condiciones hasta llegar a la primera que es True y ejecuta el bloque de código asociado. Si ninguna condición es True ejecuta el bloque de código después de else:.\n",
        "\n",
        "## Pueden aparecer varios bloques elif pero solo uno else al final.\n",
        "\n",
        " Los bloques de código deben estar indentados por 4 espacios/tabulador\n",
        "\n",
        "La instrucción condicional permite evaluar el estado del programa y tomar decisiones sobre qué código ejecutar en función del mismo."
      ]
    },
    {
      "cell_type": "markdown",
      "metadata": {
        "id": "BKLrMrkwF_mV"
      },
      "source": [
        "* Equals: a == b\n",
        "* Not Equals: a != b\n",
        "* Less than: a < b\n",
        "* Less than or equal to a <= b\n",
        "* Greater than: a > b\n",
        "* Greater than or equal to: a >= b"
      ]
    },
    {
      "cell_type": "markdown",
      "metadata": {
        "id": "eWOFixxgF_mV"
      },
      "source": [
        "## 2.1.  Condición simple"
      ]
    },
    {
      "cell_type": "code",
      "source": [
        "if 20 == 18:\n",
        "  print('No es un menor de edad')\n",
        "elif 30 < 18:\n",
        "  print('Es un menor de edad')\n",
        "elif 30 < 18:\n",
        "  print('Es un menor de edad')\n",
        "elif 30 < 18:\n",
        "  print('Es un menor de edad')\n",
        "elif 30 < 18:\n",
        "  print('Es un menor de edad')\n",
        "else:\n",
        "  print('No se cumplio la validacion')"
      ],
      "metadata": {
        "id": "t4zewEDDXP8A"
      },
      "execution_count": null,
      "outputs": []
    },
    {
      "cell_type": "code",
      "source": [],
      "metadata": {
        "id": "VTfARFVtX3U2"
      },
      "execution_count": null,
      "outputs": []
    },
    {
      "cell_type": "code",
      "source": [
        "if 13 < 12:\n",
        "  print('Hola')\n",
        "else:\n",
        "  print('No se cumplio, ninguna condicion')"
      ],
      "metadata": {
        "id": "uISd-wH6xBDN"
      },
      "execution_count": null,
      "outputs": []
    },
    {
      "cell_type": "code",
      "source": [
        "if 8 < 12:\n",
        "  print('Si cumple 1')\n",
        "  if 7 < 9:\n",
        "    print('Si cumple 2 ')\n",
        "  if 5 < 10:\n",
        "    print('Se cumplio')\n",
        "    if 6 == 9:\n",
        "      print('Si cumple 3 ')\n",
        "else:\n",
        "  print('No se cumple la condicion')"
      ],
      "metadata": {
        "id": "XsrxMAKSxKR_"
      },
      "execution_count": null,
      "outputs": []
    },
    {
      "cell_type": "code",
      "source": [
        "edad = 9\n",
        "\n",
        "if 8 < 12:\n",
        "  print('Si cumple 1')\n",
        "  if 7 < 5:\n",
        "    print('Si cumple 2 ')\n",
        "    if edad == 9:\n",
        "      print('Si cumple 3 ')\n",
        "else:\n",
        "  print('No se cumple la condicion')"
      ],
      "metadata": {
        "id": "liYj858OwM6A"
      },
      "execution_count": null,
      "outputs": []
    },
    {
      "cell_type": "code",
      "source": [
        "edad = 20\n",
        "\n",
        "if edad < 18:\n",
        "  print('Es un menor de edad')\n",
        "else:\n",
        "  print('No se tiene definida un valor para su edad')\n"
      ],
      "metadata": {
        "id": "TEBjMfUu3OSD"
      },
      "execution_count": null,
      "outputs": []
    },
    {
      "cell_type": "code",
      "source": [
        "# Importante depues de cada if & else poner los dos puntos \":\"\n",
        "edad = int(input('Ingrese edad: ')) #Input, te crea una cadena\n",
        "\n",
        "if edad >= 18:\n",
        "  print('es mayor de edad!')\n",
        "else:\n",
        "  print('No es mayor de edad')"
      ],
      "metadata": {
        "id": "0lyzz9BmkO8x"
      },
      "execution_count": null,
      "outputs": []
    },
    {
      "cell_type": "code",
      "source": [
        "edad = 10\n",
        "\n",
        "if edad >= 18:\n",
        "  print('Es mayor de edad')\n",
        "print('Este es un mensaje fuera del if')"
      ],
      "metadata": {
        "id": "p5irBW7flAeg"
      },
      "execution_count": null,
      "outputs": []
    },
    {
      "cell_type": "code",
      "source": [
        "# Condiciones anidadas\n",
        "edad = 70\n",
        "\n",
        "if edad >= 65:\n",
        "  print('Es adulto Mayor')\n",
        "elif edad >= 18 :\n",
        "  print('Es mayor de edad')\n",
        "else:\n",
        "  print('Es un menor')"
      ],
      "metadata": {
        "id": "SyR91-JRl8iV"
      },
      "execution_count": null,
      "outputs": []
    },
    {
      "cell_type": "code",
      "source": [],
      "metadata": {
        "id": "LXmk7jNKclVN"
      },
      "execution_count": null,
      "outputs": []
    },
    {
      "cell_type": "code",
      "source": [
        "# Condiciones anidadas, cual es el mensaje que arroja?\n",
        "edad = 70\n",
        "\n",
        "if edad >= 18:\n",
        "  print('Es mayor de edad')\n",
        "  if edad >= 65:\n",
        "    print('Es adulto Mayor')\n",
        "  else:\n",
        "    print('No se cumplio la condicion')\n",
        "else:\n",
        "  print('Es un menor')"
      ],
      "metadata": {
        "id": "emkFZW40b8yR"
      },
      "execution_count": null,
      "outputs": []
    },
    {
      "cell_type": "code",
      "source": [
        "# Condiciones anidadas, cual es el mensaje que arroja?\n",
        "edad = 70\n",
        "\n",
        "if edad >= 18 and edad <=64:\n",
        "  print('Es mayor de edad')\n",
        "elif edad >= 65:\n",
        "  print('Es adulto Mayor')\n",
        "else:\n",
        "  print('Es un menor')"
      ],
      "metadata": {
        "id": "QUUU1l76csJh"
      },
      "execution_count": null,
      "outputs": []
    },
    {
      "cell_type": "code",
      "source": [
        "# Condiciones anidadas, cual es el mensaje que arroja?\n",
        "edad = 10\n",
        "\n",
        "if edad >= 65:\n",
        "  print('Es adulto  mayor')\n",
        "elif edad >= 18:\n",
        "  print('Es adulto ')\n",
        "else:\n",
        "  print('Es un menor')"
      ],
      "metadata": {
        "id": "dR0HTJDQdbTL"
      },
      "execution_count": null,
      "outputs": []
    },
    {
      "cell_type": "code",
      "source": [
        "# Condiciones anidadas, cual es el mensaje que arroja?\n",
        "edad = 20\n",
        "\n",
        "if edad >= 18:\n",
        "  print('Es mayor de edad')\n",
        "  if edad >= 65 and edad <=70:\n",
        "    print('Es adulto Mayor')\n",
        "  else:\n",
        "    print('es una persona muy grande')\n",
        "else:\n",
        "  print('Es un menor')"
      ],
      "metadata": {
        "id": "gCc4clEh5U_X"
      },
      "execution_count": null,
      "outputs": []
    },
    {
      "cell_type": "code",
      "source": [
        "edad = 10\n",
        "\n",
        "if edad >= 18:\n",
        "  print('Es mayor de edad')\n",
        "elif edad >= 65:\n",
        "  print('Es adulto Mayor')\n",
        "else:\n",
        "  if edad >= 12:\n",
        "    print('Es un adolecente')\n",
        "  else:\n",
        "    print('Es un niño')"
      ],
      "metadata": {
        "id": "lQhbSTt9nP8k"
      },
      "execution_count": null,
      "outputs": []
    },
    {
      "cell_type": "code",
      "source": [
        "edad = 20\n",
        "\n",
        "if edad >= 18:\n",
        "  print('Es mayor de edad')\n",
        "elif edad >= 65:\n",
        "  print('Es adulto Mayor')\n",
        "elif edad >= 12:\n",
        "  print('Es un adolecente')\n",
        "else:\n",
        "  print('Es un niño')"
      ],
      "metadata": {
        "id": "bY-BdKaFnwc4"
      },
      "execution_count": null,
      "outputs": []
    },
    {
      "cell_type": "code",
      "source": [
        "# Operadores logicos OR o AND\n",
        "# and = Excluyente (quiero el polo rojo Y negro)\n",
        "# or = Incluyente (quiero un polo rojo O negro)\n",
        "\n",
        "edad = 0\n",
        "\n",
        "if edad >= 18 or edad <= 50:\n",
        "  print('Es habilitado para las elecciones')\n",
        "else:\n",
        "  print('No esta habilitado para las elecciones')"
      ],
      "metadata": {
        "id": "C0AdB_q0pcvN"
      },
      "execution_count": null,
      "outputs": []
    },
    {
      "cell_type": "code",
      "source": [
        "#Agregando una condicion haciendo uso de los intervalos\n",
        "\n",
        "edad = 30\n",
        "\n",
        "if 18 <= edad <= 50: # edad >= 18 and edad <= 50, hace uso de un rango, es igual al operador 'and'\n",
        "  print('Es habilitado para las elecciones')\n",
        "else:\n",
        "  print('No esta habilitado para las elecciones')"
      ],
      "metadata": {
        "id": "lO4O6DEJqICO"
      },
      "execution_count": null,
      "outputs": []
    },
    {
      "cell_type": "code",
      "source": [
        "#Agregando una condicion haciendo uso de los intervalos\n",
        "\n",
        "edad = 32\n",
        "\n",
        "if (18 <= edad <= 30) or (35 <= edad <= 50):\n",
        "  print('Es habilitado para las elecciones')\n",
        "else:\n",
        "  print('No esta habilitado para las elecciones')"
      ],
      "metadata": {
        "id": "g1NLfBQIq748"
      },
      "execution_count": null,
      "outputs": []
    },
    {
      "cell_type": "code",
      "execution_count": null,
      "metadata": {
        "id": "xFMyExeDr03A"
      },
      "outputs": [],
      "source": [
        "if 5 > 6:\n",
        "  print('That’s True!')\n",
        "print('Línea 2')"
      ]
    },
    {
      "cell_type": "code",
      "source": [
        "if 5 > 6:\n",
        "  print('That’s True!')\n",
        "  if 1>0:\n",
        "    print('Linea extra')\n",
        "print('Línea 2')"
      ],
      "metadata": {
        "id": "mPhZdjqufdSw"
      },
      "execution_count": null,
      "outputs": []
    },
    {
      "cell_type": "code",
      "execution_count": null,
      "metadata": {
        "id": "b1wTlnyOF_mW"
      },
      "outputs": [],
      "source": [
        "edad = 13\n",
        "if edad >= 18:\n",
        "  print('Es mayor de edad')"
      ]
    },
    {
      "cell_type": "markdown",
      "metadata": {
        "id": "TDstJ2-HF_mW"
      },
      "source": [
        "## 2.2 Condición anidada"
      ]
    },
    {
      "cell_type": "code",
      "execution_count": null,
      "metadata": {
        "id": "v6BQSbuceCCS"
      },
      "outputs": [],
      "source": [
        "x = 25\n",
        "if x > 20:\n",
        "  print('Above twenty,')\n",
        "  if x > 30:\n",
        "    print('and also above 30!')"
      ]
    },
    {
      "cell_type": "code",
      "source": [
        "edad = 30\n",
        "if edad >= 18:\n",
        "  print('Es mayor de edad')\n",
        "\n",
        "print('Es menor de edad')"
      ],
      "metadata": {
        "id": "N2eHWcaBQXSl"
      },
      "execution_count": null,
      "outputs": []
    },
    {
      "cell_type": "code",
      "execution_count": null,
      "metadata": {
        "id": "s-4W68GLF_mX"
      },
      "outputs": [],
      "source": [
        "edad = 10\n",
        "if edad >= 18:\n",
        "  print('Es mayor de edad')\n",
        "else:\n",
        "  if edad < 11:\n",
        "    print('Es un niño')\n",
        "  print('Es menor de edad')"
      ]
    },
    {
      "cell_type": "code",
      "source": [
        "#Con problemas\n",
        "edad = 18\n",
        "\n",
        "if edad >= 18:\n",
        "  aNac = 2024 - edad\n",
        "elif edad >= 15:\n",
        "  print('es un adolecente')\n",
        "elif edad < 2:\n",
        "  print('Es un bebé')\n",
        "else:\n",
        "  print('Es un niño')\n",
        "\n",
        "print(aNac)"
      ],
      "metadata": {
        "id": "VSEkMQ3kRq0I"
      },
      "execution_count": null,
      "outputs": []
    },
    {
      "cell_type": "code",
      "source": [
        "# Correcto\n",
        "edad = 30\n",
        "\n",
        "if edad >= 15:\n",
        "  print('es un adolecente')\n",
        "elif edad >= 18:\n",
        "  print('Es mayor de edad')\n",
        "elif edad < 2:\n",
        "  print('Es un bebé')\n",
        "else:\n",
        "  print('Es un niño')"
      ],
      "metadata": {
        "id": "mt8eG-HzHblp"
      },
      "execution_count": null,
      "outputs": []
    },
    {
      "cell_type": "markdown",
      "metadata": {
        "id": "DLJHzEHcF_mX"
      },
      "source": [
        "## 2.3 ELIF - Condición"
      ]
    },
    {
      "cell_type": "code",
      "execution_count": null,
      "metadata": {
        "id": "d-YBlmiYF_mY"
      },
      "outputs": [],
      "source": [
        "a = 45\n",
        "b = 45\n",
        "\n",
        "if b > a:\n",
        "  print('b is greater than a')\n",
        "\n",
        "elif a == b:\n",
        "  print('a and b are equal')\n",
        "\n",
        "\n",
        "\n",
        "if b > a:\n",
        "  print('b is greater than a')\n",
        "\n",
        "if a == b:\n",
        "  print('a and b are equal')"
      ]
    },
    {
      "cell_type": "code",
      "execution_count": null,
      "metadata": {
        "id": "890Cm0IZF_mY"
      },
      "outputs": [],
      "source": []
    },
    {
      "cell_type": "markdown",
      "metadata": {
        "id": "HzPF2MVosKn4"
      },
      "source": [
        "# 3. Bucles\n",
        "## Bucles condicionales (while)\n",
        "\n",
        "\n",
        "```\n",
        "# while condición:\n",
        "    bloque código\n",
        "```\n",
        "\n",
        "\n",
        "\n",
        "Repite la ejecución del bloque de código mientras la expresión lógica condición sea cierta.\n",
        "\n",
        "Se puede interrumpir en cualquier momento la ejecución del bloque de código con la instrucción **break**.\n",
        "\n",
        " El bloque de código debe estar **indentado por 2 espacios o un tab.**"
      ]
    },
    {
      "cell_type": "code",
      "source": [
        "# from ast import AsyncFunctionDef\n",
        "# Crear un programa que me permita almacenar y/o actualizar el dato de los alumnos que se esten matriculando.\n",
        "nombre1 = input('Ingrese nombre del alumno')\n",
        "nombre2 = input('Ingrese nombre del alumno')\n",
        "nombre3 = input('Ingrese nombre del alumno')\n",
        "nombre4 = input('Ingrese nombre del alumno')\n",
        "nombre5 = input('Ingrese nombre del alumno')\n",
        "...\n",
        "nombre100 = input('Ingrese nombre del alumno')\n",
        "\n",
        "# While = \"mientras\", mientras se cumpla la condicion va a ejecutar el codigo."
      ],
      "metadata": {
        "id": "YPHqU2MAg4Qk"
      },
      "execution_count": null,
      "outputs": []
    },
    {
      "cell_type": "code",
      "source": [
        "condicion = True\n",
        "nombre = input('Ingrese nombre: ')\n",
        "\n",
        "while condicion:\n",
        "  if nombre == 'Dany':\n",
        "    print('Se ingreso un dato correcto')\n",
        "  else:\n",
        "    condicion = False\n",
        "\n",
        "# Break"
      ],
      "metadata": {
        "id": "cwZxAclC5OaK"
      },
      "execution_count": null,
      "outputs": []
    },
    {
      "cell_type": "code",
      "source": [
        "condicion = True\n",
        "\n",
        "while condicion:\n",
        "  nombre = input('Ingrese el nombre del almuno: ')\n",
        "  if nombre == 'Dany' :\n",
        "     condicion = False # / break\n"
      ],
      "metadata": {
        "id": "uNcYdEyMMZhe"
      },
      "execution_count": null,
      "outputs": []
    },
    {
      "cell_type": "code",
      "source": [
        "# Bucle infinito\n",
        "while 10 > 5:\n",
        "  input('Ingrese el nombre del alumno: ')\n"
      ],
      "metadata": {
        "id": "VS9tPn_EuAO0"
      },
      "execution_count": null,
      "outputs": []
    },
    {
      "cell_type": "code",
      "source": [
        "# Bucle infinito\n",
        "nro_alumnos = int(input('Ingrese el numero de alumnos a registrar: '))\n",
        "\n",
        "while 10 > nro_alumnos: # 4\n",
        "  input('Ingrese el nombre del alumno: ')"
      ],
      "metadata": {
        "id": "yaLwiiWTuX1h"
      },
      "execution_count": null,
      "outputs": []
    },
    {
      "cell_type": "code",
      "source": [
        "# Contador = Una variable que ira almacenando/contando la cantidad de vueltas que esta dando el while\n",
        "nro_alumnos = int(input('Ingrese el numero de alumnos a registrar: '))\n",
        "contador = 1\n",
        "\n",
        "while contador <= nro_alumnos: #3\n",
        "  input('Ingrese el nombre del alumno: ')\n",
        "  contador = contador + 1"
      ],
      "metadata": {
        "id": "oq82ileLuCfG"
      },
      "execution_count": null,
      "outputs": []
    },
    {
      "cell_type": "code",
      "source": [
        "# Contador = Una variable que ira almacenando/contando la cantidad de vueltas que esta dando el while\n",
        "nro_alumnos = int(input('Ingrese el numero de alumnos a registrar: '))\n",
        "contador = 1\n",
        "\n",
        "while contador <= nro_alumnos: #3\n",
        "  print('Alumno:', contador)\n",
        "  input('Ingrese el nombre del alumno: ')\n",
        "  contador = contador + 1"
      ],
      "metadata": {
        "id": "6ejvxiwQ7oD7"
      },
      "execution_count": null,
      "outputs": []
    },
    {
      "cell_type": "code",
      "source": [
        "# Contador = Una variable que ira almacenando/contando la cantidad de vueltas que esta dando el while\n",
        "nro_alumnos = int(input('Ingrese el numero de alumnos a registrar: '))\n",
        "contador = 1\n",
        "\n",
        "while contador <= nro_alumnos: #3\n",
        "  input('Ingrese el nombre del alumno: ')\n",
        "  print('El valor del contador actualmente es:', contador)\n",
        "  contador += 1 #contador = contador + 1"
      ],
      "metadata": {
        "id": "do8vkSOH778a"
      },
      "execution_count": null,
      "outputs": []
    },
    {
      "cell_type": "code",
      "source": [
        "# Contador = Una variable que ira almacenando/contando la cantidad de vueltas que esta dando el while\n",
        "# f, es conocido como la funcion de cadena\n",
        "nro_alumnos = int(input('Ingrese el numero de alumnos a registrar: '))\n",
        "contador = 1\n",
        "nombre_docente = 'Dany'\n",
        "\n",
        "while contador <= nro_alumnos: #3\n",
        "  input(f'Ingrese el nombre del alumno {contador}, de {nro_alumnos} alumnos en total: ')\n",
        "  contador += 1 #contador = contador + 1"
      ],
      "metadata": {
        "id": "m245UaKo8day"
      },
      "execution_count": null,
      "outputs": []
    },
    {
      "cell_type": "code",
      "source": [
        "# Contador = Una variable que ira almacenando/contando la cantidad de vueltas que esta dando el while\n",
        "nro_alumnos = int(input('Ingrese el numero de alumnos a registrar: '))\n",
        "contador = 1\n",
        "\n",
        "while contador <= nro_alumnos: #3\n",
        "  input(f'Ingrese el nombre del alumno {contador} : ')\n",
        "  contador += 1 #contador = contador + 1"
      ],
      "metadata": {
        "id": "8k7E3ZRm65xA"
      },
      "execution_count": null,
      "outputs": []
    },
    {
      "cell_type": "code",
      "source": [
        "# Contador = Una variable que ira almacenando/contando la cantidad de vueltas que esta dando el while\n",
        "nro_alumnos = int(input('Ingrese el numero de alumnos a registrar: '))\n",
        "contador = 1\n",
        "\n",
        "while contador <= nro_alumnos: #3\n",
        "  input(f'Ingrese el nombre del alumno {contador} de un total de {nro_alumnos} alumnos : ')\n",
        "  contador += 1 #contador = contador + 1"
      ],
      "metadata": {
        "id": "i7QJgEys9zCP"
      },
      "execution_count": null,
      "outputs": []
    },
    {
      "cell_type": "code",
      "source": [
        "# Acumulador = Sirve para acumular valores y/o ir sumando datos\n",
        "\n",
        "# Crear un programa que me permita calcular el premio de las notas de un salon de N cantidad de alumnos\n",
        "nroAlum = int(input('Ingrese la cantidad de notas de alumnos a promediar: '))\n",
        "contador = 1\n",
        "acumNota = 0 # simpre inicia en el valor de cero\n",
        "\n",
        "while contador <= nroAlum:\n",
        "  nota = float(input('Ingrese la nota del alumno: '))\n",
        "  acumNota = acumNota + nota\n",
        "  contador += 1\n",
        "\n",
        "promedio = acumNota / nroAlum\n",
        "print('El promedio de notas del salon es:',promedio)\n",
        "print('El valor de las notas aculumadas es:', acumNota)"
      ],
      "metadata": {
        "id": "p2JmTY_E-s6X"
      },
      "execution_count": null,
      "outputs": []
    },
    {
      "cell_type": "code",
      "source": [
        "# Acumulador = Sirve para acumular valores y/o ir sumando datos\n",
        "\n",
        "#Crear un programa que me permita calcular el premio de las notas de un salon de alumnos\n",
        "nroAlum = int(input('Ingrese la cantidad de notas de alumnos a promediar: '))\n",
        "contador = 1\n",
        "acumNota = 0\n",
        "\n",
        "while contador <= nroAlum:\n",
        "  nota = float(input(f'Ingrese la nota del alumno {contador}: '))\n",
        "  acumNota = acumNota + nota\n",
        "  contador += 1\n",
        "\n",
        "promedio = acumNota / nroAlum\n",
        "print('El valor de las notas aculumadas es:', acumNota,'de',nroAlum,'Alumnos')\n",
        "print('El promedio de notas del salon es:',promedio)"
      ],
      "metadata": {
        "id": "pzzeaTMX-61B"
      },
      "execution_count": null,
      "outputs": []
    },
    {
      "cell_type": "code",
      "source": [
        "# Acumulador = Sirve para acumular valores y/o ir sumando datos\n",
        "\n",
        "#Crear un programa que me permita calcular el premio de las notas de un salon de alumnos\n",
        "nroAlum = int(input('Ingrese la cantidad de notas de alumnos a promediar: '))\n",
        "contador = 1\n",
        "acumNota = 0\n",
        "\n",
        "while contador <= nroAlum:\n",
        "  nota = float(input(f'Ingrese la nota del alumno {contador}: '))\n",
        "  acumNota = acumNota + nota\n",
        "  contador += 1\n",
        "\n",
        "promedio = acumNota / nroAlum\n",
        "print('El valor de las notas aculumadas es:', acumNota,'de',nroAlum,'Alumnos')\n",
        "print('El promedio de notas del salon es:',round(promedio,2))"
      ],
      "metadata": {
        "id": "z9q6Podb-tLk"
      },
      "execution_count": null,
      "outputs": []
    },
    {
      "cell_type": "code",
      "source": [],
      "metadata": {
        "id": "XEqO31YO-taQ"
      },
      "execution_count": null,
      "outputs": []
    },
    {
      "cell_type": "code",
      "source": [
        "# Contador = Una variable que ira almacenando y contando la cantidad de vueltas que dara\n",
        "nro_alumnos = int(input('Ingrese el numero de alumnos a registrar: '))\n",
        "contador = 1\n",
        "\n",
        "while contador <= nro_alumnos:\n",
        "  input('Ingrese el nombre del alumno: ')\n",
        "  contador = contador + 1"
      ],
      "metadata": {
        "id": "V7uCB02XuCuV"
      },
      "execution_count": null,
      "outputs": []
    },
    {
      "cell_type": "code",
      "source": [
        "# Contador = Una variable que ira almacenando y contando la cantidad de vueltas que dara\n",
        "nro_alumnos = int(input('Ingrese el numero de alumnos a registrar: '))\n",
        "contador = 1\n",
        "\n",
        "while contador <= nro_alumnos:\n",
        "  input('Ingrese el nombre del alumno: ')\n",
        "  contador = contador + 1 #metodo 1\n",
        "  print('EL valor del contador es:', contador)"
      ],
      "metadata": {
        "id": "yV5qPuKWxtCr"
      },
      "execution_count": null,
      "outputs": []
    },
    {
      "cell_type": "code",
      "source": [
        "# Contador = Una variable que ira almacenando y contando la cantidad de vueltas que dara\n",
        "nro_alumnos = int(input('Ingrese el numero de alumnos a registrar: '))\n",
        "contador = 1\n",
        "\n",
        "while contador <= nro_alumnos:\n",
        "  input('Ingrese el nombre del alumno: ')\n",
        "  contador += 1 #Metodo 2, icrementa el tamaño en cada vuelta que da.\n",
        "  print('EL valor del contador es:', contador)"
      ],
      "metadata": {
        "id": "jokeufaNxjab"
      },
      "execution_count": null,
      "outputs": []
    },
    {
      "cell_type": "code",
      "source": [
        "contador = 1\n",
        "\n",
        "while contador <= 2:\n",
        "  print('El valor del contador es:',contador)\n",
        "  input('Ingrese el nombre del almuno: ')\n",
        "  contador = contador + 1\n",
        "\n",
        "print('Termino el programa.')\n",
        "print('El valor final del contador es:', contador)\n",
        "print('El contador elevado al cuadrado es: ', contador**2)\n"
      ],
      "metadata": {
        "id": "rxNuuG5ciXU8"
      },
      "execution_count": null,
      "outputs": []
    },
    {
      "cell_type": "code",
      "source": [
        "contador"
      ],
      "metadata": {
        "id": "GpobjmsgPG6x"
      },
      "execution_count": null,
      "outputs": []
    },
    {
      "cell_type": "code",
      "source": [
        "n = 3 # Requiero registrar 3 alumnos - nombres\n",
        "\n",
        "contador = 1 # Contador\n",
        "\n",
        "while contador <= n :\n",
        "  nombre = input('Ingrese nombre del alumno')\n",
        "  contador = contador + 1 # Para incrementar el valor del contador"
      ],
      "metadata": {
        "id": "HcTAiyhfMh33"
      },
      "execution_count": null,
      "outputs": []
    },
    {
      "cell_type": "code",
      "source": [
        "n = 2 #Requiero registrar 3 alumnos - nombres\n",
        "contador = 1 # Contador\n",
        "\n",
        "while contador <= n:\n",
        "  nombre = input('Ingrese nombre del alumno')\n",
        "  contador += 1 #contador = contador + 1\n",
        "\n",
        "print(contador)"
      ],
      "metadata": {
        "id": "KkvbtgeUJdF4"
      },
      "execution_count": null,
      "outputs": []
    },
    {
      "cell_type": "code",
      "source": [
        "n = 3\n",
        "contador = 1\n",
        "\n",
        "while contador <= n :\n",
        "  nombre = input('Ingrese nombre del alumno: ')\n",
        "  print('Se ha ingresado el siguiente alumno: ', nombre)\n",
        "  contador += 1\n",
        "  print('El valor del contador es:',contador)"
      ],
      "metadata": {
        "id": "koK3OXzSLIcl"
      },
      "execution_count": null,
      "outputs": []
    },
    {
      "cell_type": "code",
      "source": [
        "n = int(input('Cuantos alumnos deseas registrar:'))\n",
        "contador = 1\n",
        "\n",
        "while contador <= n :\n",
        "  print('El valor del contador es:',contador)\n",
        "  nombre = input('Ingrese nombre del alumno: ')\n",
        "  print('Se ha ingresado el siguiente alumno: ', nombre)\n",
        "  contador += 1"
      ],
      "metadata": {
        "id": "q0Ntct9bSFAy"
      },
      "execution_count": null,
      "outputs": []
    },
    {
      "cell_type": "code",
      "source": [
        "n = int(input('Cuantos alumnos deseas registrar:'))\n",
        "contador = 1\n",
        "\n",
        "while contador <= n :\n",
        "  print('El valor del contador es:',contador)\n",
        "  nombre = input('Ingrese nombre del alumno: ')\n",
        "  print('Se ha ingresado el siguiente alumno: ', nombre)\n",
        "  contador += 1\n",
        "\n",
        "print('Se termino el ciclo')"
      ],
      "metadata": {
        "id": "N2E-rWhdMaOt"
      },
      "execution_count": null,
      "outputs": []
    },
    {
      "cell_type": "code",
      "source": [
        "# Crear un programa que me permita calcular la nota promedio de una clase de estudios\n",
        "\n",
        "n = int(input('Cuantos alumnos deseas registrar:')) # Requiero registrar notas 3 alumnos - nombres\n",
        "contador = 1 # Contador\n",
        "totalNotas = 0 # acumulador\n",
        "\n",
        "while contador <= n:\n",
        "  nota = int(input('Ingrese nota del alumno: '))\n",
        "  totalNotas = totalNotas + nota # totalNotas+= nota\n",
        "  print('Valor de Total Notas',totalNotas )\n",
        "  contador += 1 # contador = contador + 1\n",
        "\n",
        "promedio = totalNotas/n\n",
        "print('El promedio es',round(promedio,2) )"
      ],
      "metadata": {
        "id": "D974Ak9pTnc7"
      },
      "execution_count": null,
      "outputs": []
    },
    {
      "cell_type": "code",
      "source": [
        "# Funcion de cande 'f', nos permite agregar una variabla dentro de una cadena.\n",
        "# Crear un programa que me permita calcular la nota promedio de una clase de estudios\n",
        "\n",
        "n = int(input('Cuantos alumnos deseas registrar:')) # Requiero registrar notas 3 alumnos - nombres\n",
        "contador = 1 # Contador\n",
        "totalNotas = 0 # acumulador\n",
        "\n",
        "while contador <= n:\n",
        "  nota = int(input(f'Ingrese nota del alumno {contador}: '))\n",
        "  totalNotas = totalNotas + nota # totalNotas+= nota\n",
        "  print('Valor de Total Notas',totalNotas )\n",
        "  contador += 1 # contador = contador + 1\n",
        "\n",
        "promedio = totalNotas/n\n",
        "print('El promedio es',round(promedio,2) )"
      ],
      "metadata": {
        "id": "7p6kug2-1i6H"
      },
      "execution_count": null,
      "outputs": []
    },
    {
      "cell_type": "code",
      "source": [
        "n = int(input('Cuantos alumnos deseas registrar:')) # Requiero registrar notas 3 alumnos - nombres\n",
        "contador = 1 # Contador\n",
        "totalNotas = 0 # acumulador\n",
        "\n",
        "while contador <= n:\n",
        "  nota = int(input('Ingrese nota del alumno: '))\n",
        "  totalNotas = totalNotas + nota ### Falta volcarlo a una sola linea.\n",
        "  promedio = totalNotas / contador\n",
        "  contador += 1 # contador = contador + 1\n",
        "\n",
        "print('El promedio es',promedio)"
      ],
      "metadata": {
        "id": "IbI0TDMiUxQP"
      },
      "execution_count": null,
      "outputs": []
    },
    {
      "cell_type": "code",
      "source": [
        "n = int(input('Cuantos alumnos deseas registrar:')) # Requiero registrar notas 3 alumnos - nombres\n",
        "contador = 1 # Contador\n",
        "totalNotas = 0 # acumulador\n",
        "promedio\n",
        "\n",
        "while contador <= n:\n",
        "  nota = int(input(f'Ingrese nota del alumno {contador} de {n} solicitados: '))\n",
        "  promedio = (promedio + (nota/contador))\n",
        "  contador += 1 # contador = contador + 1\n",
        "\n",
        "print('El promedio es',promedio)"
      ],
      "metadata": {
        "id": "Lhkx4f8BWNTC"
      },
      "execution_count": null,
      "outputs": []
    },
    {
      "cell_type": "code",
      "source": [
        "n = 1 # Requiero registrar notas 3 alumnos - nombres\n",
        "contador = 1 # Contador\n",
        "totalNotas = 0 # acumulador\n",
        "\n",
        "while contador <= n:\n",
        "  nota = int(input(f'Ingrese nota del alumno {contador}: '))\n",
        "  totalNotas = totalNotas + nota # totalNotas+= nota\n",
        "  print('Valor de Total Notas',totalNotas )\n",
        "  contador += 1 # contador = contador + 1\n",
        "\n",
        "promedio =totalNotas/n\n",
        "print('El promedio es',round(promedio,2) ) # Round, nos permite redondear numeros flotantes segun la cantidad de decimales que le asigne"
      ],
      "metadata": {
        "id": "m1C1IHQCj5CY"
      },
      "execution_count": null,
      "outputs": []
    },
    {
      "cell_type": "code",
      "source": [
        "n = 3 # Requiero registrar notas 3 alumnos - nombres\n",
        "contador = 1 # Contador\n",
        "totalNotas = 0 # acumulador\n",
        "\n",
        "while contador <= n:\n",
        "  nota = int(input(f'Ingrese nota del alumno {contador}: '))\n",
        "  if nota >= 0:\n",
        "    totalNotas = totalNotas + nota # totalNotas+= nota\n",
        "    print('Valor de Total Notas',totalNotas )\n",
        "    contador += 1 # contador = contador + 1\n",
        "  else:\n",
        "    print('Es un numero negativo')\n",
        "\n",
        "\n",
        "promedio =totalNotas/n\n",
        "print('El promedio es',round(promedio,2) )"
      ],
      "metadata": {
        "id": "7Wcwup6YaCSw"
      },
      "execution_count": null,
      "outputs": []
    },
    {
      "cell_type": "code",
      "source": [
        "promedio =totalNotas/n\n",
        "print('El promedio es',round(promedio,0) )"
      ],
      "metadata": {
        "id": "fWMvkDxGmhe8"
      },
      "execution_count": null,
      "outputs": []
    },
    {
      "cell_type": "markdown",
      "source": [
        "**10 minutos**\n",
        "\n",
        "**Ejercicio**, crea un programa que permita registrar los sueldos de N colaboradores de una empresa\n",
        "\n",
        "1.   Solicitar al usuario cuantos colaboradores son parte de la empresa.\n",
        "2.   Registrar los sueldos (acumular)\n",
        "3.   Mostrar el promedio de los sueldos."
      ],
      "metadata": {
        "id": "NdrBJJuUO1zo"
      }
    },
    {
      "cell_type": "code",
      "source": [],
      "metadata": {
        "id": "0Wwk4g7oOzb2"
      },
      "execution_count": null,
      "outputs": []
    },
    {
      "cell_type": "code",
      "source": [],
      "metadata": {
        "id": "URmMwrMoQ3KG"
      },
      "execution_count": null,
      "outputs": []
    },
    {
      "cell_type": "code",
      "source": [],
      "metadata": {
        "id": "D1LDhh8XsTnF"
      },
      "execution_count": null,
      "outputs": []
    },
    {
      "cell_type": "code",
      "source": [
        "# Uso del break\n",
        "# break = Cortar/interrumpir/anular un bucle de tipo WHILE, siempre y cuando se cumpla una condicion.\n",
        "\n",
        "#Objetivo: Crear un programa, que nos permita calcular el sueldo promedio de una cantidad de trabajadores de una empresa\n",
        "#paso1: Solicitar al usuario que ingrese la cantidad de colaboradores de la empresa\n",
        "cantColab = int(input('Ingrese la cantidad de colaboradores: '))\n",
        "contador = 1\n",
        "acumSueldos = 0\n",
        "\n",
        "#paso2: Recorro la cantidad de colaboradores a consultar su sueldo\n",
        "while contador <= cantColab:\n",
        "  sueldo = float(input(f'Ingrese el sueldo del colaborador N^ {contador}: '))\n",
        "  if sueldo <= 0:\n",
        "    break\n",
        "  acumSueldos = acumSueldos + sueldo\n",
        "  contador += 1\n",
        "\n",
        "#Paso3: Promedio los sueldos\n",
        "promSueldo = acumSueldos / cantColab\n",
        "#paso4: Muestro los resultados\n",
        "print(f'El sueldo promedio de {contador-1} colaboradores, es:', promSueldo)"
      ],
      "metadata": {
        "id": "Qe4WWn69tnIC"
      },
      "execution_count": null,
      "outputs": []
    },
    {
      "cell_type": "code",
      "source": [
        "#Uso del Continue\n",
        "\n",
        "#Objetivo: Crear un programa, que nos permita calcular el sueldo promedio de una cantidad de trabajadores de una empresa\n",
        "#paso1: Solicitar al usuario que ingrese la cantidad de colaboradores de la empresa\n",
        "cantColab = int(input('Ingrese la cantidad de colaboradores: '))\n",
        "contador = 1\n",
        "acumSueldos = 0\n",
        "\n",
        "#paso2: Recorro la cantidad de colaboradores a consultar su sueldo\n",
        "while contador <= cantColab:\n",
        "  sueldo = float(input(f'Ingrese el sueldo del colaborador N^ {contador}: '))\n",
        "  if sueldo <= 0:\n",
        "    continue\n",
        "  acumSueldos = acumSueldos + sueldo\n",
        "  contador += 1\n",
        "\n",
        "#Paso3: Promedio los sueldos\n",
        "promSueldo = acumSueldos / cantColab\n",
        "#paso4: Muestro los resultados\n",
        "print(f'El sueldo promedio de {contador-1} colaboradores, es:', promSueldo)"
      ],
      "metadata": {
        "id": "SXNIyiHX_pID"
      },
      "execution_count": null,
      "outputs": []
    },
    {
      "cell_type": "code",
      "execution_count": null,
      "metadata": {
        "id": "z94DTxeyktY6"
      },
      "outputs": [],
      "source": [
        "while 1==1:\n",
        "  print('Hola esto es una prueba')\n",
        "  print('---')"
      ]
    },
    {
      "cell_type": "code",
      "execution_count": null,
      "metadata": {
        "id": "Ir5-bIlRslUG"
      },
      "outputs": [],
      "source": [
        "# Pregunta al usuario por un número hasta que introduce 0.\n",
        "# != : Signfica diferente\n",
        "num = None\n",
        "\n",
        "while num != 0:\n",
        "  num = int(input('Introduce un número: '))\n",
        "  print('Ha ingresado',num)"
      ]
    },
    {
      "cell_type": "markdown",
      "metadata": {
        "id": "-iMkI2aksvVC"
      },
      "source": [
        "Alternativa"
      ]
    },
    {
      "cell_type": "code",
      "execution_count": null,
      "metadata": {
        "id": "uxG-_9NAswY5"
      },
      "outputs": [],
      "source": [
        "#num = None\n",
        "while True:\n",
        "  num = int(input('Introduce un número: '))\n",
        "  if num == 0:\n",
        "    break"
      ]
    },
    {
      "cell_type": "code",
      "execution_count": null,
      "metadata": {
        "id": "M3vwd6AYpCI4"
      },
      "outputs": [],
      "source": [
        "while False:\n",
        "  print('hola')"
      ]
    },
    {
      "cell_type": "code",
      "execution_count": null,
      "metadata": {
        "id": "Derpeif8pSLO"
      },
      "outputs": [],
      "source": [
        "i = 0 #contador\n",
        "\n",
        "while i<= 8:\n",
        "  print('orden',i)\n",
        "  i += 1 #i = i + 1"
      ]
    },
    {
      "cell_type": "code",
      "execution_count": null,
      "metadata": {
        "id": "UV2HKxrRrKsw"
      },
      "outputs": [],
      "source": []
    },
    {
      "cell_type": "markdown",
      "metadata": {
        "id": "HW8qs5Fys-5A"
      },
      "source": [
        "# 4. Bucles iterativos (for)\n",
        "* for i in secuencia:\n",
        "*    bloque código\n",
        "\n",
        "**Repite la ejecución** del bloque de código para cada elemento de la secuencia secuencia, asignado dicho elemento a i en cada repetición.\n",
        "\n",
        "## El bloque de código debe estar indentado por 2 espacios o tab.\n",
        "\n",
        "Se utiliza fundamentalmente para recorrer colecciones de objetos como cadenas, listas, tuplas o diccionarios.\n",
        "\n",
        "A menudo se usan con la instrucción range:\n",
        "\n",
        "* range(fin) : Genera una secuencia de números enteros desde 0 hasta dato asignado.\n",
        "* range(inicio, fin, salto) : Genera una secuencia de números enteros desde inicio hasta fin-1 con un incremento de salto."
      ]
    },
    {
      "cell_type": "code",
      "source": [
        "range(5)\n",
        "# 0,1,2,3,4"
      ],
      "metadata": {
        "id": "o4si-pUd4BbK"
      },
      "execution_count": null,
      "outputs": []
    },
    {
      "cell_type": "code",
      "source": [
        "# Para el range, el ultimo valor debe de ser restado una unidad -1\n",
        "range(2,7)\n",
        "# 2,3,4,5,6"
      ],
      "metadata": {
        "id": "Pc-eAJL-4RCB"
      },
      "execution_count": null,
      "outputs": []
    },
    {
      "cell_type": "code",
      "source": [
        "range(10,1,-2)\n",
        "# 10, 8, 6, 4, 2"
      ],
      "metadata": {
        "id": "tpRckZdjeKxL"
      },
      "execution_count": null,
      "outputs": []
    },
    {
      "cell_type": "code",
      "source": [
        "for iterante in range(3): # 0,1,2,3,4,5,6,7,8,9\n",
        "  print('El valor del iterante es',iterante)"
      ],
      "metadata": {
        "id": "iwhQr0YnLneH"
      },
      "execution_count": null,
      "outputs": []
    },
    {
      "cell_type": "code",
      "source": [
        "for iterante in range(5): # 0,1,2,3,4\n",
        "  print(iterante)"
      ],
      "metadata": {
        "id": "ujTSupp7MnqN"
      },
      "execution_count": null,
      "outputs": []
    },
    {
      "cell_type": "code",
      "source": [
        "for iterante in range(5): # 0,1,2,3,4\n",
        "  print('ramdon')"
      ],
      "metadata": {
        "id": "dP5M7AmjM96u"
      },
      "execution_count": null,
      "outputs": []
    },
    {
      "cell_type": "code",
      "source": [
        "lista = range(5)\n",
        "lista"
      ],
      "metadata": {
        "id": "UO9ZC3PnNM2C"
      },
      "execution_count": null,
      "outputs": []
    },
    {
      "cell_type": "code",
      "source": [
        "lista = range(4,-1,-1)\n",
        "\n",
        "for i in lista: # 0,1,2,3,4 / 5,4,3,2,1\n",
        "  print(i)"
      ],
      "metadata": {
        "id": "4BZqnyx5NFtT"
      },
      "execution_count": null,
      "outputs": []
    },
    {
      "cell_type": "code",
      "source": [
        "for i in range(5): # 0,1,2,3,4\n",
        "  print(i**2)"
      ],
      "metadata": {
        "id": "jn0RgjT7NWrS"
      },
      "execution_count": null,
      "outputs": []
    },
    {
      "cell_type": "code",
      "source": [
        "contador = 1\n",
        "\n",
        "for iterante in 'Dany churapa':\n",
        "  print(contador,iterante)\n",
        "  contador = contador + 1"
      ],
      "metadata": {
        "id": "OdkP6uc5NmaG"
      },
      "execution_count": null,
      "outputs": []
    },
    {
      "cell_type": "code",
      "source": [
        "for m in ['Dany','Monica','Marcos','Miguel','Pilar','Maria']:\n",
        "  print(m)"
      ],
      "metadata": {
        "id": "N6XegIHGN8NH"
      },
      "execution_count": null,
      "outputs": []
    },
    {
      "cell_type": "code",
      "source": [
        "for i in range(5,0,-1):\n",
        "    print(i)"
      ],
      "metadata": {
        "id": "IuCbjvQHNmsf"
      },
      "execution_count": null,
      "outputs": []
    },
    {
      "cell_type": "code",
      "source": [
        "for y in 'Dany':\n",
        "  print(y)"
      ],
      "metadata": {
        "id": "_jO4KbHRnsvB"
      },
      "execution_count": null,
      "outputs": []
    },
    {
      "cell_type": "code",
      "source": [
        "for francisco in range(10,1,-2): # 0,1,2,3,4\n",
        "  print(francisco)"
      ],
      "metadata": {
        "id": "G55W7QtuG8_k"
      },
      "execution_count": null,
      "outputs": []
    },
    {
      "cell_type": "code",
      "source": [
        "# Palabra reservada \"for\"\n",
        "# El iterador (i), va a contener la informacion de la vuelta que se de en la secuencia.\n",
        "# El valor del iterante, no siempre es la \"i\"\n",
        "for m in 'dany':\n",
        "  print('El valor del iterante es:', m) # i=A, i=B, i=C, i=D ..... i=I"
      ],
      "metadata": {
        "id": "fRdMe7iob3H4"
      },
      "execution_count": null,
      "outputs": []
    },
    {
      "cell_type": "code",
      "source": [
        "# Uso de listas\n",
        "for iterante in [13,12,16,14]:\n",
        "  print('El valor de la lista es:', iterante)"
      ],
      "metadata": {
        "id": "oAtIBsT4c2T_"
      },
      "execution_count": null,
      "outputs": []
    },
    {
      "cell_type": "code",
      "source": [
        "#range(8): 0, 1, 2, 3, 4, 5, 6, 7\n",
        "cant_notas = int(input('nota'))\n",
        "\n",
        "for q in range(cant_notas): #range(5) = 0,1,2,3,4\n",
        "  print(q)"
      ],
      "metadata": {
        "id": "SlAUiMZZ4hd3"
      },
      "execution_count": null,
      "outputs": []
    },
    {
      "cell_type": "code",
      "source": [
        "for m in range(4,12):\n",
        "  print(m)"
      ],
      "metadata": {
        "id": "3XxWx5rT6NAp"
      },
      "execution_count": null,
      "outputs": []
    },
    {
      "cell_type": "code",
      "source": [
        "# Acumulador = Sirve para acumular valores y/o ir sumando datos\n",
        "\n",
        "#Crear un programa que me permita calcular el premio de las notas de un salon de alumnos\n",
        "nroAlum = int(input('Ingrese la cantidad de notas de alumnos a promediar: '))\n",
        "contador = 1\n",
        "acumNota = 0\n",
        "\n",
        "while contador <= nroAlum:\n",
        "  nota = float(input('Ingrese la nota del alumno: '))\n",
        "  acumNota = acumNota + nota\n",
        "  contador += 1\n",
        "\n",
        "promedio = acumNota / nroAlum\n",
        "print('El promedio de notas del salon es:',promedio)\n",
        "print('El valor de las notas aculumadas es:', acumNota)"
      ],
      "metadata": {
        "id": "DQ6RR3MEQFlI"
      },
      "execution_count": null,
      "outputs": []
    },
    {
      "cell_type": "code",
      "source": [
        "# Acumulador = Sirve para acumular valores y/o ir sumando datos\n",
        "\n",
        "#Crear un programa que me permita calcular el premio de las notas de un salon de alumnos\n",
        "nroAlum = int(input('Ingrese la cantidad de notas de alumnos a promediar: '))\n",
        "acumNota = 0\n",
        "\n",
        "for iterante in range(nroAlum): # range(3) = (0,1,2)\n",
        "  nota = float(input(f'Ingrese la nota del alumno {iterante+1}: '))\n",
        "  acumNota = acumNota + nota\n",
        "\n",
        "promedio = acumNota / nroAlum\n",
        "print('El promedio de notas del salon es:',promedio)\n",
        "print('El valor de las notas aculumadas es:', acumNota)"
      ],
      "metadata": {
        "id": "me4XkoMiQG6b"
      },
      "execution_count": null,
      "outputs": []
    },
    {
      "cell_type": "code",
      "source": [],
      "metadata": {
        "id": "dqNDS3crQHPY"
      },
      "execution_count": null,
      "outputs": []
    },
    {
      "cell_type": "code",
      "source": [
        "#range(10,1,-2) = (10,8,6,4,2)\n",
        "for i in range(10,1,-2):\n",
        "  print(i)"
      ],
      "metadata": {
        "id": "KOCpsl-T6Y6A"
      },
      "execution_count": null,
      "outputs": []
    },
    {
      "cell_type": "code",
      "source": [
        "for i in range(10,101,10):\n",
        "  print(i)"
      ],
      "metadata": {
        "id": "Gk6YFpxZecZs"
      },
      "execution_count": null,
      "outputs": []
    },
    {
      "cell_type": "code",
      "execution_count": null,
      "metadata": {
        "id": "pQNb0EUTtUI6"
      },
      "outputs": [],
      "source": [
        "palabra = 'Python'\n",
        "\n",
        "for letra in palabra:\n",
        "  print(letra)"
      ]
    },
    {
      "cell_type": "code",
      "source": [
        "n = int(input('Cuantos alumnos deseas registrar:')) # Requiero registrar notas 3 alumnos - nombres\n",
        "totalNotas = 0 # acumulador\n",
        "\n",
        "for iterante in range(n): # range(3) = (0,1,2)\n",
        "  nota = int(input(f'Ingrese nota del alumno {iterante+1}: '))\n",
        "  totalNotas = totalNotas + nota ### Falta volcarlo a una sola linea.\n",
        "  promedio = totalNotas / n\n",
        "\n",
        "print('El promedio es', round(promedio,2))"
      ],
      "metadata": {
        "id": "HtDU0-Uh7dGf"
      },
      "execution_count": null,
      "outputs": []
    },
    {
      "cell_type": "code",
      "source": [
        "n = int(input('Cuantos alumnos deseas registrar:')) # Requiero registrar notas 3 alumnos - nombres\n",
        "contador = 1 # Contador\n",
        "totalNotas = 0 # acumulador\n",
        "\n",
        "while contador <= n:\n",
        "  nota = int(input('Ingrese nota del alumno: '))\n",
        "  totalNotas = totalNotas + nota ### Falta volcarlo a una sola linea.\n",
        "  promedio = totalNotas / contador\n",
        "  contador += 1 # contador = contador + 1\n",
        "\n",
        "print('El promedio es',promedio)"
      ],
      "metadata": {
        "id": "K23ZA8jEJoz-"
      },
      "execution_count": null,
      "outputs": []
    },
    {
      "cell_type": "code",
      "source": [],
      "metadata": {
        "id": "lB9ivXdpJpK4"
      },
      "execution_count": null,
      "outputs": []
    },
    {
      "cell_type": "code",
      "source": [],
      "metadata": {
        "id": "uhGvH0C-JpjR"
      },
      "execution_count": null,
      "outputs": []
    },
    {
      "cell_type": "code",
      "source": [
        "notas = int(input('Ingrese la cantidad de notas a registrar: '))\n",
        "totalNotas = 0 #acumuladora\n",
        "#contador = 1\n",
        "\n",
        "for iterante in range(notas): #range(3) = 0,1,2\n",
        "#while contador <= notas:\n",
        "  nota = int(input(f'Ingrese la nota {iterante+1}: '))\n",
        "  totalNotas = totalNotas + nota\n",
        "  #contador += 1\n",
        "\n",
        "promNota = totalNotas / notas\n",
        "print('El promedio de notas es:', round(promNota,2))\n",
        "print('El promedio de notas es:', promNota)\n",
        "print('El promedio de notas es:',round(promNota) )\n"
      ],
      "metadata": {
        "id": "0_x8dxgmqQEI"
      },
      "execution_count": null,
      "outputs": []
    },
    {
      "cell_type": "code",
      "source": [
        "notas = int(input('Ingrese la cantidad de notas a registrar: '))\n",
        "totalNotas = 0 #acumuladora\n",
        "\n",
        "for i in range(notas):\n",
        "  nota = int(input('Ingrese nota: '))\n",
        "  totalNotas = totalNotas + nota\n",
        "\n",
        "promNota = totalNotas / notas\n",
        "print('El promedio de notas es:', round(promNota,2), promNota,round(promNota) )\n"
      ],
      "metadata": {
        "id": "cHyHD7iE7jkk"
      },
      "execution_count": null,
      "outputs": []
    },
    {
      "cell_type": "markdown",
      "source": [
        "El mismo ejercicio con while y usemos **for en 10 min**\n",
        "\n",
        "**Ejercicio**, crea un programa que permita registrar los sueldos de los colaboradores de una empresa\n",
        "\n",
        "1.   Solicitar al usuario cuanto s colaboradores son parte de la empresa.\n",
        "2.   Registrar los sueldos (acumular)\n",
        "3.   Mostrar el promedio de sueldos."
      ],
      "metadata": {
        "id": "Fzg_WNv9gtCa"
      }
    },
    {
      "cell_type": "code",
      "source": [
        "valor = int(input('Ingrese numero: '))\n",
        "\n",
        "for i in range(valor): # range(10) = 0,1,2,3,4,5,6,7,8,9\n",
        "  print(i)"
      ],
      "metadata": {
        "id": "Ep9CjAL4gqZ1"
      },
      "execution_count": null,
      "outputs": []
    },
    {
      "cell_type": "code",
      "execution_count": null,
      "metadata": {
        "id": "ZpsQpr-3ta6f"
      },
      "outputs": [],
      "source": []
    },
    {
      "cell_type": "markdown",
      "metadata": {
        "id": "0A3gNJhKwx7G"
      },
      "source": [
        "## Ejercicio 1 - CADENAS\n",
        "* Dado una cadena de con el siguiente formato de hora: hhmmss (18:24:50)\n",
        "* mostrar el siguiente mensaje : “Son las 18h:24min:50seg”"
      ]
    },
    {
      "cell_type": "code",
      "execution_count": null,
      "metadata": {
        "id": "Cf8Ww1qMw_UD"
      },
      "outputs": [],
      "source": []
    },
    {
      "cell_type": "code",
      "execution_count": null,
      "metadata": {
        "id": "ZCMV_usMw_e2"
      },
      "outputs": [],
      "source": []
    },
    {
      "cell_type": "code",
      "source": [],
      "metadata": {
        "id": "dg-Orapwja_K"
      },
      "execution_count": null,
      "outputs": []
    },
    {
      "cell_type": "markdown",
      "metadata": {
        "id": "ibQKQ26dw_3c"
      },
      "source": [
        "## Ejercicio 2 - CADENAS\n",
        "\n",
        "Escribir un programa que pregunte el nombre completo del usuario en la consola e imprima en formato donde la primera letra es mayúscula y los demás minúscula.\n",
        "> Ejemplo:\n",
        "* nombre ingresado: jimmy farfan\n",
        "* outPut: Jimmy Farfán"
      ]
    },
    {
      "cell_type": "code",
      "execution_count": null,
      "metadata": {
        "id": "B_Ho7bntxKKx"
      },
      "outputs": [],
      "source": []
    },
    {
      "cell_type": "markdown",
      "source": [
        "##Ejercicio 2.2 - Cadenas\n",
        "\n",
        "Nombre ingresado: 20 jimmy FARFAn\n",
        "\n",
        "output:\n",
        "\n",
        "El nombre del participante es Jimmy Farfan\n",
        "y su edad es 20 años\n",
        "\n",
        "**Condicion:** siempre la edad debe de contener 2 digitos (05)"
      ],
      "metadata": {
        "id": "qL445LZsryZR"
      }
    },
    {
      "cell_type": "code",
      "execution_count": null,
      "metadata": {
        "id": "92Ojcd8GxKUd"
      },
      "outputs": [],
      "source": []
    },
    {
      "cell_type": "code",
      "source": [],
      "metadata": {
        "id": "ExCz5AT4wo0L"
      },
      "execution_count": null,
      "outputs": []
    },
    {
      "cell_type": "markdown",
      "metadata": {
        "id": "emqcZ-vCxOnp"
      },
      "source": [
        "## Ejercicio 3 - CONDICIONALES\n",
        "\n",
        "En una oficina de empleos categorizan a los postulantes en función del sexo y de la edad de acuerdo con lo siguiente:\n",
        "* Si la persona es de sexo femenino: categoría FA si tiene menos de 23 años y FB, en caso contrario.\n",
        "* Si la persona es de sexo masculino: categoría MA si tiene menos de 25 años y MB, en caso contrario. Dado el sexo y la edad de un postulante, diseñe un programa que determine su categoría."
      ]
    },
    {
      "cell_type": "code",
      "execution_count": null,
      "metadata": {
        "id": "k9J04so9xpSr"
      },
      "outputs": [],
      "source": []
    },
    {
      "cell_type": "code",
      "execution_count": null,
      "metadata": {
        "id": "2gNSJ0OUxpbX"
      },
      "outputs": [],
      "source": []
    },
    {
      "cell_type": "markdown",
      "metadata": {
        "id": "qwmd0JvrxwO4"
      },
      "source": [
        "## Ejercicio 4 - CONDICIONALES\n",
        "\n",
        "Una tienda vende un producto a precios unitarios que dependen de la cantidad de unidades adquiridas de acuerdo a la tabla adjunta:\n",
        "\n",
        "* de 1 a 25: precio 27.7\n",
        "* de 26 a 50: precio 25.5\n",
        "* de 51 a 75: precio 23.7\n",
        "* de 76 a mas : precio 21.7\n",
        "\n",
        "\n",
        "\n",
        "1.   Adicionalmente, si el cliente adquiere más de 50 unidades la tienda le descuenta el 15% del importe de la compra; en caso contrario, sólo le descuenta el 5% del importe compra.\n",
        "2.   Diseñe un programa que determine el importe de la compra, el importe del descuento y el importe a pagar por la compra de cierta cantidad de unidades del producto."
      ]
    },
    {
      "cell_type": "code",
      "execution_count": null,
      "metadata": {
        "id": "Ooo1NvVix0k4"
      },
      "outputs": [],
      "source": []
    },
    {
      "cell_type": "code",
      "source": [],
      "metadata": {
        "id": "epP-GAc8EzAj"
      },
      "execution_count": null,
      "outputs": []
    },
    {
      "cell_type": "markdown",
      "metadata": {
        "id": "hcJrlMsfx9DY"
      },
      "source": [
        "## Ejercicio 5 - Bucles\n",
        "\n",
        "Calcular el sueldo promedio:\n",
        "\n",
        "1. Ingresa la cantidad de sueldo a promediar\n",
        "2. Ingresar los sueldos\n",
        "3. Calcular el promedio de los sueldo."
      ]
    },
    {
      "cell_type": "code",
      "execution_count": null,
      "metadata": {
        "id": "zrGkNmC84q8b"
      },
      "outputs": [],
      "source": []
    },
    {
      "cell_type": "code",
      "source": [],
      "metadata": {
        "id": "DtOUuYtxAYTr"
      },
      "execution_count": null,
      "outputs": []
    },
    {
      "cell_type": "markdown",
      "metadata": {
        "id": "7WRZUNuYyGQT"
      },
      "source": [
        "## Ejercicio 6 - CADENAS\n",
        "\n",
        "Escribir un programa que pregunte el nombre completo del usuario en la consola y después muestre por pantalla el nombre completo del usuario tres veces, una con todas las letras minúsculas, otra con todas las letras mayúsculas y otra solo con la primera letra del nombre y de los apellidos en mayúscula. El usuario puede introducir su nombre combinando mayúsculas y minúsculas como quiera."
      ]
    },
    {
      "cell_type": "code",
      "execution_count": null,
      "metadata": {
        "id": "H5Bgaph971lu"
      },
      "outputs": [],
      "source": [
        "# 7:28 for\n",
        "nombreCompleto = input('Ingrese su nombre completo: ')\n",
        "\n",
        "for iterante in range(3): #range(3) = 0,1,2\n",
        "  if iterante == 0:\n",
        "    print('Nombre en minuscula es:',nombreCompleto.lower())\n",
        "  elif iterante == 1:\n",
        "    print('Nombre en maysucula es:',nombreCompleto.upper())\n",
        "  elif iterante == 2:\n",
        "    print('Nombre con primera letra en mayuscula es:',nombreCompleto.title())\n"
      ]
    },
    {
      "cell_type": "code",
      "execution_count": null,
      "metadata": {
        "id": "wvp3tYHE71uX"
      },
      "outputs": [],
      "source": []
    },
    {
      "cell_type": "markdown",
      "metadata": {
        "id": "T6ZdWpBE72Fu"
      },
      "source": [
        "## Ejercicio 7 - CONDICIONALES\n",
        "\n",
        "Escribir un programa que pida al usuario dos números y muestre por pantalla su división. Si el divisor es cero el programa debe mostrar un error."
      ]
    },
    {
      "cell_type": "code",
      "execution_count": null,
      "metadata": {
        "id": "9IR6f4ft8Equ"
      },
      "outputs": [],
      "source": [
        "# 7:33\n"
      ]
    },
    {
      "cell_type": "code",
      "execution_count": null,
      "metadata": {
        "id": "D_WByaVc8ExX"
      },
      "outputs": [],
      "source": []
    },
    {
      "cell_type": "markdown",
      "metadata": {
        "id": "EodS-se88E9o"
      },
      "source": [
        "## Ejercicio 8 - CONDICIONALES\n",
        "\n",
        "Escribir un programa que pida al usuario un número entero y muestre por pantalla si es par o impar."
      ]
    },
    {
      "cell_type": "code",
      "execution_count": null,
      "metadata": {
        "id": "XBGWlPOM8JSm"
      },
      "outputs": [],
      "source": []
    },
    {
      "cell_type": "code",
      "execution_count": null,
      "metadata": {
        "id": "1K5pvFWk8JYU"
      },
      "outputs": [],
      "source": []
    },
    {
      "cell_type": "markdown",
      "metadata": {
        "id": "F0WvIW9q8Jht"
      },
      "source": [
        "# Ejercicio 9 - CONDICIONALES\n",
        "\n",
        "Para tributar un determinado impuesto se debe ser mayor de 16 años y tener unos ingresos iguales o superiores a 1000 € mensuales. Escribir un programa que pregunte al usuario su edad y sus ingresos mensuales y muestre por pantalla si el usuario tiene que tributar o no."
      ]
    },
    {
      "cell_type": "code",
      "execution_count": null,
      "metadata": {
        "id": "Exp74ghG8Oe1"
      },
      "outputs": [],
      "source": []
    },
    {
      "cell_type": "code",
      "execution_count": null,
      "metadata": {
        "id": "82UdN---8OlY"
      },
      "outputs": [],
      "source": []
    },
    {
      "cell_type": "markdown",
      "metadata": {
        "id": "q3MApV2l8OzU"
      },
      "source": [
        "## Ejercicio 10 - CONDICIONALES\n",
        "\n",
        "Los tramos impositivos para la declaración de la renta en un determinado país son los siguientes:\n",
        "\n",
        "|         Renta          | Tipo impositivo |\n",
        "| :--------------------: | :-------------: |\n",
        "|    Menos de 10000€     |       5%        |\n",
        "| Entre 10000€ y 20000€  |       15%       |\n",
        "| Entre 20001€ y 35000€  |       20%       |\n",
        "| Entre 35001€ y 60000€  |       30%       |\n",
        "|     Más de 60000€      |       45%       |\n",
        "\n",
        "Escribir un programa que pregunte al usuario su renta anual y muestre por pantalla lo que tiene que pagar."
      ]
    },
    {
      "cell_type": "code",
      "execution_count": null,
      "metadata": {
        "id": "qHCst6sn8bWB"
      },
      "outputs": [],
      "source": []
    },
    {
      "cell_type": "code",
      "execution_count": null,
      "metadata": {
        "id": "u3Uk8ycRtm0n"
      },
      "outputs": [],
      "source": []
    },
    {
      "cell_type": "code",
      "execution_count": null,
      "metadata": {
        "id": "7QWHbVEP8bfu"
      },
      "outputs": [],
      "source": []
    },
    {
      "cell_type": "markdown",
      "metadata": {
        "id": "1CBP2ZBz8epU"
      },
      "source": [
        "## Ejercicio 11 - CONDICIONALES\n",
        "\n",
        "En una determinada empresa, sus empleados son evaluados al final de cada año. Los puntos que pueden obtener en la evaluación comienzan en 0.0 y pueden ir aumentando, traduciéndose en mejores beneficios.\n",
        "Los puntos que pueden conseguir los empleados pueden ser 0.0, 0.4. o 0.6, pero no valores intermedios entre las cifras mencionadas.\n",
        "A continuación se muestra una tabla con los niveles correspondientes a cada puntuación.\n",
        "La cantidad de dinero conseguida en cada nivel es de 2.400€ multiplicada por la puntuación del nivel.\n",
        "\n",
        "|    Nivel    | Puntuación |\n",
        "| :---------: | :--------: |\n",
        "| Inaceptable |    0.0     |\n",
        "|  Aceptable  |    0.4     |\n",
        "|  Meritorio  |    0.6     |\n",
        "\n",
        "Escribir un programa que lea la puntuación del usuario e indique su nivel de rendimiento, así como la cantidad de dinero que recibirá el usuario."
      ]
    },
    {
      "cell_type": "code",
      "execution_count": null,
      "metadata": {
        "id": "QNSaqOC28jsj"
      },
      "outputs": [],
      "source": []
    },
    {
      "cell_type": "code",
      "execution_count": null,
      "metadata": {
        "id": "Eicp0MFT8jzg"
      },
      "outputs": [],
      "source": []
    },
    {
      "cell_type": "markdown",
      "metadata": {
        "id": "i-5nDgDv8zHv"
      },
      "source": [
        "## Ejercicio 12 - CONDICIONALES\n",
        "\n",
        "\n",
        "La pizzería Bella Napoli ofrece pizzas vegetarianas y no vegetarianas a sus clientes.\n",
        "Los ingredientes para cada tipo de pizza aparecen a continuación.\n",
        "\n",
        "- Ingredientes vegetarianos: Pimiento y tofu.\n",
        "- Ingredientes no vegetarianos: Peperoni, Jamón y Salmón.\n",
        "\n",
        "Escribir un programa que pregunte al usuario si quiere una pizza vegetariana o no, y en función de su respuesta le muestre un menú con los ingredientes disponibles para que elija.\n",
        "Solo se puede eligir un ingrediente además de la mozzarella y el tomate que están en todas la pizzas.\n",
        "Al final se debe mostrar por pantalla si la pizza elegida es vegetariana o no y todos los ingredientes que lleva."
      ]
    },
    {
      "cell_type": "code",
      "execution_count": null,
      "metadata": {
        "id": "Rp_jHcoO80Ft"
      },
      "outputs": [],
      "source": []
    },
    {
      "cell_type": "code",
      "execution_count": null,
      "metadata": {
        "id": "FRcwtf8H80NT"
      },
      "outputs": [],
      "source": []
    },
    {
      "cell_type": "markdown",
      "metadata": {
        "id": "3RxIm7iW-Fb7"
      },
      "source": [
        "## Ejercicio 13 - BUCLES\n",
        "\n",
        "Escribir un programa que pida al usuario una palabra y la muestre por pantalla 10 veces."
      ]
    },
    {
      "cell_type": "code",
      "execution_count": null,
      "metadata": {
        "id": "ZIJJi9Us-KW3"
      },
      "outputs": [],
      "source": []
    },
    {
      "cell_type": "code",
      "execution_count": null,
      "metadata": {
        "id": "eQliztgv-KdM"
      },
      "outputs": [],
      "source": []
    },
    {
      "cell_type": "markdown",
      "metadata": {
        "id": "YVzbW9j3-Kwc"
      },
      "source": [
        "## Ejercicio 14 - BUCLES\n",
        "\n",
        "Escribir un programa que pregunte al usuario su edad y muestre por pantalla todos los años que ha cumplido (desde 1 hasta su edad)."
      ]
    },
    {
      "cell_type": "code",
      "execution_count": null,
      "metadata": {
        "id": "rbUPn2N0-PLX"
      },
      "outputs": [],
      "source": []
    },
    {
      "cell_type": "code",
      "execution_count": null,
      "metadata": {
        "id": "l6AgjH-c-PSK"
      },
      "outputs": [],
      "source": []
    },
    {
      "cell_type": "markdown",
      "metadata": {
        "id": "PWJGd2A6-Pbc"
      },
      "source": [
        "## Ejercicio 15 - BUCLES\n",
        "\n",
        "Escribir un programa que pida al usuario un número entero positivo y muestre por pantalla todos los números impares desde 1 hasta ese número separados por comas."
      ]
    },
    {
      "cell_type": "code",
      "execution_count": null,
      "metadata": {
        "id": "Hdew22j9-UpG"
      },
      "outputs": [],
      "source": []
    },
    {
      "cell_type": "code",
      "execution_count": null,
      "metadata": {
        "id": "O70FV_6r-Uw4"
      },
      "outputs": [],
      "source": []
    },
    {
      "cell_type": "markdown",
      "metadata": {
        "id": "qfKkLzdp-U7I"
      },
      "source": [
        "## Ejercicio 16 - BUCLES + CONDICIONALES\n",
        "\n",
        "Escribir un programa que almacene la cadena de caracteres contraseña en una variable, pregunte al usuario por la contraseña hasta que introduzca la contraseña correcta."
      ]
    },
    {
      "cell_type": "code",
      "execution_count": null,
      "metadata": {
        "id": "SkRkZFeb-aw0"
      },
      "outputs": [],
      "source": []
    },
    {
      "cell_type": "code",
      "execution_count": null,
      "metadata": {
        "id": "VglgIqZa-a5R"
      },
      "outputs": [],
      "source": []
    },
    {
      "cell_type": "markdown",
      "metadata": {
        "id": "B327ZCNE-bB9"
      },
      "source": [
        "## Ejercicio 17 - BUCLES\n",
        "\n",
        "Escribir un programa que muestre el eco = echo de todo lo que el usuario introduzca hasta que el usuario escriba “salir” que terminará."
      ]
    },
    {
      "cell_type": "code",
      "execution_count": null,
      "metadata": {
        "id": "f5DbMG9r-jyU"
      },
      "outputs": [],
      "source": []
    },
    {
      "cell_type": "code",
      "execution_count": null,
      "metadata": {
        "id": "vfzGNMct-j1M"
      },
      "outputs": [],
      "source": []
    },
    {
      "cell_type": "markdown",
      "metadata": {
        "id": "006JUaC6-tM0"
      },
      "source": [
        "## EJERCICIO FINAL\n",
        "\n",
        "Una empresa desarrolladora de Software ha puesto a la venta licencias de su programa de edición de videos \"Video Edit 2.0\" a los siguientes costos:\n",
        "\n",
        "\n",
        "|    Licencia    | Costos |\n",
        "| :---------: | :--------: |\n",
        "| Cobre |    $510     |\n",
        "|  Bronze  |    1500     |\n",
        "|  Silver  |    3100     |\n",
        "|  Gold  |    4500     |\n",
        "\n",
        "\n",
        "Diseñe un programa que permita ingresar por cada venta el tipo de licencia y la cantidad de licencias, y muestre luego cada venta:\n",
        "\n",
        "* El importe a pagar por la venta efectuada.\n",
        "* El importe total recaudado por cada tipo de licencia.\n",
        "* La cantidad de licencias vendidas por cada tipo de licencia.\n",
        "* La cantidad de ventas por cada tipo de licencia."
      ]
    },
    {
      "cell_type": "code",
      "source": [],
      "metadata": {
        "id": "Lwi7pVIjWNSE"
      },
      "execution_count": null,
      "outputs": []
    },
    {
      "cell_type": "code",
      "execution_count": null,
      "metadata": {
        "id": "lo8UJZ0q_Se9"
      },
      "outputs": [],
      "source": []
    },
    {
      "cell_type": "code",
      "source": [],
      "metadata": {
        "id": "j1vapam6MxG9"
      },
      "execution_count": null,
      "outputs": []
    },
    {
      "cell_type": "code",
      "execution_count": null,
      "metadata": {
        "id": "HwlyZ1os_Sl6"
      },
      "outputs": [],
      "source": []
    }
  ],
  "metadata": {
    "colab": {
      "provenance": [],
      "include_colab_link": true
    },
    "kernelspec": {
      "display_name": "Python 3",
      "name": "python3"
    },
    "language_info": {
      "name": "python"
    }
  },
  "nbformat": 4,
  "nbformat_minor": 0
}