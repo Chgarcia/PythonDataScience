{
  "cells": [
    {
      "cell_type": "markdown",
      "metadata": {
        "id": "view-in-github",
        "colab_type": "text"
      },
      "source": [
        "<a href=\"https://colab.research.google.com/github/Chgarcia/PythonDataScience/blob/main/Sesion_5_Estructura_de_datos.ipynb\" target=\"_parent\"><img src=\"https://colab.research.google.com/assets/colab-badge.svg\" alt=\"Open In Colab\"/></a>"
      ]
    },
    {
      "cell_type": "markdown",
      "metadata": {
        "id": "0LR1AC_bh7BL"
      },
      "source": [
        "# <center> PYTHON - Estructura de datos </center>\n"
      ]
    },
    {
      "cell_type": "code",
      "source": [],
      "metadata": {
        "id": "EHkrjktoVHma"
      },
      "execution_count": null,
      "outputs": []
    },
    {
      "cell_type": "markdown",
      "source": [
        "# I. Listas\n",
        "Una lista es una secuencias ordenadas de objetos de distintos tipos [numero, letra, flotante, fecha, etc].\n",
        "\n",
        "Se construyen poniendo los elementos entre corchetes [ ] separados por comas.\n",
        "\n",
        "Se caracterizan por:\n",
        "\n",
        "* Tienen orden.\n",
        "* Pueden contener elementos de distintos tipos.\n",
        "* Son **mutables**, es decir, pueden alterarse durante la ejecución de un programa."
      ],
      "metadata": {
        "id": "IR2755AYkY30"
      }
    },
    {
      "cell_type": "code",
      "execution_count": null,
      "metadata": {
        "id": "dZMsikakeNRr"
      },
      "outputs": [],
      "source": [
        "#Una lista puede ir incrementando si un progama se lo pide.\n",
        "#iniciar una lista\n",
        "[]"
      ]
    },
    {
      "cell_type": "code",
      "execution_count": null,
      "metadata": {
        "id": "dsPP5bYiiN30"
      },
      "outputs": [],
      "source": [
        "# Nos permite identificar cual es el tipo en la lista\n",
        "type([])"
      ]
    },
    {
      "cell_type": "code",
      "execution_count": null,
      "metadata": {
        "id": "KOo_EoAliP3M"
      },
      "outputs": [],
      "source": [
        "#Los valores ingresados en la lista pueden contener disintos tipos de datos\n",
        "[5, \"dos\", 'dany', True, 10.3]"
      ]
    },
    {
      "cell_type": "code",
      "execution_count": null,
      "metadata": {
        "id": "gnbT-la-iR8h"
      },
      "outputs": [],
      "source": [
        "#Creando una sub lista o lista anidada dentro de una lina\n",
        "[5, [9, 3], 7]"
      ]
    },
    {
      "cell_type": "markdown",
      "metadata": {
        "id": "aHND6JAbiX0s"
      },
      "source": [
        "## Creación de listas mediante la función list()\n",
        "Otra forma de crear listas es mediante la función **list()**.\n",
        "\n",
        "list(c) : Crea una lista con los elementos de la secuencia o colección c.\n",
        "Se pueden indicar los elementos separados por comas, mediante una cadena, o mediante una colección de elementos iterable."
      ]
    },
    {
      "cell_type": "code",
      "execution_count": null,
      "metadata": {
        "id": "olA2t-dEievL"
      },
      "outputs": [],
      "source": [
        "#Crear una lista utilizando la siguiente funcion\n",
        "list()"
      ]
    },
    {
      "cell_type": "code",
      "execution_count": null,
      "metadata": {
        "id": "CNSD_IbB45WF"
      },
      "outputs": [],
      "source": [
        "#Es iterable, que quiere decir que podemos indicarle una posicion en al que quieremos que nos devuelva la informacion\n",
        "\"hola mundo\"[5]"
      ]
    },
    {
      "cell_type": "code",
      "execution_count": null,
      "metadata": {
        "id": "EE6s1HkT5Ehz"
      },
      "outputs": [],
      "source": [
        "\"hola mundo\"[5:9+1]"
      ]
    },
    {
      "cell_type": "code",
      "execution_count": null,
      "metadata": {
        "id": "WfIjbtxW5JM-"
      },
      "outputs": [],
      "source": [
        "#0123456789\n",
        "\"hola mundo\"[4:9+1]"
      ]
    },
    {
      "cell_type": "code",
      "execution_count": null,
      "metadata": {
        "id": "5VDukAVK5XtH"
      },
      "outputs": [],
      "source": [
        "#Uso de el casteo, a partir de un texto podemos crear una lista\n",
        "lista = list(('hola mundo','dany'))\n",
        "lista"
      ]
    },
    {
      "cell_type": "code",
      "execution_count": null,
      "metadata": {
        "id": "aAdJnlvjnOsF"
      },
      "outputs": [],
      "source": [
        "lista[0:4]"
      ]
    },
    {
      "cell_type": "code",
      "execution_count": null,
      "metadata": {
        "id": "OanvT5MLcTob"
      },
      "outputs": [],
      "source": [
        "lista_1 = ['h','o','l','a']\n",
        "lista_1"
      ]
    },
    {
      "cell_type": "code",
      "execution_count": null,
      "metadata": {
        "id": "OB_DxCCgcCeK"
      },
      "outputs": [],
      "source": [
        "lista[-5:]"
      ]
    },
    {
      "cell_type": "markdown",
      "metadata": {
        "id": "zQjkk4IFimyL"
      },
      "source": [
        "## Acceso a los elementos de una lista\n",
        "Se utilizan los mismos operadores de acceso que para cadenas de caracteres.\n",
        "\n",
        "* l[i] : Devuelve el elemento de la lista l con el índice i.\n",
        " El índice del primer elemento de la lista es 0."
      ]
    },
    {
      "cell_type": "code",
      "execution_count": null,
      "metadata": {
        "id": "Xj2LJP8m53vs"
      },
      "outputs": [],
      "source": [
        "#Forma 1, inicializando una lista, que luego vamos a utilizar\n",
        "lstFruta = []"
      ]
    },
    {
      "cell_type": "code",
      "execution_count": null,
      "metadata": {
        "id": "M9obmsAZ58aN"
      },
      "outputs": [],
      "source": [
        "#forma 2, inicializando una lista, que luego vamos a utilizar\n",
        "lstFrutas = list()"
      ]
    },
    {
      "cell_type": "code",
      "execution_count": null,
      "metadata": {
        "id": "BKXIAZIHisux"
      },
      "outputs": [],
      "source": [
        "a = [400, 270, 152,270, 360,420]"
      ]
    },
    {
      "cell_type": "code",
      "execution_count": null,
      "metadata": {
        "id": "khUV4LG85zTs"
      },
      "outputs": [],
      "source": [
        "a"
      ]
    },
    {
      "cell_type": "code",
      "execution_count": null,
      "metadata": {
        "id": "Mp4u26zDixc-"
      },
      "outputs": [],
      "source": [
        "a[5]"
      ]
    },
    {
      "cell_type": "code",
      "execution_count": null,
      "metadata": {
        "id": "6dTp4pMxiuD8"
      },
      "outputs": [],
      "source": [
        "a[0]"
      ]
    },
    {
      "cell_type": "code",
      "execution_count": null,
      "metadata": {
        "id": "8HWHFmckf1Ep"
      },
      "outputs": [],
      "source": [
        "a[-2]"
      ]
    },
    {
      "cell_type": "code",
      "execution_count": null,
      "metadata": {
        "id": "YgXnDVb6izd_"
      },
      "outputs": [],
      "source": [
        "# Me va a devolver informacion si/no\n",
        "a[6]"
      ]
    },
    {
      "cell_type": "markdown",
      "metadata": {
        "id": "IGTRhVQBi5LU"
      },
      "source": [
        "### Sublistas\n",
        "* l[i:j:k] : Devuelve la sublista desde el elemento de l con el índice i hasta el elemento anterior al índice j, tomando elementos cada k."
      ]
    },
    {
      "cell_type": "code",
      "execution_count": null,
      "metadata": {
        "id": "DbeGghtOi9p_"
      },
      "outputs": [],
      "source": [
        "a = [400, 270, 152,270, 360,420]"
      ]
    },
    {
      "cell_type": "markdown",
      "metadata": {
        "id": "sV5pS3DggZN4"
      },
      "source": [
        "a[pos_ini:pos_final+1]"
      ]
    },
    {
      "cell_type": "code",
      "execution_count": null,
      "metadata": {
        "id": "Z-xGpK5LilLN"
      },
      "outputs": [],
      "source": [
        "#El indice 6 no existe\n",
        "a[3:5+1]"
      ]
    },
    {
      "cell_type": "code",
      "execution_count": null,
      "metadata": {
        "id": "lfmndYQvjHri"
      },
      "outputs": [],
      "source": [
        "#nos va a devolver la informacion de la lista, de todo lo que este hasta e final\n",
        "a[3:]"
      ]
    },
    {
      "cell_type": "code",
      "source": [
        "a = [400, 200 ,420, [270, 360]]\n",
        "a"
      ],
      "metadata": {
        "id": "4OxcbHwLebdO"
      },
      "execution_count": null,
      "outputs": []
    },
    {
      "cell_type": "code",
      "source": [
        "#Accediendo al indice del numero 270\n",
        "a[3][1]"
      ],
      "metadata": {
        "id": "bUgqd7zbedwa"
      },
      "execution_count": null,
      "outputs": []
    },
    {
      "cell_type": "code",
      "execution_count": null,
      "metadata": {
        "id": "T_d0_jBfdlYN"
      },
      "outputs": [],
      "source": [
        "a = [400, [270, [20,34],[45,152, [900,420]],270, 360],420]"
      ]
    },
    {
      "cell_type": "code",
      "execution_count": null,
      "metadata": {
        "id": "7ne104TRdrdE"
      },
      "outputs": [],
      "source": [
        "# acceder al valor = 420\n",
        "# a[indice lista 1][indice lista 2][indice lista 3]\n",
        "a[1][2][2][1]"
      ]
    },
    {
      "cell_type": "code",
      "source": [
        "a = [400, [20,16,[12,10]],[270, [20,34,[8,10]],[45,[9,991],[900,[20,92],420]],270, 360],420]"
      ],
      "metadata": {
        "id": "bE3PbE7MhdiT"
      },
      "execution_count": null,
      "outputs": []
    },
    {
      "cell_type": "code",
      "source": [
        "# acceder al valor = 92\n",
        "# a[indice lista 1][indice lista 2][indice lista 3]\n",
        "a[2][2][2][1][1]"
      ],
      "metadata": {
        "id": "zMfDs4wnhfms"
      },
      "execution_count": null,
      "outputs": []
    },
    {
      "cell_type": "code",
      "source": [
        "a = [400, [20,16,[12,10]],[270,[20,16,[12,[20,16,[12,1992]],309]],[20,34,[8,10]],[20,92],420]]"
      ],
      "metadata": {
        "id": "CA6TrDQjhzCv"
      },
      "execution_count": null,
      "outputs": []
    },
    {
      "cell_type": "code",
      "source": [
        "# acceder al valor = 309\n",
        "# a[indice lista 1][indice lista 2][indice lista 3]\n",
        "a[2][1][2][2]"
      ],
      "metadata": {
        "id": "fYnViOdIiBoy"
      },
      "execution_count": null,
      "outputs": []
    },
    {
      "cell_type": "markdown",
      "metadata": {
        "id": "STbHzBiLjLVl"
      },
      "source": [
        "## Operaciones que NO modifican una lista\n",
        "\n",
        "> Agregar bloque entrecomillado\n",
        "\n",
        "\n",
        "* len(l) : Devuelve el número de elementos de la lista l.\n",
        "* min(l) : Devuelve el mínimo elemento de la lista l siempre que los datos sean comparables.\n",
        "* max(l) : Devuelve el máximo elemento de la lista l * siempre que los datos sean comparables.\n",
        "* sum(l) : Devuelve la suma de los elementos de la lista l, siempre que los datos se puedan sumar.\n",
        "* dato in l : Devuelve True si el dato dato pertenece a la lista l y False en caso contrario.\n",
        "* l.index(dato) : Devuelve la posición que ocupa en la lista l el primer elemento con valor dato.\n",
        "* l.count(dato) : Devuelve el número de veces que el valor dato está contenido en la lista l.\n",
        "* all(l) : Devuelve True **si todos** los elementos de la lista l son True y False en caso contrario.\n",
        "* any(l) : Devuelve True **si algún** elemento de la lista l es True y False en caso contrario."
      ]
    },
    {
      "cell_type": "code",
      "execution_count": null,
      "metadata": {
        "id": "kqxS-5Wsjdt5"
      },
      "outputs": [],
      "source": [
        "list_prueba = [400,270, 152,270,120,420]"
      ]
    },
    {
      "cell_type": "code",
      "execution_count": null,
      "metadata": {
        "id": "6V1L8KXCjg_c"
      },
      "outputs": [],
      "source": [
        "# Me va a devolver el tamanio, cantidad de datos que tiene una lista\n",
        "len(list_prueba)"
      ]
    },
    {
      "cell_type": "code",
      "execution_count": null,
      "metadata": {
        "id": "eXcWzp-UjirK"
      },
      "outputs": [],
      "source": [
        "#valor minimo, siempre y cuando los valores sean comparables\n",
        "min(list_prueba)"
      ]
    },
    {
      "cell_type": "code",
      "execution_count": null,
      "metadata": {
        "id": "Tj94UqBvsrkv"
      },
      "outputs": [],
      "source": [
        "#valor maximo, siempre y cuando los valores sean comparables\n",
        "max(list_prueba)"
      ]
    },
    {
      "cell_type": "code",
      "source": [
        "#valor maximo, siempre y cuando los valores sean comparables\n",
        "sum(list_prueba)"
      ],
      "metadata": {
        "id": "GG1EYmnvkxta"
      },
      "execution_count": null,
      "outputs": []
    },
    {
      "cell_type": "code",
      "execution_count": null,
      "metadata": {
        "id": "i9F9mnF97gM-"
      },
      "outputs": [],
      "source": [
        "#Creamos una variable con una lista de datos\n",
        "# Mayuculas\n",
        "# Minusculas\n",
        "list_cadena = ['dany','david','Daniel','Dario']\n",
        "list_cadena\n",
        "\n",
        "# Python no los diferencia, asi sean mayusculas o minuscula\n",
        "# abcdefghijklmnopqrstuvwxyzABCDEFGHIJKLMNOPQRSTUVWXYZ"
      ]
    },
    {
      "cell_type": "code",
      "execution_count": null,
      "metadata": {
        "id": "7MU7FXDh7nbS"
      },
      "outputs": [],
      "source": [
        "min(list_cadena)"
      ]
    },
    {
      "cell_type": "code",
      "source": [
        "max(list_cadena)"
      ],
      "metadata": {
        "id": "pJyU2m5Lla0N"
      },
      "execution_count": null,
      "outputs": []
    },
    {
      "cell_type": "code",
      "execution_count": null,
      "metadata": {
        "id": "8gxmFxWXjj7V"
      },
      "outputs": [],
      "source": [
        "#Valor maximo\n",
        "list_numeros = [400, [270, 152, [360,420]],270, 360,420]"
      ]
    },
    {
      "cell_type": "code",
      "execution_count": null,
      "metadata": {
        "id": "jWhHF1F_uS7d"
      },
      "outputs": [],
      "source": [
        "min(list_numeros)"
      ]
    },
    {
      "cell_type": "code",
      "execution_count": null,
      "metadata": {
        "id": "4jVuTEUQM4aZ"
      },
      "outputs": [],
      "source": [
        "sum(list_numeros)"
      ]
    },
    {
      "cell_type": "code",
      "execution_count": null,
      "metadata": {
        "id": "m3cmlpmXjmtS"
      },
      "outputs": [],
      "source": [
        "a = [400, 270, 152,270, 360,420]\n",
        "\n",
        "sum(a)"
      ]
    },
    {
      "cell_type": "code",
      "execution_count": null,
      "metadata": {
        "id": "VVxpsbVT9b8k"
      },
      "outputs": [],
      "source": [
        "400 in a"
      ]
    },
    {
      "cell_type": "code",
      "execution_count": null,
      "metadata": {
        "id": "IGM-wyOy9kki"
      },
      "outputs": [],
      "source": [
        "153 in a"
      ]
    },
    {
      "cell_type": "code",
      "execution_count": null,
      "metadata": {
        "id": "dWVnm0la9ope"
      },
      "outputs": [],
      "source": [
        "#Creamos una lista anidada, y trabajamos con sus datos\n",
        "b = [\"dany\",False,[12, -5.256,[4,'miguel',[3.1415,'manuel',['dany']],[True,34]],'piero']]"
      ]
    },
    {
      "cell_type": "code",
      "execution_count": null,
      "metadata": {
        "id": "GA75SHyeh6BN"
      },
      "outputs": [],
      "source": [
        "#Ejercicio, accediendo a elementos de una cadena= 3.1415\n",
        "b[2][2][2][0]"
      ]
    },
    {
      "cell_type": "code",
      "execution_count": null,
      "metadata": {
        "id": "MYXfAwnxiK0Q"
      },
      "outputs": [],
      "source": [
        "[12, -5.256,[4,'miguel',[3.1415,'manuel',['dany']],[False,34]],'piero'] in b"
      ]
    },
    {
      "cell_type": "code",
      "execution_count": null,
      "metadata": {
        "id": "EC9YJ002iicD"
      },
      "outputs": [],
      "source": [
        "False in b"
      ]
    },
    {
      "cell_type": "code",
      "execution_count": null,
      "metadata": {
        "id": "XnmGwXcxjpfK"
      },
      "outputs": [],
      "source": [
        "a = [270, 400, 152, 270, 360,270]"
      ]
    },
    {
      "cell_type": "code",
      "source": [
        "a.index(270)"
      ],
      "metadata": {
        "id": "ziVDh_FNmiX2"
      },
      "execution_count": null,
      "outputs": []
    },
    {
      "cell_type": "code",
      "execution_count": null,
      "metadata": {
        "id": "kcdDit6mjr3w"
      },
      "outputs": [],
      "source": [
        "#a = [400, 270, 152, 270, 360,420]\n",
        "a.count(270)"
      ]
    },
    {
      "cell_type": "code",
      "execution_count": null,
      "metadata": {
        "id": "kMCIk2MZx54w"
      },
      "outputs": [],
      "source": [
        "d = [\"dany\",False,[12, -5.256,[4,'miguel'],'piero'],'dany']\n",
        "d"
      ]
    },
    {
      "cell_type": "code",
      "source": [
        "#str(d).replace('[','')\n",
        "#str(d).replace('[','').replace(']','')\n",
        "#str(d).replace('[','').replace(']','').replace(\"'\",'')\n",
        "str(d).replace('[','').replace(']','').replace(\"'\",'').split(',')"
      ],
      "metadata": {
        "id": "7VWGrsssRdvN"
      },
      "execution_count": null,
      "outputs": []
    },
    {
      "cell_type": "code",
      "source": [
        "str(d).replace('[','')\n",
        "str(d).replace('[','').replace(']','')\n",
        "str(d).replace('[','').replace(']','').replace(\"'\",'')\n",
        "str(d).replace('[','').replace(']','').replace(\"'\",'').split(',')"
      ],
      "metadata": {
        "id": "scdt-F31nIk4"
      },
      "execution_count": null,
      "outputs": []
    },
    {
      "cell_type": "code",
      "execution_count": null,
      "metadata": {
        "id": "nim2BlOKjo64"
      },
      "outputs": [],
      "source": [
        "# Estandarizando los valores de una lista con sub listas\n",
        "#str(d).replace('[','')\n",
        "#str(d).replace('[','').replace(']','')\n",
        "#str(d).replace('[','').replace(']','').replace(\"'\",'')\n",
        "#str(d).replace('[','').replace(']','').replace(\"'\",'').split(',')"
      ]
    },
    {
      "cell_type": "markdown",
      "metadata": {
        "id": "5SwGm9MMjhPL"
      },
      "source": [
        "## Operaciones que SI modifican una lista\n",
        "* l1 + l2 : Crea una nueva lista concatenan los elementos de la listas l1 y l2.\n",
        "* l.append(dato) : Añade dato al **final** de la lista l.\n",
        "* l.extend(sequencia) : Añade los datos de sequencia al final de la lista l.\n",
        "* l.insert(índice, dato) : Inserta dato en la posición índice de la lista l y desplaza los elementos una posición a partir de la posición índice.\n",
        "* l.remove(dato) : Elimina el primer elemento con valor dato en la lista l y desplaza los que están por detrás de él una posición hacia delante.\n",
        "* l.sort() : Ordena los elementos de la lista l de acuerdo al orden predefinido, siempre que los elementos sean comparables.\n",
        "* l.reverse() : invierte el orden de los elementos de la lista l."
      ]
    },
    {
      "cell_type": "code",
      "execution_count": null,
      "metadata": {
        "id": "YEpdRdkfjm8e"
      },
      "outputs": [],
      "source": [
        "lista1 = [1, 3]\n",
        "lista2 = [2 , 4, 6]"
      ]
    },
    {
      "cell_type": "code",
      "execution_count": null,
      "metadata": {
        "id": "k-6ykQOZlX_Y"
      },
      "outputs": [],
      "source": [
        "#Creamos una nueva lista concatenandolos\n",
        "lista3 = lista1 + lista2\n",
        "lista3"
      ]
    },
    {
      "cell_type": "code",
      "execution_count": null,
      "metadata": {
        "id": "mLAyiLYZjr5W"
      },
      "outputs": [],
      "source": [
        "#Me ha permitido agregar valores *al final* de la lista\n",
        "lista3.append('Dany')\n",
        "lista3"
      ]
    },
    {
      "cell_type": "code",
      "execution_count": null,
      "metadata": {
        "id": "wfrAzuGVlyqT"
      },
      "outputs": [],
      "source": [
        "lista3.append([1,3])\n",
        "lista3"
      ]
    },
    {
      "cell_type": "code",
      "source": [
        "lista1"
      ],
      "metadata": {
        "id": "IaXK7Hvw2DXy"
      },
      "execution_count": null,
      "outputs": []
    },
    {
      "cell_type": "code",
      "source": [
        "lista2"
      ],
      "metadata": {
        "id": "xu2haRAD2HR8"
      },
      "execution_count": null,
      "outputs": []
    },
    {
      "cell_type": "code",
      "source": [
        "lista1.extend(lista2)"
      ],
      "metadata": {
        "id": "T1_v6QE-o_rW"
      },
      "execution_count": null,
      "outputs": []
    },
    {
      "cell_type": "code",
      "source": [
        "lista1"
      ],
      "metadata": {
        "id": "ncSMaswu2Lug"
      },
      "execution_count": null,
      "outputs": []
    },
    {
      "cell_type": "code",
      "source": [
        "lista3"
      ],
      "metadata": {
        "id": "hT25bQfhpDkA"
      },
      "execution_count": null,
      "outputs": []
    },
    {
      "cell_type": "code",
      "execution_count": null,
      "metadata": {
        "id": "cw8Kyekml6n0"
      },
      "outputs": [],
      "source": [
        "lista3.remove([1,3])\n",
        "lista3"
      ]
    },
    {
      "cell_type": "code",
      "execution_count": null,
      "metadata": {
        "id": "h_8c-wouVhyB"
      },
      "outputs": [],
      "source": [
        "lista3.remove('Dany')\n",
        "lista3"
      ]
    },
    {
      "cell_type": "code",
      "execution_count": null,
      "metadata": {
        "id": "eMpn8t7Zjtxp"
      },
      "outputs": [],
      "source": [
        "lista3.remove('churapa')\n",
        "lista3"
      ]
    },
    {
      "cell_type": "code",
      "execution_count": null,
      "metadata": {
        "id": "1wELdShGjwpz"
      },
      "outputs": [],
      "source": [
        "# Te permite agregar informacion (indice,valor)\n",
        "lista3.insert(1, 'churapa')\n",
        "lista3"
      ]
    },
    {
      "cell_type": "code",
      "source": [
        "listaPrueba = [1992, 1,[ 3, 2], 4]"
      ],
      "metadata": {
        "id": "qfggJ89c2jj0"
      },
      "execution_count": null,
      "outputs": []
    },
    {
      "cell_type": "code",
      "source": [
        "listaPrueba[2].append('Dany')"
      ],
      "metadata": {
        "id": "247Exohy2qCW"
      },
      "execution_count": null,
      "outputs": []
    },
    {
      "cell_type": "code",
      "source": [
        "listaPrueba"
      ],
      "metadata": {
        "id": "e4Wdfj5W2uu5"
      },
      "execution_count": null,
      "outputs": []
    },
    {
      "cell_type": "code",
      "source": [
        "listaPrueba[2].insert(1,'Marcos')"
      ],
      "metadata": {
        "id": "RDG8i17o2zR7"
      },
      "execution_count": null,
      "outputs": []
    },
    {
      "cell_type": "code",
      "source": [
        "listaPrueba"
      ],
      "metadata": {
        "id": "FKyBwe0U27ae"
      },
      "execution_count": null,
      "outputs": []
    },
    {
      "cell_type": "code",
      "source": [
        "lista3"
      ],
      "metadata": {
        "id": "0CjazJSl3EBQ"
      },
      "execution_count": null,
      "outputs": []
    },
    {
      "cell_type": "code",
      "execution_count": null,
      "metadata": {
        "id": "qM8OWyOej596"
      },
      "outputs": [],
      "source": [
        "lista3.sort()\n",
        "lista3"
      ]
    },
    {
      "cell_type": "code",
      "execution_count": null,
      "metadata": {
        "id": "OLo4_1UD1xwH"
      },
      "outputs": [],
      "source": [
        "lista3.reverse()\n",
        "lista3"
      ]
    },
    {
      "cell_type": "code",
      "source": [
        "lista4=[\"dany\",\"Miguel\",\"carlos\",\"avion\",'A','Z']\n",
        "lista4.sort()\n",
        "lista4\n",
        "# Orden de cadenas [A-Z][a-z]"
      ],
      "metadata": {
        "id": "ZZjfU-pe3RVS"
      },
      "execution_count": null,
      "outputs": []
    },
    {
      "cell_type": "code",
      "execution_count": null,
      "metadata": {
        "id": "3nF3aQqFnLG2"
      },
      "outputs": [],
      "source": [
        "lista4=[\"dany\",\"miguel\",\"carlos\",\"avion\",'Dany','Miguel','A','Z']\n",
        "lista4.sort()\n",
        "lista4"
      ]
    },
    {
      "cell_type": "code",
      "execution_count": null,
      "metadata": {
        "id": "qx-Ck0u_2Fr6"
      },
      "outputs": [],
      "source": [
        "#lista4=[\"dany\",\"miguel\",\"carlos\",\"avion\",'dany']\n",
        "lista4.reverse()\n",
        "lista4"
      ]
    },
    {
      "cell_type": "code",
      "source": [
        "lista4.remove('dany')"
      ],
      "metadata": {
        "id": "RwWO1Easrw1P"
      },
      "execution_count": null,
      "outputs": []
    },
    {
      "cell_type": "code",
      "source": [
        "lista4"
      ],
      "metadata": {
        "id": "Ax1PXtp3sDxf"
      },
      "execution_count": null,
      "outputs": []
    },
    {
      "cell_type": "code",
      "source": [
        "lista4.index('Miguel')"
      ],
      "metadata": {
        "id": "VX4jUjy1r5QS"
      },
      "execution_count": null,
      "outputs": []
    },
    {
      "cell_type": "markdown",
      "metadata": {
        "id": "LKR6vK29dzoZ"
      },
      "source": [
        "# Copia de listas\n",
        "Existen dos formas de copiar listas:\n",
        "\n",
        "* Copia por referencia l1 = l2: Asocia la la variable l1 la misma lista que tiene asociada la variable l2, es decir, ambas variables apuntan a la misma dirección de memoria. Cualquier cambio que hagamos a través de l1 o l2 afectará a la misma lista.\n",
        "\n",
        "* Copia por valor l1 = list(l2): Crea una copia de la lista asociada a l2 en una dirección de memoria diferente y se la asocia a l1. Las variables apuntan a direcciones de memoria diferentes que contienen los mismos datos. Cualquier cambio que hagamos a través de l1 no afectará a la lista de l2 y viceversa."
      ]
    },
    {
      "cell_type": "code",
      "execution_count": null,
      "metadata": {
        "id": "ojp8SprWd5o-"
      },
      "outputs": [],
      "source": [
        "# Copiar referencia/espejo\n",
        "lista1 = [1, 2, 3]"
      ]
    },
    {
      "cell_type": "code",
      "execution_count": null,
      "metadata": {
        "id": "07FslmR1d5r1"
      },
      "outputs": [],
      "source": [
        "#Implicitamente, crea una copia referenciada.\n",
        "lista2 = lista1"
      ]
    },
    {
      "cell_type": "code",
      "execution_count": null,
      "metadata": {
        "id": "oyjUmj8Bd-sp"
      },
      "outputs": [],
      "source": [
        "print(lista1)\n",
        "print(lista2)"
      ]
    },
    {
      "cell_type": "code",
      "execution_count": null,
      "metadata": {
        "id": "ZuvAFfleeBgF"
      },
      "outputs": [],
      "source": [
        "lista2.remove(2)"
      ]
    },
    {
      "cell_type": "code",
      "execution_count": null,
      "metadata": {
        "id": "LQ6sS1SoeB-T"
      },
      "outputs": [],
      "source": [
        "print(lista1)\n",
        "print(lista2)"
      ]
    },
    {
      "cell_type": "code",
      "execution_count": null,
      "metadata": {
        "id": "OYGiZ0EceKQz"
      },
      "outputs": [],
      "source": [
        "# Copiamos lista\n",
        "# Copiar por valor\n",
        "lista1 = [4, 5, 6]\n",
        "lista2 = list(lista1)"
      ]
    },
    {
      "cell_type": "code",
      "execution_count": null,
      "metadata": {
        "id": "5FARuguIYE8K"
      },
      "outputs": [],
      "source": [
        "print(lista1)\n",
        "print(lista2)"
      ]
    },
    {
      "cell_type": "code",
      "execution_count": null,
      "metadata": {
        "id": "eIHPldlTePG7"
      },
      "outputs": [],
      "source": [
        "lista2.remove(6)"
      ]
    },
    {
      "cell_type": "code",
      "execution_count": null,
      "metadata": {
        "id": "3brL-80O3rOv"
      },
      "outputs": [],
      "source": [
        "print(lista1)\n",
        "print(lista2)"
      ]
    },
    {
      "cell_type": "markdown",
      "metadata": {
        "id": "pc89XHKXokGa"
      },
      "source": [
        "**en 10 minutos**\n",
        "Calcular promedio, min, max de un listado de notas:\n",
        "* Ingresa la cantidad de notas a trabajar\n",
        "* Ingresar las notas y las almacenaremos en una lista\n",
        "* Calcular lo solicitado"
      ]
    },
    {
      "cell_type": "code",
      "execution_count": null,
      "metadata": {
        "id": "c9hXs-rB-5Nx"
      },
      "outputs": [],
      "source": [
        "# 7:26\n",
        "cantidad_alumnos = int(input('Ingrese la cantidad de alumnos: '))\n",
        "lista_notas = [] #list()\n",
        "\n",
        "for iterante in range(cantidad_alumnos): #range(5) = (0,1,2,3,4)\n",
        "  nota = float(input(f'Ingrese la nota del alumno {iterante+1}: '))\n",
        "  lista_notas.append(nota)\n",
        "\n",
        "print(f'El promedio de {cantidad_alumnos} notas es:',sum(lista_notas)/cantidad_alumnos)\n",
        "print(f'La nota minima de {cantidad_alumnos} notas es:',min(lista_notas))\n",
        "print(f'La nota maxima de {cantidad_alumnos} notas es:',max(lista_notas))"
      ]
    },
    {
      "cell_type": "markdown",
      "metadata": {
        "id": "Rg-bog4mg0Gt"
      },
      "source": [
        "# II. Tuplas\n",
        "Una tupla es una secuencias ordenadas de objetos de distintos tipos.\n",
        "\n",
        "Se construyen poniendo los elementos entre paréntesis ( ) separados por comas.\n",
        "\n",
        "Se caracterizan por:\n",
        "\n",
        "* Tienen orden.\n",
        "* Pueden contener elementos de distintos tipos.\n",
        "* Son **inmutables es decir, NO pueden alterarse durante la ejecución de un programa**.\n",
        "* Se usan habitualmente para representar colecciones de datos una determinada estructura semántica, como por ejemplo un vector o una matriz."
      ]
    },
    {
      "cell_type": "code",
      "execution_count": null,
      "metadata": {
        "id": "vlzyRlUlg9Z3"
      },
      "outputs": [],
      "source": [
        "# Tupla vacía\n",
        "type(())"
      ]
    },
    {
      "cell_type": "code",
      "execution_count": null,
      "metadata": {
        "id": "PKt8mLsPx6Ty"
      },
      "outputs": [],
      "source": [
        "()"
      ]
    },
    {
      "cell_type": "code",
      "execution_count": null,
      "metadata": {
        "id": "dCi12NUmhFra"
      },
      "outputs": [],
      "source": [
        "# Tupla con elementos de distintos tipos\n",
        "(1, \"dos\", (True, 3.1415),True, 3.1415)"
      ]
    },
    {
      "cell_type": "markdown",
      "metadata": {
        "id": "jSUi0zIMhMEx"
      },
      "source": [
        "## Creación de tuplas mediante la función tuple()\n",
        "Otra forma de crear tuplas es mediante la función tuple().\n",
        "\n",
        "**tuple(c)** : Crea una tupla con los elementos de la secuencia o colección c.\n",
        "Se pueden indicar los elementos separados por comas, mediante una cadena, o mediante una colección de elementos iterable."
      ]
    },
    {
      "cell_type": "code",
      "execution_count": null,
      "metadata": {
        "id": "UyqS48hchQXf"
      },
      "outputs": [],
      "source": [
        "tuple()"
      ]
    },
    {
      "cell_type": "code",
      "execution_count": null,
      "metadata": {
        "id": "PO8OsUE2yNKL"
      },
      "outputs": [],
      "source": [
        "tuple((1,2,3,'Dany',True,3.1415))"
      ]
    },
    {
      "cell_type": "code",
      "execution_count": null,
      "metadata": {
        "id": "4b7hcacVhV3Z"
      },
      "outputs": [],
      "source": [
        "m = tuple([1, 2, 3])\n",
        "m"
      ]
    },
    {
      "cell_type": "code",
      "execution_count": null,
      "metadata": {
        "id": "nCLHVIs7boi7"
      },
      "outputs": [],
      "source": [
        "type(m)"
      ]
    },
    {
      "cell_type": "markdown",
      "metadata": {
        "id": "5ddkrVIghbWQ"
      },
      "source": [
        "## Operaciones con que NO MODIFICAN una tupla\n",
        "El acceso a los elementos de una tupla se realiza del mismo modo que en las listas. También se pueden obtener subtuplas de la misma manera que las sublistas.\n",
        "\n",
        "Las operaciones de listas que no modifican la lista también son aplicables a las tuplas.\n",
        "\n",
        "* len(l) : Devuelve el número de elementos de la tupla l.\n",
        "* min(l) : Devuelve el mínimo elemento de la tupla l siempre que los datos sean comparables.\n",
        "* max(l) : Devuelve el máximo elemento de la lista l * siempre que los datos sean comparables.\n",
        "* sum(l) : Devuelve la suma de los elementos de la lista l, siempre que los datos se puedan sumar.\n",
        "* dato in l : Devuelve True si el dato dato pertenece a la lista l y False en caso contrario.\n",
        "* l.index(dato) : Devuelve la posición que ocupa en la lista l el primer elemento con valor dato.\n",
        "* l.count(dato) : Devuelve el número de veces que el valor dato está contenido en la lista l.\n",
        "* all(l) : Devuelve True si todos los elementos de la lista l son True y False en caso contrario.\n",
        "* any(l) : Devuelve True si algún elemento de la lista l es True y False en caso contrario."
      ]
    },
    {
      "cell_type": "code",
      "execution_count": null,
      "metadata": {
        "id": "dj5ILW1Ehdst"
      },
      "outputs": [],
      "source": [
        "tupla_a = (1,2,3)"
      ]
    },
    {
      "cell_type": "code",
      "execution_count": null,
      "metadata": {
        "id": "5MjuZos-hgZz"
      },
      "outputs": [],
      "source": [
        "a[:1+1]"
      ]
    },
    {
      "cell_type": "code",
      "execution_count": null,
      "metadata": {
        "id": "hLDApBFnhh6V"
      },
      "outputs": [],
      "source": [
        "len(a)"
      ]
    },
    {
      "cell_type": "code",
      "execution_count": null,
      "metadata": {
        "id": "X4sJ179pCQ3R"
      },
      "outputs": [],
      "source": [
        "max(a)"
      ]
    },
    {
      "cell_type": "code",
      "source": [
        "min(a)"
      ],
      "metadata": {
        "id": "VkRYP1Mu-7as"
      },
      "execution_count": null,
      "outputs": []
    },
    {
      "cell_type": "code",
      "source": [
        "sum(a)"
      ],
      "metadata": {
        "id": "JjQHv20_ctWl"
      },
      "execution_count": null,
      "outputs": []
    },
    {
      "cell_type": "code",
      "execution_count": null,
      "metadata": {
        "id": "6ziJM-G3hkeV"
      },
      "outputs": [],
      "source": [
        "#tupla_a = (1,'dany',3)\n",
        "tupla_a.index('dany')"
      ]
    },
    {
      "cell_type": "code",
      "execution_count": null,
      "metadata": {
        "id": "-fkx6qYly0O_"
      },
      "outputs": [],
      "source": [
        "#concatenando una tupla\n",
        "a = (1,3,5,'Dany')\n",
        "b = (2,4,6)\n",
        "c = a + b"
      ]
    },
    {
      "cell_type": "code",
      "source": [
        "lista_prueba = [1,2,3,('dany','s'),100]\n",
        "lista_prueba"
      ],
      "metadata": {
        "id": "yyNJXB8cc-k5"
      },
      "execution_count": null,
      "outputs": []
    },
    {
      "cell_type": "code",
      "source": [
        "tupla_prueba = (1,2,3,['dany','s'],100)\n",
        "tupla_prueba"
      ],
      "metadata": {
        "id": "3RiTq3QRdGzz"
      },
      "execution_count": null,
      "outputs": []
    },
    {
      "cell_type": "code",
      "source": [
        "(1,2,3,4)"
      ],
      "metadata": {
        "id": "mpN6eII-eCPx"
      },
      "execution_count": null,
      "outputs": []
    },
    {
      "cell_type": "code",
      "source": [
        "tuple((1,2,3,4))"
      ],
      "metadata": {
        "id": "Vy-mPwLaeD0C"
      },
      "execution_count": null,
      "outputs": []
    },
    {
      "cell_type": "code",
      "execution_count": null,
      "metadata": {
        "id": "x307F8FThsqf"
      },
      "outputs": [],
      "source": [
        "c"
      ]
    },
    {
      "cell_type": "code",
      "execution_count": null,
      "metadata": {
        "id": "rUCbCWjWy9cm"
      },
      "outputs": [],
      "source": [
        "# Devuelve el valor de el dato buscado\n",
        "c.index('Dany')"
      ]
    },
    {
      "cell_type": "code",
      "source": [
        "tuplaPrueba = (1,2,3,(1,2,(3,4)))\n",
        "tuplaPrueba[3][2][1]"
      ],
      "metadata": {
        "id": "phzplUfQ_UaH"
      },
      "execution_count": null,
      "outputs": []
    },
    {
      "cell_type": "markdown",
      "metadata": {
        "id": "PGy37Ej3uLFw"
      },
      "source": [
        "# III. Diccionarios\n",
        "Un diccionario es una colección de pares formados por una **clave y un valor** asociado a la clave.\n",
        "\n",
        "Se construyen poniendo los pares entre llaves { } separados por comas, y separando la clave del valor con dos puntos :.\n",
        "\n",
        "### Se caracterizan por:\n",
        "\n",
        "* No tienen orden.\n",
        "* Pueden contener elementos de distintos tipos.\n",
        "* Son mutables, es decir, pueden alterarse durante la ejecución de un programa.\n",
        "* **Las claves son únicas**, es decir, no pueden repetirse en un mismo diccionario, y pueden ser de cualquier tipo de datos inmutable."
      ]
    },
    {
      "cell_type": "code",
      "execution_count": null,
      "metadata": {
        "id": "eQ8oLaYaF8IA"
      },
      "outputs": [],
      "source": [
        "# Listas = []\n",
        "# Tuplas = ()\n",
        "# Diccionarios = {}"
      ]
    },
    {
      "cell_type": "code",
      "source": [
        "type([])"
      ],
      "metadata": {
        "id": "f4DugpiMg20v"
      },
      "execution_count": null,
      "outputs": []
    },
    {
      "cell_type": "code",
      "source": [
        "type(())"
      ],
      "metadata": {
        "id": "3bCLGW8Hg3E7"
      },
      "execution_count": null,
      "outputs": []
    },
    {
      "cell_type": "code",
      "execution_count": null,
      "metadata": {
        "id": "X_1R-nyIuRf9"
      },
      "outputs": [],
      "source": [
        "# Diccionario vacío\n",
        "#{}\n",
        "type({})"
      ]
    },
    {
      "cell_type": "code",
      "execution_count": null,
      "metadata": {
        "id": "4NcGHA5IugdJ"
      },
      "outputs": [],
      "source": [
        "# Diccionario con elementos de distintos tipos\n",
        "{'nombre':'Alfredo', 'despacho': 218, 'email':'asalber@ceu.es'}"
      ]
    },
    {
      "cell_type": "code",
      "execution_count": null,
      "metadata": {
        "id": "3Sch1qtsujo2"
      },
      "outputs": [],
      "source": [
        "# Diccionarios anidados\n",
        "{'nombre_completo':{'nombre': 'Alfredo', 'Apellidos': 'Sánchez Alberca'}}"
      ]
    },
    {
      "cell_type": "code",
      "execution_count": null,
      "metadata": {
        "id": "u2Fb8OTJ73Ys"
      },
      "outputs": [],
      "source": [
        "#Creamos nuestro primer diccionario\n",
        "Dic = {'avion':'vehiculo volador que tiene capacidad de transportar decenas a cientos de personas',\n",
        "      'casa':'lugar donde uno habita',\n",
        "      'astronauta':'persona que viaja al espacio'}\n",
        "Dic"
      ]
    },
    {
      "cell_type": "code",
      "execution_count": null,
      "metadata": {
        "id": "90QxbSGf1Vay"
      },
      "outputs": [],
      "source": [
        "#Accediendo a la descripcion del dato de mi diccionario.\n",
        "Dic['avion']"
      ]
    },
    {
      "cell_type": "code",
      "execution_count": null,
      "metadata": {
        "id": "l76D2y3l1npG"
      },
      "outputs": [],
      "source": [
        "#Agregando valores a nuestro diccionario\n",
        "Dic['perro'] = 'mejor amigo del hombre'"
      ]
    },
    {
      "cell_type": "code",
      "execution_count": null,
      "metadata": {
        "id": "BqnSykb614Ay"
      },
      "outputs": [],
      "source": [
        "Dic"
      ]
    },
    {
      "cell_type": "code",
      "execution_count": null,
      "metadata": {
        "id": "miIskQNU2L2O"
      },
      "outputs": [],
      "source": [
        "#Modificando un valor de un diccionario\n",
        "Dic['casa'] = 'Lugar donde las personas suelen pasar la noche'\n",
        "Dic"
      ]
    },
    {
      "cell_type": "code",
      "source": [
        "#Modificando un valor de un diccionario\n",
        "Dic['gato'] = 'Quien le araña al perro'\n",
        "Dic"
      ],
      "metadata": {
        "id": "EsOxjcbpCnEr"
      },
      "execution_count": null,
      "outputs": []
    },
    {
      "cell_type": "code",
      "execution_count": null,
      "metadata": {
        "id": "vkoP057V2WE3"
      },
      "outputs": [],
      "source": [
        "#Agregando distintos datos al diccionario\n",
        "Dic[3.1416]='Este es el valor de pi'\n",
        "Dic"
      ]
    },
    {
      "cell_type": "code",
      "execution_count": null,
      "metadata": {
        "id": "mTWHPYjS2iVG"
      },
      "outputs": [],
      "source": [
        "#Modificando un valor de un diccionario\n",
        "Dic[True]='Esto se da cuando es verdadero'\n",
        "Dic"
      ]
    },
    {
      "cell_type": "code",
      "execution_count": null,
      "metadata": {
        "id": "GcdF8j182qQa"
      },
      "outputs": [],
      "source": [
        "#Modificando un valor de un diccionario\n",
        "Dic[20]='la nota que todos sacaremos'\n",
        "Dic"
      ]
    },
    {
      "cell_type": "code",
      "source": [
        "#Modificando un valor de un diccionario\n",
        "Dic['pi']= 3.1415\n",
        "Dic"
      ],
      "metadata": {
        "id": "KY55S23WFthx"
      },
      "execution_count": null,
      "outputs": []
    },
    {
      "cell_type": "markdown",
      "metadata": {
        "id": "xkLighJ_umlj"
      },
      "source": [
        "## Acceso a los elementos de un diccionario\n",
        "* **d[clave]** devuelve el valor del diccionario d asociado a la clave clave. Si en el diccionario no existe esa clave devuelve un error.\n",
        "* **d.get(clave, valor)** devuelve el valor del diccionario d asociado a la clave clave. Si en el diccionario no existe esa clave devuelve valor, y si no se especifica un valor por defecto devuelve None."
      ]
    },
    {
      "cell_type": "code",
      "execution_count": null,
      "metadata": {
        "id": "V6GYnvO1uxF_"
      },
      "outputs": [],
      "source": [
        "a = {'nombre':'Alfredo', 'despacho': 218, 'email':'asalber@ceu.es'}\n",
        "a"
      ]
    },
    {
      "cell_type": "code",
      "execution_count": null,
      "metadata": {
        "id": "kxSz5_lv80W1"
      },
      "outputs": [],
      "source": [
        "dictClientes = {'0001':{'Nombre':'Juan','edad':9},'0002':{'Nombre':'Pedro','edad':19}}\n",
        "dictClientes\n"
      ]
    },
    {
      "cell_type": "code",
      "execution_count": null,
      "metadata": {
        "id": "PM0UQvp19SkS"
      },
      "outputs": [],
      "source": [
        "#como accedo a la informacion del diccionario, es a traves de la llave\n",
        "dictClientes['0001']"
      ]
    },
    {
      "cell_type": "code",
      "execution_count": null,
      "metadata": {
        "id": "0HsTWrRVIvaf"
      },
      "outputs": [],
      "source": [
        "dictClientes['0001']['edad']"
      ]
    },
    {
      "cell_type": "code",
      "execution_count": null,
      "metadata": {
        "id": "93AZLnZq8AK9"
      },
      "outputs": [],
      "source": [
        "#a = {'nombre':'Alfredo', 'despacho': 218, 'email':'asalber@ceu.es'}\n",
        "a['email']"
      ]
    },
    {
      "cell_type": "code",
      "execution_count": null,
      "metadata": {
        "id": "03S4YyOv76WM"
      },
      "outputs": [],
      "source": [
        "a['nombre']"
      ]
    },
    {
      "cell_type": "code",
      "execution_count": null,
      "metadata": {
        "id": "BDDZFBHD99EW"
      },
      "outputs": [],
      "source": [
        "a"
      ]
    },
    {
      "cell_type": "code",
      "execution_count": null,
      "metadata": {
        "id": "0LfBwGd3u0Tr"
      },
      "outputs": [],
      "source": [
        "a['despacho'] = 210\n",
        "a"
      ]
    },
    {
      "cell_type": "code",
      "execution_count": null,
      "metadata": {
        "id": "E3ngNI42u6FD"
      },
      "outputs": [],
      "source": [
        "# Controlar un mensaje, en caso no exista la llave solicitada\n",
        "a.get('email','No existe la llave en el diccionario')"
      ]
    },
    {
      "cell_type": "markdown",
      "metadata": {
        "id": "7Dcy9zLwvGXd"
      },
      "source": [
        "## Operaciones que **NO modifican** un diccionario\n",
        "* **len(d)** : Devuelve el número de elementos del diccionario d.\n",
        "* **min(d)** : Devuelve la mínima clave del diccionario d siempre que las claves sean comparables.\n",
        "* **max(d)** : Devuelve la máxima clave del diccionario d siempre que las claves sean comparables.\n",
        "* **sum(d)** : Devuelve la suma de las claves del diccionario d, siempre que las claves se puedan sumar.\n",
        "* **clave in d** : Devuelve True si la clave clave pertenece al diccionario d y False en caso contrario.\n",
        "* **d.keys()** : Devuelve un iterador sobre las claves de un diccionario.\n",
        "* **d.values()** : Devuelve un iterador sobre los valores de un diccionario.\n",
        "* **d.items()** : Devuelve un iterador sobre los pares clave-valor de un diccionario."
      ]
    },
    {
      "cell_type": "code",
      "execution_count": null,
      "metadata": {
        "id": "Uz-4g-IXvpk4"
      },
      "outputs": [],
      "source": [
        "a = {'nombre':'Alfredo', 'despacho': 218, 'email':'asalber@ceu.es'}\n",
        "a"
      ]
    },
    {
      "cell_type": "code",
      "execution_count": null,
      "metadata": {
        "id": "SsyguRaUvpr5"
      },
      "outputs": [],
      "source": [
        "len(a)"
      ]
    },
    {
      "cell_type": "code",
      "execution_count": null,
      "metadata": {
        "id": "SZ418aw0vaiw"
      },
      "outputs": [],
      "source": [
        "# min, se acerca a la letra \"a\" / max, se acerca a la letra \"z\"\n",
        "min(a)"
      ]
    },
    {
      "cell_type": "code",
      "execution_count": null,
      "metadata": {
        "id": "r2GdkZwfvtUT"
      },
      "outputs": [],
      "source": [
        "'nombre' in a"
      ]
    },
    {
      "cell_type": "code",
      "execution_count": null,
      "metadata": {
        "id": "ruAxrz5Ivvbb"
      },
      "outputs": [],
      "source": [
        "# Nos devuelve todas las llaves que se tienen en el diccionario.\n",
        "# a = {'nombre':'Alfredo', 'despacho': 218, 'email':'asalber@ceu.es'}\n",
        "\n",
        "a.keys()"
      ]
    },
    {
      "cell_type": "code",
      "execution_count": null,
      "metadata": {
        "id": "OiuHJVurAQ7N"
      },
      "outputs": [],
      "source": [
        "for i in a.keys():\n",
        "  print('llave:',i)\n",
        "  print('valor:',a[i])"
      ]
    },
    {
      "cell_type": "code",
      "execution_count": null,
      "metadata": {
        "id": "Da2P2gqgvxzg"
      },
      "outputs": [],
      "source": [
        "# Nos devuelve todos los resultados de las llavas, que se tienen en el diccionario.\n",
        "# a = {'nombre':'Alfredo', 'despacho': 218, 'email':'asalber@ceu.es'}\n",
        "\n",
        "a.values()"
      ]
    },
    {
      "cell_type": "code",
      "execution_count": null,
      "metadata": {
        "id": "aWKN9Vw2BDaF"
      },
      "outputs": [],
      "source": [
        "for x in a.values():\n",
        "  print('Valor: ',x)"
      ]
    },
    {
      "cell_type": "code",
      "execution_count": null,
      "metadata": {
        "id": "WniQAnYfv0Fi"
      },
      "outputs": [],
      "source": [
        "# a = {'nombre':'Alfredo', 'despacho': 218, 'email':'asalber@ceu.es'}\n",
        "\n",
        "a.items()"
      ]
    },
    {
      "cell_type": "code",
      "execution_count": null,
      "metadata": {
        "id": "e1qscunSCKDM"
      },
      "outputs": [],
      "source": [
        "for m in a.items():\n",
        "  print('clave->Valor:',m)"
      ]
    },
    {
      "cell_type": "code",
      "execution_count": null,
      "metadata": {
        "id": "oN6ZK6nnCZ9b"
      },
      "outputs": [],
      "source": [
        "for iterante in a.items():\n",
        "  #print(iterante)\n",
        "  print('Llave:',iterante[0])\n",
        "  print('Valor:',iterante[1])"
      ]
    },
    {
      "cell_type": "code",
      "execution_count": null,
      "metadata": {
        "id": "GfUBlJS5DFuT"
      },
      "outputs": [],
      "source": [
        "a.items()"
      ]
    },
    {
      "cell_type": "code",
      "execution_count": null,
      "metadata": {
        "id": "54cIBeXdC1i7"
      },
      "outputs": [],
      "source": [
        "for k,v in a.items():\n",
        "  print('Llave:',k)\n",
        "  print('Valor:',v)"
      ]
    },
    {
      "cell_type": "markdown",
      "metadata": {
        "id": "CC-06rgdv23q"
      },
      "source": [
        "\n",
        "## Operaciones que **si modifican** un diccionario\n",
        "* **d[clave] = valor** : Añade al diccionario d el par formado por la clave clave y el valor valor.\n",
        "* **d.update(d2)**= Añade los pares del diccionario d2 al diccionario d.\n",
        "* **d.pop(clave, alternativo)** : Devuelve del valor asociado a la clave clave del diccionario d y lo elimina del diccionario. Si la clave no está devuelve el valor alternativo.\n",
        "* **del d[clave]** : Elimina del diccionario d el par con la clave clave.\n",
        "* **d.clear()** : Elimina todos los pares del diccionario d de manera que se queda vacío."
      ]
    },
    {
      "cell_type": "code",
      "execution_count": null,
      "metadata": {
        "id": "RnmiO7EbwIUe"
      },
      "outputs": [],
      "source": [
        "a = {'nombre':'Alfredo', 'despacho': 218, 'email':'asalber@ceu.es'}\n",
        "a"
      ]
    },
    {
      "cell_type": "code",
      "execution_count": null,
      "metadata": {
        "id": "yIBLtfp1wLLc"
      },
      "outputs": [],
      "source": [
        "#Agregando informacion a un diccionario.\n",
        "a['universidad'] = 'Smart Data'\n",
        "a"
      ]
    },
    {
      "cell_type": "code",
      "execution_count": null,
      "metadata": {
        "id": "xJhj9growWV0"
      },
      "outputs": [],
      "source": [
        "#eliminando valores de un diccionario, a traves de su llave\n",
        "del a['email']"
      ]
    },
    {
      "cell_type": "code",
      "execution_count": null,
      "metadata": {
        "id": "1KJoLl2UuQi4"
      },
      "outputs": [],
      "source": [
        "a"
      ]
    },
    {
      "cell_type": "code",
      "execution_count": null,
      "metadata": {
        "id": "bwNSeDGAwYSe"
      },
      "outputs": [],
      "source": [
        "# Elimina toda la informacion del diccionario.\n",
        "#### !!!!! Delete sin el where en SQL!!!! Cuidado/warning\n",
        "a.clear()"
      ]
    },
    {
      "cell_type": "code",
      "execution_count": null,
      "metadata": {
        "id": "mkhgBT2cwaC6"
      },
      "outputs": [],
      "source": [
        "a"
      ]
    },
    {
      "cell_type": "code",
      "source": [
        "a = {'nombre':'Alfredo', 'despacho': 218, 'email':'asalber@ceu.es'}\n",
        "a"
      ],
      "metadata": {
        "id": "QkzH_SMpKj8I"
      },
      "execution_count": null,
      "outputs": []
    },
    {
      "cell_type": "code",
      "source": [
        "a.pop('nombre','Clave no existe')"
      ],
      "metadata": {
        "id": "hot6kRs3KIOn"
      },
      "execution_count": null,
      "outputs": []
    },
    {
      "cell_type": "code",
      "source": [
        "a.pop('email','Clave no existe')"
      ],
      "metadata": {
        "id": "98LEe0T4K0Sm"
      },
      "execution_count": null,
      "outputs": []
    },
    {
      "cell_type": "code",
      "source": [
        "a"
      ],
      "metadata": {
        "id": "e7u1z-7i-opo"
      },
      "execution_count": null,
      "outputs": []
    },
    {
      "cell_type": "code",
      "execution_count": null,
      "metadata": {
        "id": "FTNjmo3NwRtu"
      },
      "outputs": [],
      "source": [
        "# haciendo de la funcion GET\n",
        "Dic = {1:'A', 2:'B', 3:'C'}\n",
        "\n",
        "Dic.get(6,'No se encuentra el valor en el diccionario')"
      ]
    },
    {
      "cell_type": "markdown",
      "metadata": {
        "id": "kXS87XDVweiU"
      },
      "source": [
        "# Copia de diccionarios\n",
        "Existen dos formas de copiar diccionarios:\n",
        "\n",
        "* Copia por referencia **d1 = d2**: Asocia la la variable d1 el mismo diccionario que tiene asociado la variable d2, es decir, ambas variables apuntan a la misma dirección de memoria. Cualquier cambio que hagamos a través de l1 o l2 afectará al mismo diccionario.\n",
        "* Copia por valor **d1 = dict(d2)**: Crea una copia del diccionario asociado a d2 en una dirección de memoria diferente y se la asocia a d1. Las variables apuntan a direcciones de memoria diferentes que contienen los mismos datos. Cualquier cambio que hagamos a través de l1 no afectará al diccionario de l2 y viceversa."
      ]
    },
    {
      "cell_type": "code",
      "execution_count": null,
      "metadata": {
        "id": "pHGPb4EVws1T"
      },
      "outputs": [],
      "source": [
        "dic1 = {1:'A',\n",
        "     2:'B',\n",
        "     3:'C'}"
      ]
    },
    {
      "cell_type": "code",
      "execution_count": null,
      "metadata": {
        "id": "8Cq0UK_nwv3k"
      },
      "outputs": [],
      "source": [
        "# copia por referencia (espejo)\n",
        "dic2 = dic1\n",
        "dic2"
      ]
    },
    {
      "cell_type": "code",
      "execution_count": null,
      "metadata": {
        "id": "jXroXTmvwyvt"
      },
      "outputs": [],
      "source": [
        "dic2[2] = 'D'"
      ]
    },
    {
      "cell_type": "code",
      "execution_count": null,
      "metadata": {
        "id": "hDciXI1vw050"
      },
      "outputs": [],
      "source": [
        "print(dic1)\n",
        "print(dic2)"
      ]
    },
    {
      "cell_type": "code",
      "execution_count": null,
      "metadata": {
        "id": "qUx3q4ZBw4IQ"
      },
      "outputs": [],
      "source": [
        "#copia de valores\n",
        "a = {1:'A', 2:'B', 3:'C'}"
      ]
    },
    {
      "cell_type": "code",
      "execution_count": null,
      "metadata": {
        "id": "aS-3L3LAw724"
      },
      "outputs": [],
      "source": [
        "# copia por valores\n",
        "b = dict(a)\n",
        "b"
      ]
    },
    {
      "cell_type": "code",
      "execution_count": null,
      "metadata": {
        "id": "Ko-cGugFw_WA"
      },
      "outputs": [],
      "source": [
        "b[2] = 'D'"
      ]
    },
    {
      "cell_type": "code",
      "execution_count": null,
      "metadata": {
        "id": "g7CEsIdKxBza"
      },
      "outputs": [],
      "source": [
        "print(a)\n",
        "print(b)"
      ]
    },
    {
      "cell_type": "markdown",
      "metadata": {
        "id": "Px6jSNVTed5k"
      },
      "source": [
        "## Ejercicio 1 - LISTAS\n",
        "Escribir un programa que almacene las asignaturas de un curso (por ejemplo Matemáticas, Física, Química, Historia y Lengua) en una lista y la muestre por pantalla."
      ]
    },
    {
      "cell_type": "code",
      "execution_count": 209,
      "metadata": {
        "id": "4-QXOtMTejh_",
        "colab": {
          "base_uri": "https://localhost:8080/"
        },
        "outputId": "81f47302-0356-4393-a97a-d00f165948cf"
      },
      "outputs": [
        {
          "output_type": "stream",
          "name": "stdout",
          "text": [
            "Ingrese la asignatura; mate\n",
            "Ingrese la asignatura; español\n",
            "Ingrese la asignatura; ingles\n",
            "Ingrese la asignatura; \n",
            "asignatura: mate\n",
            "asignatura: español\n",
            "asignatura: ingles\n"
          ]
        }
      ],
      "source": [
        "asignaturas=list()\n",
        "while 1:\n",
        "  text=input(\"Ingrese la asignatura; \")\n",
        "  if(text==''):\n",
        "    break;\n",
        "  asignaturas.append(text)\n",
        "\n",
        "for item in asignaturas:\n",
        "  print(\"asignatura:\", item)"
      ]
    },
    {
      "cell_type": "code",
      "source": [],
      "metadata": {
        "id": "bjGYW8sA6lis"
      },
      "execution_count": null,
      "outputs": []
    },
    {
      "cell_type": "code",
      "source": [],
      "metadata": {
        "id": "qAxNRjwAgD3u"
      },
      "execution_count": null,
      "outputs": []
    },
    {
      "cell_type": "code",
      "source": [],
      "metadata": {
        "id": "YQsKDcrC6wde"
      },
      "execution_count": null,
      "outputs": []
    },
    {
      "cell_type": "markdown",
      "metadata": {
        "id": "m3LCgILeej9l"
      },
      "source": [
        "## Ejercicio 2 - LISTAS\n",
        "Escribir un programa que almacene las asignaturas de un curso (por ejemplo Matemáticas, Física, Química, Historia y Lengua) en una lista y la muestre por pantalla el mensaje:\n",
        "* Yo estudio **ASIGNATURA**, donde **ASIGNATURA** es cada una de las asignaturas de la lista."
      ]
    },
    {
      "cell_type": "code",
      "execution_count": 210,
      "metadata": {
        "id": "OhB1NyoPtcjs",
        "colab": {
          "base_uri": "https://localhost:8080/"
        },
        "outputId": "4b499036-9245-469e-a994-f2efb2265c9a"
      },
      "outputs": [
        {
          "output_type": "stream",
          "name": "stdout",
          "text": [
            "Ingrese la asignatura; Fisica\n",
            "Ingrese la asignatura; quinmica\n",
            "Ingrese la asignatura; matematicas \n",
            "Ingrese la asignatura; historia\n",
            "Ingrese la asignatura; lengua\n",
            "Ingrese la asignatura; \n",
            "Yo estudio  Fisica\n",
            "Yo estudio  quinmica\n",
            "Yo estudio  matematicas \n",
            "Yo estudio  historia\n",
            "Yo estudio  lengua\n"
          ]
        }
      ],
      "source": [
        "asignaturas=list()\n",
        "while 1:\n",
        "  text=input(\"Ingrese la asignatura; \")\n",
        "  if(text==''):\n",
        "    break;\n",
        "  asignaturas.append(text)\n",
        "\n",
        "for item in asignaturas:\n",
        "  print(\"Yo estudio \", item)"
      ]
    },
    {
      "cell_type": "markdown",
      "metadata": {
        "id": "6T6twqBNfJ7k"
      },
      "source": [
        "## Ejercicio 3 - LISTAS\n",
        "Escribir un programa que almacene las asignaturas de un curso (por ejemplo Matemáticas, Física, Química, Historia y Lengua) en una lista, pregunte al usuario la nota que ha sacado en cada asignatura, y después las muestre por pantalla con el mensaje:\n",
        "* En **ASIGNATURA** has sacado **NOTA** donde **ASIGNATURA** es cada una des las asignaturas de la lista y **NOTA** cada una de las correspondientes **NOTA** introducidas por el usuario."
      ]
    },
    {
      "cell_type": "code",
      "execution_count": 211,
      "metadata": {
        "id": "JrSYw1smfSmw",
        "colab": {
          "base_uri": "https://localhost:8080/"
        },
        "outputId": "5de86791-ccf8-4912-95a7-ca2e17e2d915"
      },
      "outputs": [
        {
          "output_type": "stream",
          "name": "stdout",
          "text": [
            "Ingrese la asignatura; mate\n",
            "Ingrese la asignatura; quimica\n",
            "Ingrese la asignatura; fisica\n",
            "Ingrese la asignatura; \n",
            "Ingrese la nota de la asignatura mate: 10\n",
            "Ingrese la nota de la asignatura quimica: 5\n",
            "Ingrese la nota de la asignatura fisica: 9\n",
            "En mate has sacado 10.0\n",
            "En quimica has sacado 5.0\n",
            "En fisica has sacado 9.0\n"
          ]
        }
      ],
      "source": [
        "asignaturas=list()\n",
        "noteasigna=list()\n",
        "while 1:\n",
        "  text=input(\"Ingrese la asignatura; \")\n",
        "  if(text==''):\n",
        "    break;\n",
        "  asignaturas.append(text)\n",
        "\n",
        "for item in asignaturas:\n",
        "  nota=float(input(f\"Ingrese la nota de la asignatura {item}: \"))\n",
        "  noteasigna.append(nota)\n",
        "\n",
        "for item,nota in zip(asignaturas,noteasigna):\n",
        "  print(f\"En {item} has sacado {nota}\")"
      ]
    },
    {
      "cell_type": "code",
      "source": [],
      "metadata": {
        "id": "jer3AQWU9qhl"
      },
      "execution_count": null,
      "outputs": []
    },
    {
      "cell_type": "markdown",
      "metadata": {
        "id": "w_IHdJlYfmKm"
      },
      "source": [
        "## Ejericicio 4 - LISTAS\n",
        "Escribir un programa que pregunte al usuario los números ganadores de la lotería primitiva, los almacene en una lista y los muestre por pantalla ordenados de menor a mayor."
      ]
    },
    {
      "cell_type": "code",
      "execution_count": null,
      "metadata": {
        "id": "iVDATFYWf_lb"
      },
      "outputs": [],
      "source": []
    },
    {
      "cell_type": "markdown",
      "metadata": {
        "id": "dcX4_Z-ofuDj"
      },
      "source": [
        "## Ejercicio 5 - LISTAS\n",
        "Escribir un programa que almacene en una lista los números del 1 al 10 y los muestre por pantalla en orden inverso separados por comas."
      ]
    },
    {
      "cell_type": "code",
      "execution_count": null,
      "metadata": {
        "id": "jjAaL7xtfv6U"
      },
      "outputs": [],
      "source": []
    },
    {
      "cell_type": "markdown",
      "metadata": {
        "id": "ZoDB6Es-fz_z"
      },
      "source": [
        "## Ejercicio 6 - LISTAS\n",
        "Escribir un programa que almacene las asignaturas de un curso (por ejemplo Matemáticas, Física, Química, Historia y Lengua) en una lista, pregunte al usuario la nota que ha sacado en cada asignatura y elimine de la lista las asignaturas aprobadas.\n",
        "\n",
        "Al final el programa debe mostrar por pantalla las asignaturas que el usuario tiene que repetir."
      ]
    },
    {
      "cell_type": "code",
      "execution_count": null,
      "metadata": {
        "id": "UQsmNzMff3yP"
      },
      "outputs": [],
      "source": []
    },
    {
      "cell_type": "markdown",
      "metadata": {
        "id": "5rLqXF8hf-cz"
      },
      "source": [
        "## Ejercicio 7 - LISTAS\n",
        "Escribir un programa que almacene el abecedario en una lista, elimine de la lista las letras que ocupen posiciones múltiplos de 3, y muestre por pantalla la lista resultante."
      ]
    },
    {
      "cell_type": "code",
      "execution_count": null,
      "metadata": {
        "id": "sf1U1iW3gAh3"
      },
      "outputs": [],
      "source": []
    },
    {
      "cell_type": "markdown",
      "metadata": {
        "id": "rHlKtJsegQhf"
      },
      "source": [
        "## Ejercicio 8 - LISTAS\n",
        "Escribir un programa que almacene en una lista los siguientes precios, 50, 75, 46, 22, 80, 65, 8, y muestre por pantalla el menor y el mayor de los precios."
      ]
    },
    {
      "cell_type": "code",
      "execution_count": null,
      "metadata": {
        "id": "pZTTz5i6h4ZQ"
      },
      "outputs": [],
      "source": []
    },
    {
      "cell_type": "markdown",
      "metadata": {
        "id": "pDtQN1gWxNVW"
      },
      "source": [
        "# Ejercicio 9 - DICCIONARIO\n",
        "Escribir un programa que guarde en una variable el diccionario {'Euro':'€', 'Dollar':'$', 'Yen':'¥'}, pregunte al usuario por una divisa y muestre su símbolo o un mensaje de aviso si la divisa no está en el diccionario."
      ]
    },
    {
      "cell_type": "code",
      "execution_count": null,
      "metadata": {
        "id": "dTU_a4I6xPUu"
      },
      "outputs": [],
      "source": []
    },
    {
      "cell_type": "markdown",
      "metadata": {
        "id": "0V-P3qCMxTOx"
      },
      "source": [
        "# Ejercicio 10 - DICCIONARIO\n",
        "Escribir un programa que pregunte al usuario su nombre, edad, dirección y teléfono y lo guarde en un diccionario. Después debe mostrar por pantalla el mensaje <nombre> tiene <edad> años, vive en <dirección> y su número de teléfono es <teléfono>."
      ]
    },
    {
      "cell_type": "code",
      "execution_count": null,
      "metadata": {
        "id": "8seda7aQxVpd"
      },
      "outputs": [],
      "source": []
    },
    {
      "cell_type": "markdown",
      "metadata": {
        "id": "gMNO6x1mxgDF"
      },
      "source": [
        "## Ejercicio 11 - DICCIONARIO\n",
        "\n",
        "Escribir un programa que guarde en un diccionario los precios de las frutas de la tabla, pregunte al usuario por una fruta, un número de kilos y muestre por pantalla el precio de ese número de kilos de fruta. Si la fruta no está en el diccionario debe mostrar un mensaje informando de ello.\n",
        "\n",
        "| Fruta | Precio|\n",
        "|:-|:-:|\n",
        "|Plátano | 1.35 |\n",
        "|Manzana | 0.80|\n",
        "|Pera| 0.85|\n",
        "|Naranja | 0.70|"
      ]
    },
    {
      "cell_type": "code",
      "execution_count": null,
      "metadata": {
        "id": "KUAglHvgxhVr"
      },
      "outputs": [],
      "source": []
    },
    {
      "cell_type": "code",
      "execution_count": null,
      "metadata": {
        "id": "huHvXfNRPgaW"
      },
      "outputs": [],
      "source": []
    },
    {
      "cell_type": "markdown",
      "metadata": {
        "id": "87L2esSiTzKA"
      },
      "source": [
        "## Ejercicio 12 - DICCIONARIO\n",
        "\n",
        "Escribir un programa que almacene el diccionario con los créditos de las asignaturas de un curso `{'Matemáticas': 6, 'Física': 4, 'Química': 5}` y después muestre por pantalla los créditos de cada asignatura en el formato `<asignatura> tiene <créditos> créditos`, donde `<asignatura>` es cada una de las asignaturas del curso, y `<créditos>` son sus créditos. Al final debe mostrar también el número total de créditos del curso."
      ]
    },
    {
      "cell_type": "code",
      "execution_count": null,
      "metadata": {
        "id": "WrsLAiadT2l5"
      },
      "outputs": [],
      "source": []
    },
    {
      "cell_type": "markdown",
      "metadata": {
        "id": "t4S2a04_UYhl"
      },
      "source": [
        "## Ejercicio - CHALLENGE (OPCIONAL)\n",
        "\n",
        "Escribir un programa que permita gestionar la base de datos de clientes de una empresa. Los clientes se guardarán en un diccionario en el que la clave de cada cliente será su NIF, y el valor será otro diccionario con los datos del cliente (nombre, dirección, teléfono, correo, preferente), donde preferente tendrá el valor `True` si se trata de un cliente preferente. El programa debe preguntar al usuario por una opción del siguiente menú: (1) Añadir cliente, (2) Eliminar cliente, (3) Mostrar cliente, (4) Listar todos los clientes, (5) Listar clientes preferentes, (6) Terminar. En función de la opción elegida el programa tendrá que hacer lo siguiente:\n",
        "\n",
        "1. Preguntar los datos del cliente, crear un diccionario con los datos y añadirlo a la base de datos.\n",
        "2. Preguntar por el NIF del cliente y eliminar sus datos de la base de datos.\n",
        "3. Preguntar por el NIF del cliente y mostrar sus datos.\n",
        "4. Mostrar lista de todos los clientes de la base datos con su NIF y nombre.\n",
        "5. Mostrar la lista de clientes preferentes de la base de datos con su NIF y nombre.\n",
        "6. Terminar el programa."
      ]
    },
    {
      "cell_type": "code",
      "execution_count": null,
      "metadata": {
        "id": "wpdMJwauUblY"
      },
      "outputs": [],
      "source": []
    },
    {
      "cell_type": "markdown",
      "metadata": {
        "id": "b0oTwUtbU1HY"
      },
      "source": [
        "## Ejercicio OBLIGATORIO\n",
        "\n",
        "Escribir un programa que pregunte por una muestra de números, separados por comas, los guarde en una tupla y muestre por pantalla su media."
      ]
    },
    {
      "cell_type": "code",
      "execution_count": null,
      "metadata": {
        "id": "lvoHbdVlU3vv"
      },
      "outputs": [],
      "source": []
    }
  ],
  "metadata": {
    "colab": {
      "provenance": [],
      "include_colab_link": true
    },
    "kernelspec": {
      "display_name": "Python 3",
      "name": "python3"
    },
    "language_info": {
      "name": "python"
    }
  },
  "nbformat": 4,
  "nbformat_minor": 0
}